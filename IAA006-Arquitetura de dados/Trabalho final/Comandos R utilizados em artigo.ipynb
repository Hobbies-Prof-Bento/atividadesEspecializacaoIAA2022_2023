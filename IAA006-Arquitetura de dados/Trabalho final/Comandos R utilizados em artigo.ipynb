{
 "cells": [
  {
   "cell_type": "markdown",
   "id": "f7a2aca5",
   "metadata": {},
   "source": [
    "# Comando utilizados para gerar dados para o artigo"
   ]
  },
  {
   "cell_type": "markdown",
   "id": "2f94d81c",
   "metadata": {},
   "source": [
    "#### Treinando e testando banco de dados completo"
   ]
  },
  {
   "cell_type": "code",
   "execution_count": 14,
   "id": "036328de",
   "metadata": {},
   "outputs": [
    {
     "data": {
      "text/plain": [
       "Neural Network \n",
       "\n",
       "3343 samples\n",
       "   8 predictor\n",
       "   3 classes: 'F', 'I', 'M' \n",
       "\n",
       "No pre-processing\n",
       "Resampling: Bootstrapped (25 reps) \n",
       "Summary of sample sizes: 3343, 3343, 3343, 3343, 3343, 3343, ... \n",
       "Resampling results across tuning parameters:\n",
       "\n",
       "  size  decay  Accuracy   Kappa    \n",
       "  1     0e+00  0.5231483  0.2766614\n",
       "  1     1e-04  0.5070714  0.2477786\n",
       "  1     1e-01  0.5365542  0.2969006\n",
       "  3     0e+00  0.5427540  0.3050730\n",
       "  3     1e-04  0.5450303  0.3070284\n",
       "  3     1e-01  0.5405140  0.3039667\n",
       "  5     0e+00  0.5492474  0.3169007\n",
       "  5     1e-04  0.5449919  0.3098661\n",
       "  5     1e-01  0.5432635  0.3093871\n",
       "\n",
       "Accuracy was used to select the optimal model using the largest value.\n",
       "The final values used for the model were size = 5 and decay = 0."
      ]
     },
     "metadata": {},
     "output_type": "display_data"
    }
   ],
   "source": [
    "#Importando biblioteca\n",
    "library(caret)\n",
    "\n",
    "#Criando dataFrame dos dados de veículos\n",
    "dados <- read.csv (\"abalone.csv\")\n",
    "\n",
    "#Aplicando semente para dados pseudo-aleatórios\n",
    "set.seed(85941)\n",
    "\n",
    "#Separando dados de teste e de treino\n",
    "indices <- createDataPartition(dados$sexo, p=0.8, list=F)\n",
    "treino <- dados[indices,]\n",
    "teste <- dados[-indices,]\n",
    "\n",
    "#Aplicando semente para dados pseudo-aleatórios\n",
    "set.seed(85941)\n",
    "\n",
    "#Realizando treinamento com dados de treino\n",
    "rna <- train(sexo~., data = treino, method = \"nnet\", trace=F)\n",
    "\n",
    "#Exibindo resultado do treino\n",
    "rna"
   ]
  },
  {
   "cell_type": "code",
   "execution_count": 15,
   "id": "b8ea7d4c",
   "metadata": {},
   "outputs": [
    {
     "data": {
      "text/plain": [
       "Confusion Matrix and Statistics\n",
       "\n",
       "          Reference\n",
       "Prediction   F   I   M\n",
       "         F  60   4  49\n",
       "         I  28 207  52\n",
       "         M 173  57 204\n",
       "\n",
       "Overall Statistics\n",
       "                                          \n",
       "               Accuracy : 0.5647          \n",
       "                 95% CI : (0.5303, 0.5987)\n",
       "    No Information Rate : 0.3657          \n",
       "    P-Value [Acc > NIR] : < 2.2e-16       \n",
       "                                          \n",
       "                  Kappa : 0.3372          \n",
       "                                          \n",
       " Mcnemar's Test P-Value : < 2.2e-16       \n",
       "\n",
       "Statistics by Class:\n",
       "\n",
       "                     Class: F Class: I Class: M\n",
       "Sensitivity           0.22989   0.7724   0.6689\n",
       "Specificity           0.90750   0.8587   0.5652\n",
       "Pos Pred Value        0.53097   0.7213   0.4700\n",
       "Neg Pred Value        0.72122   0.8885   0.7475\n",
       "Prevalence            0.31295   0.3213   0.3657\n",
       "Detection Rate        0.07194   0.2482   0.2446\n",
       "Detection Prevalence  0.13549   0.3441   0.5204\n",
       "Balanced Accuracy     0.56869   0.8155   0.6170"
      ]
     },
     "metadata": {},
     "output_type": "display_data"
    }
   ],
   "source": [
    "#Testando modelo treinado\n",
    "predict.rna <- predict(rna, teste)\n",
    "\n",
    "#Exibindo Matrix de confusão do resultado\n",
    "confusionMatrix(predict.rna, as.factor(teste$sexo))"
   ]
  },
  {
   "cell_type": "markdown",
   "id": "8a35d6e2",
   "metadata": {},
   "source": [
    "#### Teste de multicolinearidade"
   ]
  },
  {
   "cell_type": "code",
   "execution_count": 34,
   "id": "277225d1",
   "metadata": {},
   "outputs": [
    {
     "data": {
      "text/html": [
       "<table>\n",
       "<thead><tr><th></th><th scope=col>lenght</th><th scope=col>diameter</th><th scope=col>height</th><th scope=col>whole_weight</th><th scope=col>shucked_weight</th><th scope=col>viscera_weight</th><th scope=col>shell_weight</th><th scope=col>rings</th></tr></thead>\n",
       "<tbody>\n",
       "\t<tr><th scope=row>lenght</th><td>1.0000000</td><td>0.9868116</td><td>0.8275536</td><td>0.5085232</td><td>0.3487925</td><td>0.9030177</td><td>0.8977056</td><td>0.5567196</td></tr>\n",
       "\t<tr><th scope=row>diameter</th><td>0.9868116</td><td>1.0000000</td><td>0.8336837</td><td>0.5075751</td><td>0.3447448</td><td>0.8997244</td><td>0.9053298</td><td>0.5746599</td></tr>\n",
       "\t<tr><th scope=row>height</th><td>0.8275536</td><td>0.8336837</td><td>1.0000000</td><td>0.4489821</td><td>0.3244367</td><td>0.7983193</td><td>0.8173380</td><td>0.5574673</td></tr>\n",
       "\t<tr><th scope=row>whole_weight</th><td>0.5085232</td><td>0.5075751</td><td>0.4489821</td><td>1.0000000</td><td>0.2639233</td><td>0.5792493</td><td>0.5538275</td><td>0.2653476</td></tr>\n",
       "\t<tr><th scope=row>shucked_weight</th><td>0.3487925</td><td>0.3447448</td><td>0.3244367</td><td>0.2639233</td><td>1.0000000</td><td>0.4257776</td><td>0.3857023</td><td>0.1356531</td></tr>\n",
       "\t<tr><th scope=row>viscera_weight</th><td>0.9030177</td><td>0.8997244</td><td>0.7983193</td><td>0.5792493</td><td>0.4257776</td><td>1.0000000</td><td>0.9076563</td><td>0.5038192</td></tr>\n",
       "\t<tr><th scope=row>shell_weight</th><td>0.8977056</td><td>0.9053298</td><td>0.8173380</td><td>0.5538275</td><td>0.3857023</td><td>0.9076563</td><td>1.0000000</td><td>0.6275740</td></tr>\n",
       "\t<tr><th scope=row>rings</th><td>0.5567196</td><td>0.5746599</td><td>0.5574673</td><td>0.2653476</td><td>0.1356531</td><td>0.5038192</td><td>0.6275740</td><td>1.0000000</td></tr>\n",
       "</tbody>\n",
       "</table>\n"
      ],
      "text/latex": [
       "\\begin{tabular}{r|llllllll}\n",
       "  & lenght & diameter & height & whole\\_weight & shucked\\_weight & viscera\\_weight & shell\\_weight & rings\\\\\n",
       "\\hline\n",
       "\tlenght & 1.0000000 & 0.9868116 & 0.8275536 & 0.5085232 & 0.3487925 & 0.9030177 & 0.8977056 & 0.5567196\\\\\n",
       "\tdiameter & 0.9868116 & 1.0000000 & 0.8336837 & 0.5075751 & 0.3447448 & 0.8997244 & 0.9053298 & 0.5746599\\\\\n",
       "\theight & 0.8275536 & 0.8336837 & 1.0000000 & 0.4489821 & 0.3244367 & 0.7983193 & 0.8173380 & 0.5574673\\\\\n",
       "\twhole\\_weight & 0.5085232 & 0.5075751 & 0.4489821 & 1.0000000 & 0.2639233 & 0.5792493 & 0.5538275 & 0.2653476\\\\\n",
       "\tshucked\\_weight & 0.3487925 & 0.3447448 & 0.3244367 & 0.2639233 & 1.0000000 & 0.4257776 & 0.3857023 & 0.1356531\\\\\n",
       "\tviscera\\_weight & 0.9030177 & 0.8997244 & 0.7983193 & 0.5792493 & 0.4257776 & 1.0000000 & 0.9076563 & 0.5038192\\\\\n",
       "\tshell\\_weight & 0.8977056 & 0.9053298 & 0.8173380 & 0.5538275 & 0.3857023 & 0.9076563 & 1.0000000 & 0.6275740\\\\\n",
       "\trings & 0.5567196 & 0.5746599 & 0.5574673 & 0.2653476 & 0.1356531 & 0.5038192 & 0.6275740 & 1.0000000\\\\\n",
       "\\end{tabular}\n"
      ],
      "text/markdown": [
       "\n",
       "| <!--/--> | lenght | diameter | height | whole_weight | shucked_weight | viscera_weight | shell_weight | rings |\n",
       "|---|---|---|---|---|---|---|---|---|\n",
       "| lenght | 1.0000000 | 0.9868116 | 0.8275536 | 0.5085232 | 0.3487925 | 0.9030177 | 0.8977056 | 0.5567196 |\n",
       "| diameter | 0.9868116 | 1.0000000 | 0.8336837 | 0.5075751 | 0.3447448 | 0.8997244 | 0.9053298 | 0.5746599 |\n",
       "| height | 0.8275536 | 0.8336837 | 1.0000000 | 0.4489821 | 0.3244367 | 0.7983193 | 0.8173380 | 0.5574673 |\n",
       "| whole_weight | 0.5085232 | 0.5075751 | 0.4489821 | 1.0000000 | 0.2639233 | 0.5792493 | 0.5538275 | 0.2653476 |\n",
       "| shucked_weight | 0.3487925 | 0.3447448 | 0.3244367 | 0.2639233 | 1.0000000 | 0.4257776 | 0.3857023 | 0.1356531 |\n",
       "| viscera_weight | 0.9030177 | 0.8997244 | 0.7983193 | 0.5792493 | 0.4257776 | 1.0000000 | 0.9076563 | 0.5038192 |\n",
       "| shell_weight | 0.8977056 | 0.9053298 | 0.8173380 | 0.5538275 | 0.3857023 | 0.9076563 | 1.0000000 | 0.6275740 |\n",
       "| rings | 0.5567196 | 0.5746599 | 0.5574673 | 0.2653476 | 0.1356531 | 0.5038192 | 0.6275740 | 1.0000000 |\n",
       "\n"
      ],
      "text/plain": [
       "               lenght    diameter  height    whole_weight shucked_weight\n",
       "lenght         1.0000000 0.9868116 0.8275536 0.5085232    0.3487925     \n",
       "diameter       0.9868116 1.0000000 0.8336837 0.5075751    0.3447448     \n",
       "height         0.8275536 0.8336837 1.0000000 0.4489821    0.3244367     \n",
       "whole_weight   0.5085232 0.5075751 0.4489821 1.0000000    0.2639233     \n",
       "shucked_weight 0.3487925 0.3447448 0.3244367 0.2639233    1.0000000     \n",
       "viscera_weight 0.9030177 0.8997244 0.7983193 0.5792493    0.4257776     \n",
       "shell_weight   0.8977056 0.9053298 0.8173380 0.5538275    0.3857023     \n",
       "rings          0.5567196 0.5746599 0.5574673 0.2653476    0.1356531     \n",
       "               viscera_weight shell_weight rings    \n",
       "lenght         0.9030177      0.8977056    0.5567196\n",
       "diameter       0.8997244      0.9053298    0.5746599\n",
       "height         0.7983193      0.8173380    0.5574673\n",
       "whole_weight   0.5792493      0.5538275    0.2653476\n",
       "shucked_weight 0.4257776      0.3857023    0.1356531\n",
       "viscera_weight 1.0000000      0.9076563    0.5038192\n",
       "shell_weight   0.9076563      1.0000000    0.6275740\n",
       "rings          0.5038192      0.6275740    1.0000000"
      ]
     },
     "metadata": {},
     "output_type": "display_data"
    }
   ],
   "source": [
    "cor(dados[,c(\"lenght\", \"diameter\", \"height\", \"whole_weight\", \"shucked_weight\", \"viscera_weight\", \"shell_weight\", \"rings\")], \n",
    "   use=\"complete\")"
   ]
  },
  {
   "cell_type": "markdown",
   "id": "5290ee1f",
   "metadata": {},
   "source": [
    "#### Removendo dados colineares"
   ]
  },
  {
   "cell_type": "code",
   "execution_count": 38,
   "id": "f70ce67c",
   "metadata": {},
   "outputs": [],
   "source": [
    "dados_sem_lenght <- dados\n",
    "dados_sem_lenght$lenght <- NULL\n",
    "\n",
    "dados_sem_diameter <- dados\n",
    "dados_sem_diameter$diameter <- NULL\n",
    "\n",
    "dados_sem_ambos <- dados\n",
    "dados_sem_ambos$lenght <- NULL\n",
    "dados_sem_ambos$diameter <- NULL"
   ]
  },
  {
   "cell_type": "code",
   "execution_count": 40,
   "id": "fa18ba1f",
   "metadata": {},
   "outputs": [
    {
     "data": {
      "text/plain": [
       "Neural Network \n",
       "\n",
       "3343 samples\n",
       "   7 predictor\n",
       "   3 classes: 'F', 'I', 'M' \n",
       "\n",
       "No pre-processing\n",
       "Resampling: Bootstrapped (25 reps) \n",
       "Summary of sample sizes: 3343, 3343, 3343, 3343, 3343, 3343, ... \n",
       "Resampling results across tuning parameters:\n",
       "\n",
       "  size  decay  Accuracy   Kappa    \n",
       "  1     0e+00  0.5171737  0.2680564\n",
       "  1     1e-04  0.4995087  0.2317252\n",
       "  1     1e-01  0.5321359  0.2903148\n",
       "  3     0e+00  0.5321607  0.2912447\n",
       "  3     1e-04  0.5329139  0.2923654\n",
       "  3     1e-01  0.5357890  0.2982412\n",
       "  5     0e+00  0.5388211  0.3015475\n",
       "  5     1e-04  0.5365852  0.2972530\n",
       "  5     1e-01  0.5407998  0.3056494\n",
       "\n",
       "Accuracy was used to select the optimal model using the largest value.\n",
       "The final values used for the model were size = 5 and decay = 0.1."
      ]
     },
     "metadata": {},
     "output_type": "display_data"
    },
    {
     "data": {
      "text/plain": [
       "Confusion Matrix and Statistics\n",
       "\n",
       "          Reference\n",
       "Prediction   F   I   M\n",
       "         F  17   2  26\n",
       "         I  24 205  53\n",
       "         M 220  61 226\n",
       "\n",
       "Overall Statistics\n",
       "                                          \n",
       "               Accuracy : 0.5372          \n",
       "                 95% CI : (0.5026, 0.5714)\n",
       "    No Information Rate : 0.3657          \n",
       "    P-Value [Acc > NIR] : < 2.2e-16       \n",
       "                                          \n",
       "                  Kappa : 0.2903          \n",
       "                                          \n",
       " Mcnemar's Test P-Value : < 2.2e-16       \n",
       "\n",
       "Statistics by Class:\n",
       "\n",
       "                     Class: F Class: I Class: M\n",
       "Sensitivity           0.06513   0.7649   0.7410\n",
       "Specificity           0.95113   0.8640   0.4688\n",
       "Pos Pred Value        0.37778   0.7270   0.4458\n",
       "Neg Pred Value        0.69075   0.8859   0.7584\n",
       "Prevalence            0.31295   0.3213   0.3657\n",
       "Detection Rate        0.02038   0.2458   0.2710\n",
       "Detection Prevalence  0.05396   0.3381   0.6079\n",
       "Balanced Accuracy     0.50813   0.8144   0.6049"
      ]
     },
     "metadata": {},
     "output_type": "display_data"
    }
   ],
   "source": [
    "#Aplicando semente para dados pseudo-aleatórios\n",
    "set.seed(85941)\n",
    "\n",
    "#Separando dados de teste e de treino\n",
    "indices <- createDataPartition(dados_sem_lenght$sexo, p=0.8, list=F)\n",
    "treino <- dados_sem_lenght[indices,]\n",
    "teste <- dados_sem_lenght[-indices,]\n",
    "\n",
    "#Aplicando semente para dados pseudo-aleatórios\n",
    "set.seed(85941)\n",
    "\n",
    "#Realizando treinamento com dados de treino\n",
    "rna <- train(sexo~., data = treino, method = \"nnet\", trace=F)\n",
    "\n",
    "#Exibindo resultado do treino\n",
    "rna\n",
    "\n",
    "#Testando modelo treinado\n",
    "predict.rna <- predict(rna, teste)\n",
    "\n",
    "#Exibindo Matrix de confusão do resultado\n",
    "confusionMatrix(predict.rna, as.factor(teste$sexo))"
   ]
  },
  {
   "cell_type": "code",
   "execution_count": 41,
   "id": "be437143",
   "metadata": {},
   "outputs": [
    {
     "data": {
      "text/plain": [
       "Neural Network \n",
       "\n",
       "3343 samples\n",
       "   7 predictor\n",
       "   3 classes: 'F', 'I', 'M' \n",
       "\n",
       "No pre-processing\n",
       "Resampling: Bootstrapped (25 reps) \n",
       "Summary of sample sizes: 3343, 3343, 3343, 3343, 3343, 3343, ... \n",
       "Resampling results across tuning parameters:\n",
       "\n",
       "  size  decay  Accuracy   Kappa    \n",
       "  1     0e+00  0.5168377  0.2645698\n",
       "  1     1e-04  0.4992472  0.2349981\n",
       "  1     1e-01  0.5374844  0.2981972\n",
       "  3     0e+00  0.5418060  0.3036254\n",
       "  3     1e-04  0.5447982  0.3080808\n",
       "  3     1e-01  0.5375622  0.3002411\n",
       "  5     0e+00  0.5451505  0.3116834\n",
       "  5     1e-04  0.5505340  0.3175745\n",
       "  5     1e-01  0.5441642  0.3111190\n",
       "\n",
       "Accuracy was used to select the optimal model using the largest value.\n",
       "The final values used for the model were size = 5 and decay = 1e-04."
      ]
     },
     "metadata": {},
     "output_type": "display_data"
    },
    {
     "data": {
      "text/plain": [
       "Confusion Matrix and Statistics\n",
       "\n",
       "          Reference\n",
       "Prediction   F   I   M\n",
       "         F   0   0   0\n",
       "         I  28 203  54\n",
       "         M 233  65 251\n",
       "\n",
       "Overall Statistics\n",
       "                                          \n",
       "               Accuracy : 0.5444          \n",
       "                 95% CI : (0.5099, 0.5786)\n",
       "    No Information Rate : 0.3657          \n",
       "    P-Value [Acc > NIR] : < 2.2e-16       \n",
       "                                          \n",
       "                  Kappa : 0.2984          \n",
       "                                          \n",
       " Mcnemar's Test P-Value : < 2.2e-16       \n",
       "\n",
       "Statistics by Class:\n",
       "\n",
       "                     Class: F Class: I Class: M\n",
       "Sensitivity            0.0000   0.7575   0.8230\n",
       "Specificity            1.0000   0.8551   0.4367\n",
       "Pos Pred Value            NaN   0.7123   0.4572\n",
       "Neg Pred Value         0.6871   0.8816   0.8105\n",
       "Prevalence             0.3129   0.3213   0.3657\n",
       "Detection Rate         0.0000   0.2434   0.3010\n",
       "Detection Prevalence   0.0000   0.3417   0.6583\n",
       "Balanced Accuracy      0.5000   0.8063   0.6298"
      ]
     },
     "metadata": {},
     "output_type": "display_data"
    }
   ],
   "source": [
    "#Aplicando semente para dados pseudo-aleatórios\n",
    "set.seed(85941)\n",
    "\n",
    "#Separando dados de teste e de treino\n",
    "indices <- createDataPartition(dados_sem_diameter$sexo, p=0.8, list=F)\n",
    "treino <- dados_sem_diameter[indices,]\n",
    "teste <- dados_sem_diameter[-indices,]\n",
    "\n",
    "#Aplicando semente para dados pseudo-aleatórios\n",
    "set.seed(85941)\n",
    "\n",
    "#Realizando treinamento com dados de treino\n",
    "rna <- train(sexo~., data = treino, method = \"nnet\", trace=F)\n",
    "\n",
    "#Exibindo resultado do treino\n",
    "rna\n",
    "\n",
    "#Testando modelo treinado\n",
    "predict.rna <- predict(rna, teste)\n",
    "\n",
    "#Exibindo Matrix de confusão do resultado\n",
    "confusionMatrix(predict.rna, as.factor(teste$sexo))"
   ]
  },
  {
   "cell_type": "code",
   "execution_count": 42,
   "id": "bfb70d3b",
   "metadata": {},
   "outputs": [
    {
     "data": {
      "text/plain": [
       "Neural Network \n",
       "\n",
       "3343 samples\n",
       "   6 predictor\n",
       "   3 classes: 'F', 'I', 'M' \n",
       "\n",
       "No pre-processing\n",
       "Resampling: Bootstrapped (25 reps) \n",
       "Summary of sample sizes: 3343, 3343, 3343, 3343, 3343, 3343, ... \n",
       "Resampling results across tuning parameters:\n",
       "\n",
       "  size  decay  Accuracy   Kappa    \n",
       "  1     0e+00  0.5236857  0.2771472\n",
       "  1     1e-04  0.5233071  0.2764964\n",
       "  1     1e-01  0.5248512  0.2810961\n",
       "  3     0e+00  0.5358201  0.2964802\n",
       "  3     1e-04  0.5328182  0.2928226\n",
       "  3     1e-01  0.5366648  0.2989633\n",
       "  5     0e+00  0.5384055  0.3013747\n",
       "  5     1e-04  0.5412912  0.3062379\n",
       "  5     1e-01  0.5360862  0.2978126\n",
       "\n",
       "Accuracy was used to select the optimal model using the largest value.\n",
       "The final values used for the model were size = 5 and decay = 1e-04."
      ]
     },
     "metadata": {},
     "output_type": "display_data"
    },
    {
     "data": {
      "text/plain": [
       "Confusion Matrix and Statistics\n",
       "\n",
       "          Reference\n",
       "Prediction   F   I   M\n",
       "         F  59   4  57\n",
       "         I  29 207  59\n",
       "         M 173  57 189\n",
       "\n",
       "Overall Statistics\n",
       "                                          \n",
       "               Accuracy : 0.5456          \n",
       "                 95% CI : (0.5111, 0.5797)\n",
       "    No Information Rate : 0.3657          \n",
       "    P-Value [Acc > NIR] : < 2.2e-16       \n",
       "                                          \n",
       "                  Kappa : 0.3089          \n",
       "                                          \n",
       " Mcnemar's Test P-Value : < 2.2e-16       \n",
       "\n",
       "Statistics by Class:\n",
       "\n",
       "                     Class: F Class: I Class: M\n",
       "Sensitivity           0.22605   0.7724   0.6197\n",
       "Specificity           0.89354   0.8445   0.5652\n",
       "Pos Pred Value        0.49167   0.7017   0.4511\n",
       "Neg Pred Value        0.71709   0.8868   0.7205\n",
       "Prevalence            0.31295   0.3213   0.3657\n",
       "Detection Rate        0.07074   0.2482   0.2266\n",
       "Detection Prevalence  0.14388   0.3537   0.5024\n",
       "Balanced Accuracy     0.55980   0.8085   0.5924"
      ]
     },
     "metadata": {},
     "output_type": "display_data"
    }
   ],
   "source": [
    "#Aplicando semente para dados pseudo-aleatórios\n",
    "set.seed(85941)\n",
    "\n",
    "#Separando dados de teste e de treino\n",
    "indices <- createDataPartition(dados_sem_ambos$sexo, p=0.8, list=F)\n",
    "treino <- dados_sem_ambos[indices,]\n",
    "teste <- dados_sem_ambos[-indices,]\n",
    "\n",
    "#Aplicando semente para dados pseudo-aleatórios\n",
    "set.seed(85941)\n",
    "\n",
    "#Realizando treinamento com dados de treino\n",
    "rna <- train(sexo~., data = treino, method = \"nnet\", trace=F)\n",
    "\n",
    "#Exibindo resultado do treino\n",
    "rna\n",
    "\n",
    "#Testando modelo treinado\n",
    "predict.rna <- predict(rna, teste)\n",
    "\n",
    "#Exibindo Matrix de confusão do resultado\n",
    "confusionMatrix(predict.rna, as.factor(teste$sexo))"
   ]
  }
 ],
 "metadata": {
  "kernelspec": {
   "display_name": "R",
   "language": "R",
   "name": "ir"
  },
  "language_info": {
   "codemirror_mode": "r",
   "file_extension": ".r",
   "mimetype": "text/x-r-source",
   "name": "R",
   "pygments_lexer": "r",
   "version": "3.6.1"
  }
 },
 "nbformat": 4,
 "nbformat_minor": 5
}
