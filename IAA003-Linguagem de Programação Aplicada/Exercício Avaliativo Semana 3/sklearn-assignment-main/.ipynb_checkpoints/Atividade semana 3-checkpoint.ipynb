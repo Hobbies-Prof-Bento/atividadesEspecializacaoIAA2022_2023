{
 "cells": [
  {
   "cell_type": "markdown",
   "id": "b35e7859",
   "metadata": {},
   "source": [
    "Curso de Especialização de Inteligência Artificial Aplicada\n",
    "\n",
    "Setor de Educação Profissional e Tecnológica - SEPT\n",
    "\n",
    "Universidade Federal do Paraná - UFPR\n",
    "\n",
    "---\n",
    "\n",
    "**IAA003 - Linguagem de Programação Aplicada**\n",
    "\n",
    "Prof. Alexander Robert Kutzke\n",
    "\n",
    "Estudante: Clístenes Grizafis Bento\n",
    "\n",
    "\n",
    "# Implementação com Scikit-Learn\n",
    "\n",
    "Utilizando a base de dados presente no repositório:\n",
    "\n",
    "1. Escreva *pipeline de classificação de texto* para classificar reviews de filmes como positivos e negativos;\n",
    "2. Encontre um bom conjunto de parâmetros utilizando `GridSearchCV`;\n",
    "3. Avalie o classificador utilizando parte do conjunto de dados (previamente separado para testes).\n",
    "4. Repita os passos 1, 2 e 3 utilizando um algoritmo de classificação diferente;\n",
    "5. Escreva um pequeno texto comparando os resultados obtidos para cada algoritmo.\n",
    "\n",
    "O texto pode ser escrito em um \"Jupyter Notebook\" juntamente com o código. Ou qualquer outro tipo de documento.\n"
   ]
  },
  {
   "cell_type": "markdown",
   "id": "a495719e",
   "metadata": {},
   "source": [
    "### 1 Escreva pipeline de classificação de texto para classificar reviews de filmes como positivos e negativos"
   ]
  },
  {
   "cell_type": "markdown",
   "id": "d2708155",
   "metadata": {},
   "source": [
    "#### 1.1 Importando Bibliotecas"
   ]
  },
  {
   "cell_type": "code",
   "execution_count": 26,
   "id": "a70b154c",
   "metadata": {},
   "outputs": [],
   "source": [
    "from sklearn.pipeline import Pipeline\n",
    "from sklearn.model_selection import GridSearchCV\n",
    "from sklearn.datasets import load_files\n",
    "from sklearn.model_selection import train_test_split\n",
    "from sklearn import metrics\n",
    "from sklearn.feature_extraction.text import CountVectorizer\n",
    "from sklearn.feature_extraction.text import TfidfTransformer\n",
    "from sklearn.naive_bayes import GaussianNB, MultinomialNB\n",
    "import numpy as np"
   ]
  },
  {
   "cell_type": "markdown",
   "id": "47397f27",
   "metadata": {},
   "source": [
    "#### 1.2 Iniciando o método principal e importando os dados"
   ]
  },
  {
   "cell_type": "code",
   "execution_count": 27,
   "id": "98053fc2",
   "metadata": {},
   "outputs": [
    {
     "name": "stdout",
     "output_type": "stream",
     "text": [
      "n_samples: 2000\n"
     ]
    }
   ],
   "source": [
    "if __name__ == \"__main__\":    \n",
    "    movie_reviews_data_folder = r\"./data\"\n",
    "    dataset = load_files(movie_reviews_data_folder, shuffle=False)\n",
    "    print(\"n_samples: %d\" % len(dataset.data))  "
   ]
  },
  {
   "cell_type": "markdown",
   "id": "e9dd12e3",
   "metadata": {},
   "source": [
    "#### 1.3 Separando dados de treino e de teste"
   ]
  },
  {
   "cell_type": "code",
   "execution_count": 28,
   "id": "26c93cca",
   "metadata": {},
   "outputs": [],
   "source": [
    "docs_train, docs_test, y_train, y_test = train_test_split(\n",
    "        dataset.data, dataset.target, test_size=0.25, random_state=None)"
   ]
  },
  {
   "cell_type": "markdown",
   "id": "de4585b6",
   "metadata": {},
   "source": [
    "#### 1.4 Criando Pipeline de classificação utilizando algoritmo MultinomialNB"
   ]
  },
  {
   "cell_type": "code",
   "execution_count": 29,
   "id": "ef18d2de",
   "metadata": {},
   "outputs": [],
   "source": [
    "text_clf = Pipeline([('vect', CountVectorizer()),\n",
    "                         ('tfidf', TfidfTransformer()),\n",
    "                         ('clf', MultinomialNB()),\n",
    "    ])"
   ]
  },
  {
   "cell_type": "markdown",
   "id": "07713b50",
   "metadata": {},
   "source": [
    "### 2 Encontre um bom conjunto de parâmetros utilizando GridSearchCV"
   ]
  },
  {
   "cell_type": "markdown",
   "id": "4a6840fb",
   "metadata": {},
   "source": [
    "#### 2.1 Aplicando GridSearchCV"
   ]
  },
  {
   "cell_type": "code",
   "execution_count": 30,
   "id": "e34f2773",
   "metadata": {},
   "outputs": [],
   "source": [
    "parameters = {'vect__ngram_range': [(1, 1), (1, 2)],\n",
    "                  'tfidf__use_idf': (True, False),\n",
    "                  'clf__alpha': (1e-2, 1e-3),\n",
    "                  }\n",
    "    "
   ]
  },
  {
   "cell_type": "code",
   "execution_count": 31,
   "id": "64454257",
   "metadata": {},
   "outputs": [],
   "source": [
    "gs_clf = GridSearchCV(text_clf, parameters, n_jobs=-1)"
   ]
  },
  {
   "cell_type": "code",
   "execution_count": 32,
   "id": "6d717b12",
   "metadata": {},
   "outputs": [
    {
     "data": {
      "text/plain": [
       "GridSearchCV(estimator=Pipeline(steps=[('vect', CountVectorizer()),\n",
       "                                       ('tfidf', TfidfTransformer()),\n",
       "                                       ('clf', MultinomialNB())]),\n",
       "             n_jobs=-1,\n",
       "             param_grid={'clf__alpha': (0.01, 0.001),\n",
       "                         'tfidf__use_idf': (True, False),\n",
       "                         'vect__ngram_range': [(1, 1), (1, 2)]})"
      ]
     },
     "execution_count": 32,
     "metadata": {},
     "output_type": "execute_result"
    }
   ],
   "source": [
    "gs_clf.fit(docs_train, y_train)"
   ]
  },
  {
   "cell_type": "markdown",
   "id": "360656a2",
   "metadata": {},
   "source": [
    "#### 2.2 Verificando o melhor resultado"
   ]
  },
  {
   "cell_type": "code",
   "execution_count": 33,
   "id": "042e6489",
   "metadata": {},
   "outputs": [
    {
     "data": {
      "text/plain": [
       "0.8246666666666668"
      ]
     },
     "execution_count": 33,
     "metadata": {},
     "output_type": "execute_result"
    }
   ],
   "source": [
    "gs_clf.best_score_"
   ]
  },
  {
   "cell_type": "markdown",
   "id": "cee079e0",
   "metadata": {},
   "source": [
    "#### 2.3 verificando um bom conjunto de parâmetros"
   ]
  },
  {
   "cell_type": "code",
   "execution_count": 34,
   "id": "baaa5bab",
   "metadata": {},
   "outputs": [
    {
     "name": "stdout",
     "output_type": "stream",
     "text": [
      "clf__alpha: 0.01\n",
      "tfidf__use_idf: False\n",
      "vect__ngram_range: (1, 2)\n"
     ]
    }
   ],
   "source": [
    "for param_name in sorted(parameters.keys()):\n",
    "    print(\"%s: %r\" % (param_name, gs_clf.best_params_[param_name]))\n"
   ]
  },
  {
   "cell_type": "markdown",
   "id": "c8d793fb",
   "metadata": {},
   "source": [
    "### 3 Avalie o classificador utilizando parte do conjunto de dados (previamente separado para testes)"
   ]
  },
  {
   "cell_type": "markdown",
   "id": "62058f04",
   "metadata": {},
   "source": [
    "#### 3.1 Realizando teste"
   ]
  },
  {
   "cell_type": "code",
   "execution_count": 35,
   "id": "75ce58b5",
   "metadata": {},
   "outputs": [],
   "source": [
    "predicted = gs_clf.predict(docs_test)"
   ]
  },
  {
   "cell_type": "markdown",
   "id": "7ff3241d",
   "metadata": {},
   "source": [
    "#### 3.2 Imprimindo avaliação de classificação"
   ]
  },
  {
   "cell_type": "code",
   "execution_count": 36,
   "id": "b34d32a4",
   "metadata": {},
   "outputs": [
    {
     "name": "stdout",
     "output_type": "stream",
     "text": [
      "              precision    recall  f1-score   support\n",
      "\n",
      "         neg       0.84      0.83      0.83       260\n",
      "         pos       0.82      0.83      0.82       240\n",
      "\n",
      "    accuracy                           0.83       500\n",
      "   macro avg       0.83      0.83      0.83       500\n",
      "weighted avg       0.83      0.83      0.83       500\n",
      "\n"
     ]
    }
   ],
   "source": [
    "print(metrics.classification_report(y_test, predicted,\n",
    "                                        target_names=dataset.target_names))"
   ]
  },
  {
   "cell_type": "markdown",
   "id": "2867d9de",
   "metadata": {},
   "source": [
    "#### 3.3 Imprimindo matrix de confusão"
   ]
  },
  {
   "cell_type": "code",
   "execution_count": 38,
   "id": "ac305e8f",
   "metadata": {},
   "outputs": [
    {
     "name": "stdout",
     "output_type": "stream",
     "text": [
      "[[215  45]\n",
      " [ 41 199]]\n"
     ]
    }
   ],
   "source": [
    "cm = metrics.confusion_matrix(y_test, predicted)\n",
    "print(cm)"
   ]
  },
  {
   "cell_type": "markdown",
   "id": "11cb905b",
   "metadata": {},
   "source": [
    "### 4 Repita os passos 1, 2 e 3 utilizando um algoritmo de classificação diferente;"
   ]
  },
  {
   "cell_type": "code",
   "execution_count": null,
   "id": "df3c3ba0",
   "metadata": {},
   "outputs": [],
   "source": []
  }
 ],
 "metadata": {
  "kernelspec": {
   "display_name": "Python 3 (ipykernel)",
   "language": "python",
   "name": "python3"
  },
  "language_info": {
   "codemirror_mode": {
    "name": "ipython",
    "version": 3
   },
   "file_extension": ".py",
   "mimetype": "text/x-python",
   "name": "python",
   "nbconvert_exporter": "python",
   "pygments_lexer": "ipython3",
   "version": "3.9.7"
  }
 },
 "nbformat": 4,
 "nbformat_minor": 5
}
