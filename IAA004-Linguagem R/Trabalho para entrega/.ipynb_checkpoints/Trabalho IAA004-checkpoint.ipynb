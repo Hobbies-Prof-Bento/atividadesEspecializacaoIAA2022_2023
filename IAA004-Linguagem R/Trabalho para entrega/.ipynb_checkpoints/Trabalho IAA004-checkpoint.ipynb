{
 "cells": [
  {
   "cell_type": "markdown",
   "id": "53eb09ee",
   "metadata": {},
   "source": [
    "# Este trabalho pode ser realizado em equipes de no máximo 5 integrantes\n",
    "\n",
    "#### Estudante: Clístenes Grizafis Bento\n",
    "\n",
    "##### O que deve ser entregue:\n",
    "   - Um arquivo compactado com os documentos e arquivos\n",
    "   - A lista de comandos R que foi executada, com suas respectivas saídas\n",
    "   - Um texto com o resultado e justificativa do porque \n",
    "   - Outros arquivos pedidos (ex, modelo gerado)\n"
   ]
  },
  {
   "cell_type": "markdown",
   "id": "0726b35c",
   "metadata": {},
   "source": [
    "## 1 Pesquisa com Dados de Satélite (Satellite)\n",
    "\n",
    "<p> O banco de dados consiste nos valores multi-espectrais de pixels em vizinhanças 3x3 em uma imagem de satélite, e na classificação associada ao pixel central em cada vizinhança. O objetivo é prever esta classificação, dados os valores multi-espectrais. </p>\n",
    "\n",
    "<p> Um quadro de imagens do Satélite Landsat com MSS (Multispectral Scanner System) consiste em quatro imagens digitais da mesma cena em diferentes bandas espectrais. Duas delas estão na região visível (correspondendo aproximadamente às regiões verde e vermelha do espectro visível) e duas no infravermelho (próximo). Cada pixel é uma palavra binária de 8 bits, com 0 correspondendo a preto e 255 a branco. A resolução espacial de um pixel é de cerca de 80m x 80m. Cada imagem contém 2340 x 3380 desses pixels. O banco de dados é uma subárea (minúscula) de uma cena, consistindo de 82 x 100 pixels. Cada linha de dados corresponde a uma vizinhança quadrada de pixels 3x3 completamente contida dentro da subárea 82x100. Cada linha contém os valores de pixel nas quatro bandas espectrais (convertidas em ASCII) de cada um dos 9 pixels na vizinhança de 3x3 e um número indicando o rótulo de classificação do pixel central. </p>\n",
    "\n",
    "<p> As classes são: solo vermelho, colheita de algodão, solo cinza, solo cinza úmido, restolho de vegetação, solo cinza muito úmido. </p>\n",
    "\n",
    "<p> Os dados estão em ordem aleatória e certas linhas de dados foram removidas, portanto você não pode reconstruir a imagem original desse conjunto de dados. Em cada linha de dados, os quatro valores espectrais para o pixel superior esquerdo são dados primeiro, seguidos pelos quatro valores espectrais para o pixel superior central e, em seguida, para o pixel superior direito, e assim por diante, com os pixels lidos em sequência, da esquerda para a direita e de cima para baixo. Assim, os quatro valores espectrais para o pixel central são dados pelos atributos 17, 18, 19 e 20. Se você quiser, pode usar apenas esses quatro atributos, ignorando os outros. Isso evita o problema que surge quando uma vizinhança 3x3 atravessa um limite. </p>"
   ]
  },
  {
   "cell_type": "markdown",
   "id": "9ad78bba",
   "metadata": {},
   "source": [
    "#### O banco de dados se encontra no pacote mlbench e é completo (não possui dados faltantes).\n",
    "\n",
    "##### Tarefas:\n",
    "\n",
    "   - Treine modelos RandomForest, SVM e RNA para predição destes dados. \n",
    "   - Escolha o melhor modelo com base em suas matrizes de confusão. \n",
    "   - Treine o modelo final com todos os dados e faça a predição na base completa. \n",
    "   - Analise o resultado.\n",
    "   - Salve este modelo final \n"
   ]
  },
  {
   "cell_type": "code",
   "execution_count": 2,
   "id": "d05ab251",
   "metadata": {},
   "outputs": [
    {
     "data": {
      "text/html": [
       "<table>\n",
       "<thead><tr><th scope=col>x.1</th><th scope=col>x.2</th><th scope=col>x.3</th><th scope=col>x.4</th><th scope=col>x.5</th><th scope=col>x.6</th><th scope=col>x.7</th><th scope=col>x.8</th><th scope=col>x.9</th><th scope=col>x.10</th><th scope=col>...</th><th scope=col>x.28</th><th scope=col>x.29</th><th scope=col>x.30</th><th scope=col>x.31</th><th scope=col>x.32</th><th scope=col>x.33</th><th scope=col>x.34</th><th scope=col>x.35</th><th scope=col>x.36</th><th scope=col>classes</th></tr></thead>\n",
       "<tbody>\n",
       "\t<tr><td>92       </td><td>115      </td><td>120      </td><td>94       </td><td>84       </td><td>102      </td><td>106      </td><td>79       </td><td>84       </td><td>102      </td><td>...      </td><td>104      </td><td>88       </td><td>121      </td><td>128      </td><td>100      </td><td>84       </td><td>107      </td><td>113      </td><td>87       </td><td>grey soil</td></tr>\n",
       "\t<tr><td>84       </td><td>102      </td><td>106      </td><td>79       </td><td>84       </td><td>102      </td><td>102      </td><td>83       </td><td>80       </td><td>102      </td><td>...      </td><td>100      </td><td>84       </td><td>107      </td><td>113      </td><td> 87      </td><td>84       </td><td> 99      </td><td>104      </td><td>79       </td><td>grey soil</td></tr>\n",
       "\t<tr><td>84       </td><td>102      </td><td>102      </td><td>83       </td><td>80       </td><td>102      </td><td>102      </td><td>79       </td><td>84       </td><td> 94      </td><td>...      </td><td> 87      </td><td>84       </td><td> 99      </td><td>104      </td><td> 79      </td><td>84       </td><td> 99      </td><td>104      </td><td>79       </td><td>grey soil</td></tr>\n",
       "\t<tr><td>80       </td><td>102      </td><td>102      </td><td>79       </td><td>84       </td><td> 94      </td><td>102      </td><td>79       </td><td>80       </td><td> 94      </td><td>...      </td><td> 79      </td><td>84       </td><td> 99      </td><td>104      </td><td> 79      </td><td>84       </td><td>103      </td><td>104      </td><td>79       </td><td>grey soil</td></tr>\n",
       "\t<tr><td>84       </td><td> 94      </td><td>102      </td><td>79       </td><td>80       </td><td> 94      </td><td> 98      </td><td>76       </td><td>80       </td><td>102      </td><td>...      </td><td> 79      </td><td>84       </td><td>103      </td><td>104      </td><td> 79      </td><td>79       </td><td>107      </td><td>109      </td><td>87       </td><td>grey soil</td></tr>\n",
       "\t<tr><td>80       </td><td> 94      </td><td> 98      </td><td>76       </td><td>80       </td><td>102      </td><td>102      </td><td>79       </td><td>76       </td><td>102      </td><td>...      </td><td> 79      </td><td>79       </td><td>107      </td><td>109      </td><td> 87      </td><td>79       </td><td>107      </td><td>109      </td><td>87       </td><td>grey soil</td></tr>\n",
       "</tbody>\n",
       "</table>\n"
      ],
      "text/latex": [
       "\\begin{tabular}{r|lllllllllllllllllllllllllllllllllllll}\n",
       " x.1 & x.2 & x.3 & x.4 & x.5 & x.6 & x.7 & x.8 & x.9 & x.10 & ... & x.28 & x.29 & x.30 & x.31 & x.32 & x.33 & x.34 & x.35 & x.36 & classes\\\\\n",
       "\\hline\n",
       "\t 92        & 115       & 120       & 94        & 84        & 102       & 106       & 79        & 84        & 102       & ...       & 104       & 88        & 121       & 128       & 100       & 84        & 107       & 113       & 87        & grey soil\\\\\n",
       "\t 84        & 102       & 106       & 79        & 84        & 102       & 102       & 83        & 80        & 102       & ...       & 100       & 84        & 107       & 113       &  87       & 84        &  99       & 104       & 79        & grey soil\\\\\n",
       "\t 84        & 102       & 102       & 83        & 80        & 102       & 102       & 79        & 84        &  94       & ...       &  87       & 84        &  99       & 104       &  79       & 84        &  99       & 104       & 79        & grey soil\\\\\n",
       "\t 80        & 102       & 102       & 79        & 84        &  94       & 102       & 79        & 80        &  94       & ...       &  79       & 84        &  99       & 104       &  79       & 84        & 103       & 104       & 79        & grey soil\\\\\n",
       "\t 84        &  94       & 102       & 79        & 80        &  94       &  98       & 76        & 80        & 102       & ...       &  79       & 84        & 103       & 104       &  79       & 79        & 107       & 109       & 87        & grey soil\\\\\n",
       "\t 80        &  94       &  98       & 76        & 80        & 102       & 102       & 79        & 76        & 102       & ...       &  79       & 79        & 107       & 109       &  87       & 79        & 107       & 109       & 87        & grey soil\\\\\n",
       "\\end{tabular}\n"
      ],
      "text/markdown": [
       "\n",
       "| x.1 | x.2 | x.3 | x.4 | x.5 | x.6 | x.7 | x.8 | x.9 | x.10 | ... | x.28 | x.29 | x.30 | x.31 | x.32 | x.33 | x.34 | x.35 | x.36 | classes |\n",
       "|---|---|---|---|---|---|---|---|---|---|---|---|---|---|---|---|---|---|---|---|---|\n",
       "| 92        | 115       | 120       | 94        | 84        | 102       | 106       | 79        | 84        | 102       | ...       | 104       | 88        | 121       | 128       | 100       | 84        | 107       | 113       | 87        | grey soil |\n",
       "| 84        | 102       | 106       | 79        | 84        | 102       | 102       | 83        | 80        | 102       | ...       | 100       | 84        | 107       | 113       |  87       | 84        |  99       | 104       | 79        | grey soil |\n",
       "| 84        | 102       | 102       | 83        | 80        | 102       | 102       | 79        | 84        |  94       | ...       |  87       | 84        |  99       | 104       |  79       | 84        |  99       | 104       | 79        | grey soil |\n",
       "| 80        | 102       | 102       | 79        | 84        |  94       | 102       | 79        | 80        |  94       | ...       |  79       | 84        |  99       | 104       |  79       | 84        | 103       | 104       | 79        | grey soil |\n",
       "| 84        |  94       | 102       | 79        | 80        |  94       |  98       | 76        | 80        | 102       | ...       |  79       | 84        | 103       | 104       |  79       | 79        | 107       | 109       | 87        | grey soil |\n",
       "| 80        |  94       |  98       | 76        | 80        | 102       | 102       | 79        | 76        | 102       | ...       |  79       | 79        | 107       | 109       |  87       | 79        | 107       | 109       | 87        | grey soil |\n",
       "\n"
      ],
      "text/plain": [
       "  x.1 x.2 x.3 x.4 x.5 x.6 x.7 x.8 x.9 x.10 ... x.28 x.29 x.30 x.31 x.32 x.33\n",
       "1 92  115 120 94  84  102 106 79  84  102  ... 104  88   121  128  100  84  \n",
       "2 84  102 106 79  84  102 102 83  80  102  ... 100  84   107  113   87  84  \n",
       "3 84  102 102 83  80  102 102 79  84   94  ...  87  84    99  104   79  84  \n",
       "4 80  102 102 79  84   94 102 79  80   94  ...  79  84    99  104   79  84  \n",
       "5 84   94 102 79  80   94  98 76  80  102  ...  79  84   103  104   79  79  \n",
       "6 80   94  98 76  80  102 102 79  76  102  ...  79  79   107  109   87  79  \n",
       "  x.34 x.35 x.36 classes  \n",
       "1 107  113  87   grey soil\n",
       "2  99  104  79   grey soil\n",
       "3  99  104  79   grey soil\n",
       "4 103  104  79   grey soil\n",
       "5 107  109  87   grey soil\n",
       "6 107  109  87   grey soil"
      ]
     },
     "metadata": {},
     "output_type": "display_data"
    }
   ],
   "source": [
    "#Carregando os dados\n",
    "library(\"caret\")\n",
    "library(\"mlbench\")\n",
    "data(Satellite)\n",
    "dataset <- Satellite\n",
    "head(dataset)"
   ]
  },
  {
   "cell_type": "code",
   "execution_count": 3,
   "id": "4de89768",
   "metadata": {},
   "outputs": [
    {
     "data": {
      "text/html": [
       "<table>\n",
       "<thead><tr><th></th><th scope=col>x.1</th><th scope=col>x.2</th><th scope=col>x.3</th><th scope=col>x.4</th><th scope=col>x.5</th><th scope=col>x.6</th><th scope=col>x.7</th><th scope=col>x.8</th><th scope=col>x.9</th><th scope=col>x.10</th><th scope=col>...</th><th scope=col>x.28</th><th scope=col>x.29</th><th scope=col>x.30</th><th scope=col>x.31</th><th scope=col>x.32</th><th scope=col>x.33</th><th scope=col>x.34</th><th scope=col>x.35</th><th scope=col>x.36</th><th scope=col>classes</th></tr></thead>\n",
       "<tbody>\n",
       "\t<tr><th scope=row>6430</th><td>84                </td><td>116               </td><td>128               </td><td>103               </td><td>92                </td><td>116               </td><td>133               </td><td>103               </td><td>84                </td><td>112               </td><td>...               </td><td>85                </td><td>74                </td><td>83                </td><td>104               </td><td>92                </td><td>78                </td><td>96                </td><td>112               </td><td>96                </td><td>red soil          </td></tr>\n",
       "\t<tr><th scope=row>6431</th><td>60                </td><td> 83               </td><td> 96               </td><td> 85               </td><td>64                </td><td> 87               </td><td>100               </td><td> 88               </td><td>64                </td><td> 83               </td><td>...               </td><td>92                </td><td>66                </td><td>87                </td><td>108               </td><td>89                </td><td>63                </td><td>83                </td><td>104               </td><td>85                </td><td>red soil          </td></tr>\n",
       "\t<tr><th scope=row>6432</th><td>64                </td><td> 79               </td><td>100               </td><td> 85               </td><td>56                </td><td> 71               </td><td> 96               </td><td> 85               </td><td>56                </td><td> 68               </td><td>...               </td><td>85                </td><td>66                </td><td>83                </td><td>100               </td><td>85                </td><td>63                </td><td>83                </td><td>100               </td><td>81                </td><td>red soil          </td></tr>\n",
       "\t<tr><th scope=row>6433</th><td>56                </td><td> 68               </td><td> 91               </td><td> 81               </td><td>56                </td><td> 64               </td><td> 91               </td><td> 81               </td><td>53                </td><td> 64               </td><td>...               </td><td>81                </td><td>59                </td><td>87                </td><td> 96               </td><td>81                </td><td>63                </td><td>83                </td><td> 92               </td><td>74                </td><td>vegetation stubble</td></tr>\n",
       "\t<tr><th scope=row>6434</th><td>56                </td><td> 68               </td><td> 87               </td><td> 74               </td><td>60                </td><td> 71               </td><td> 91               </td><td> 81               </td><td>60                </td><td> 64               </td><td>...               </td><td>74                </td><td>59                </td><td>83                </td><td> 92               </td><td>74                </td><td>59                </td><td>83                </td><td> 92               </td><td>70                </td><td>vegetation stubble</td></tr>\n",
       "\t<tr><th scope=row>6435</th><td>60                </td><td> 71               </td><td> 91               </td><td> 81               </td><td>60                </td><td> 64               </td><td>104               </td><td> 99               </td><td>56                </td><td> 64               </td><td>...               </td><td>74                </td><td>59                </td><td>83                </td><td> 92               </td><td>70                </td><td>63                </td><td>79                </td><td>108               </td><td>92                </td><td>vegetation stubble</td></tr>\n",
       "</tbody>\n",
       "</table>\n"
      ],
      "text/latex": [
       "\\begin{tabular}{r|lllllllllllllllllllllllllllllllllllll}\n",
       "  & x.1 & x.2 & x.3 & x.4 & x.5 & x.6 & x.7 & x.8 & x.9 & x.10 & ... & x.28 & x.29 & x.30 & x.31 & x.32 & x.33 & x.34 & x.35 & x.36 & classes\\\\\n",
       "\\hline\n",
       "\t6430 & 84                 & 116                & 128                & 103                & 92                 & 116                & 133                & 103                & 84                 & 112                & ...                & 85                 & 74                 & 83                 & 104                & 92                 & 78                 & 96                 & 112                & 96                 & red soil          \\\\\n",
       "\t6431 & 60                 &  83                &  96                &  85                & 64                 &  87                & 100                &  88                & 64                 &  83                & ...                & 92                 & 66                 & 87                 & 108                & 89                 & 63                 & 83                 & 104                & 85                 & red soil          \\\\\n",
       "\t6432 & 64                 &  79                & 100                &  85                & 56                 &  71                &  96                &  85                & 56                 &  68                & ...                & 85                 & 66                 & 83                 & 100                & 85                 & 63                 & 83                 & 100                & 81                 & red soil          \\\\\n",
       "\t6433 & 56                 &  68                &  91                &  81                & 56                 &  64                &  91                &  81                & 53                 &  64                & ...                & 81                 & 59                 & 87                 &  96                & 81                 & 63                 & 83                 &  92                & 74                 & vegetation stubble\\\\\n",
       "\t6434 & 56                 &  68                &  87                &  74                & 60                 &  71                &  91                &  81                & 60                 &  64                & ...                & 74                 & 59                 & 83                 &  92                & 74                 & 59                 & 83                 &  92                & 70                 & vegetation stubble\\\\\n",
       "\t6435 & 60                 &  71                &  91                &  81                & 60                 &  64                & 104                &  99                & 56                 &  64                & ...                & 74                 & 59                 & 83                 &  92                & 70                 & 63                 & 79                 & 108                & 92                 & vegetation stubble\\\\\n",
       "\\end{tabular}\n"
      ],
      "text/markdown": [
       "\n",
       "| <!--/--> | x.1 | x.2 | x.3 | x.4 | x.5 | x.6 | x.7 | x.8 | x.9 | x.10 | ... | x.28 | x.29 | x.30 | x.31 | x.32 | x.33 | x.34 | x.35 | x.36 | classes |\n",
       "|---|---|---|---|---|---|---|---|---|---|---|---|---|---|---|---|---|---|---|---|---|---|\n",
       "| 6430 | 84                 | 116                | 128                | 103                | 92                 | 116                | 133                | 103                | 84                 | 112                | ...                | 85                 | 74                 | 83                 | 104                | 92                 | 78                 | 96                 | 112                | 96                 | red soil           |\n",
       "| 6431 | 60                 |  83                |  96                |  85                | 64                 |  87                | 100                |  88                | 64                 |  83                | ...                | 92                 | 66                 | 87                 | 108                | 89                 | 63                 | 83                 | 104                | 85                 | red soil           |\n",
       "| 6432 | 64                 |  79                | 100                |  85                | 56                 |  71                |  96                |  85                | 56                 |  68                | ...                | 85                 | 66                 | 83                 | 100                | 85                 | 63                 | 83                 | 100                | 81                 | red soil           |\n",
       "| 6433 | 56                 |  68                |  91                |  81                | 56                 |  64                |  91                |  81                | 53                 |  64                | ...                | 81                 | 59                 | 87                 |  96                | 81                 | 63                 | 83                 |  92                | 74                 | vegetation stubble |\n",
       "| 6434 | 56                 |  68                |  87                |  74                | 60                 |  71                |  91                |  81                | 60                 |  64                | ...                | 74                 | 59                 | 83                 |  92                | 74                 | 59                 | 83                 |  92                | 70                 | vegetation stubble |\n",
       "| 6435 | 60                 |  71                |  91                |  81                | 60                 |  64                | 104                |  99                | 56                 |  64                | ...                | 74                 | 59                 | 83                 |  92                | 70                 | 63                 | 79                 | 108                | 92                 | vegetation stubble |\n",
       "\n"
      ],
      "text/plain": [
       "     x.1 x.2 x.3 x.4 x.5 x.6 x.7 x.8 x.9 x.10 ... x.28 x.29 x.30 x.31 x.32 x.33\n",
       "6430 84  116 128 103 92  116 133 103 84  112  ... 85   74   83   104  92   78  \n",
       "6431 60   83  96  85 64   87 100  88 64   83  ... 92   66   87   108  89   63  \n",
       "6432 64   79 100  85 56   71  96  85 56   68  ... 85   66   83   100  85   63  \n",
       "6433 56   68  91  81 56   64  91  81 53   64  ... 81   59   87    96  81   63  \n",
       "6434 56   68  87  74 60   71  91  81 60   64  ... 74   59   83    92  74   59  \n",
       "6435 60   71  91  81 60   64 104  99 56   64  ... 74   59   83    92  70   63  \n",
       "     x.34 x.35 x.36 classes           \n",
       "6430 96   112  96   red soil          \n",
       "6431 83   104  85   red soil          \n",
       "6432 83   100  81   red soil          \n",
       "6433 83    92  74   vegetation stubble\n",
       "6434 83    92  70   vegetation stubble\n",
       "6435 79   108  92   vegetation stubble"
      ]
     },
     "metadata": {},
     "output_type": "display_data"
    }
   ],
   "source": [
    "tail(dataset)"
   ]
  },
  {
   "cell_type": "code",
   "execution_count": 4,
   "id": "e7570a6a",
   "metadata": {},
   "outputs": [],
   "source": [
    "#Separando dados de treino e de teste\n",
    "indices <- createDataPartition(dataset$classes, p=0.8, list=F)\n",
    "treino <- dataset[indices,]\n",
    "teste <- dataset[-indices,]"
   ]
  },
  {
   "cell_type": "markdown",
   "id": "5a6f76f9",
   "metadata": {},
   "source": [
    "#### Treinar e testar modelo com random forest"
   ]
  },
  {
   "cell_type": "code",
   "execution_count": 5,
   "id": "177ed368",
   "metadata": {},
   "outputs": [],
   "source": [
    "# criando semente pseudo aleatória para verificação futura\n",
    "set.seed(1)\n",
    "# creinando o modelo\n",
    "rf <- train(classes ~ x.17 + x.18 + x.19 + x.20, data=treino, method=\"rf\")"
   ]
  },
  {
   "cell_type": "code",
   "execution_count": 6,
   "id": "f2b8a608",
   "metadata": {},
   "outputs": [],
   "source": [
    "# realizando predição com a base de teste\n",
    "predicao.rf <- predict(rf, teste)"
   ]
  },
  {
   "cell_type": "code",
   "execution_count": 8,
   "id": "54b4fd5f",
   "metadata": {
    "scrolled": true
   },
   "outputs": [
    {
     "data": {
      "text/plain": [
       "Confusion Matrix and Statistics\n",
       "\n",
       "                     Reference\n",
       "Prediction            red soil cotton crop grey soil damp grey soil\n",
       "  red soil                 298           0         5              3\n",
       "  cotton crop                0         129         0              1\n",
       "  grey soil                  4           0       241             29\n",
       "  damp grey soil             0           2        19             51\n",
       "  vegetation stubble         4           8         1              0\n",
       "  very damp grey soil        0           1         5             41\n",
       "                     Reference\n",
       "Prediction            vegetation stubble very damp grey soil\n",
       "  red soil                            11                   1\n",
       "  cotton crop                          6                   2\n",
       "  grey soil                            0                  14\n",
       "  damp grey soil                       0                  30\n",
       "  vegetation stubble                 113                   8\n",
       "  very damp grey soil                 11                 246\n",
       "\n",
       "Overall Statistics\n",
       "                                          \n",
       "               Accuracy : 0.8396          \n",
       "                 95% CI : (0.8183, 0.8592)\n",
       "    No Information Rate : 0.2383          \n",
       "    P-Value [Acc > NIR] : < 2.2e-16       \n",
       "                                          \n",
       "                  Kappa : 0.8012          \n",
       "                                          \n",
       " Mcnemar's Test P-Value : NA              \n",
       "\n",
       "Statistics by Class:\n",
       "\n",
       "                     Class: red soil Class: cotton crop Class: grey soil\n",
       "Sensitivity                   0.9739             0.9214           0.8893\n",
       "Specificity                   0.9796             0.9921           0.9536\n",
       "Pos Pred Value                0.9371             0.9348           0.8368\n",
       "Neg Pred Value                0.9917             0.9904           0.9699\n",
       "Prevalence                    0.2383             0.1090           0.2111\n",
       "Detection Rate                0.2321             0.1005           0.1877\n",
       "Detection Prevalence          0.2477             0.1075           0.2243\n",
       "Balanced Accuracy             0.9767             0.9568           0.9215\n",
       "                     Class: damp grey soil Class: vegetation stubble\n",
       "Sensitivity                        0.40800                   0.80142\n",
       "Specificity                        0.95600                   0.98163\n",
       "Pos Pred Value                     0.50000                   0.84328\n",
       "Neg Pred Value                     0.93739                   0.97565\n",
       "Prevalence                         0.09735                   0.10981\n",
       "Detection Rate                     0.03972                   0.08801\n",
       "Detection Prevalence               0.07944                   0.10436\n",
       "Balanced Accuracy                  0.68200                   0.89152\n",
       "                     Class: very damp grey soil\n",
       "Sensitivity                              0.8173\n",
       "Specificity                              0.9410\n",
       "Pos Pred Value                           0.8092\n",
       "Neg Pred Value                           0.9439\n",
       "Prevalence                               0.2344\n",
       "Detection Rate                           0.1916\n",
       "Detection Prevalence                     0.2368\n",
       "Balanced Accuracy                        0.8791"
      ]
     },
     "metadata": {},
     "output_type": "display_data"
    }
   ],
   "source": [
    "# Gerar matriz de confusão do modelo\n",
    "confusionMatrix(predicao.rf, teste$classes)"
   ]
  },
  {
   "cell_type": "markdown",
   "id": "6d3b05c2",
   "metadata": {},
   "source": [
    "**Avaliação do resultado:** O modelo obteve acurácia de 83,96% o que é algo positivo pois indica que o modelo não está sofrendo de overfitting. O modelo encontrou dificuldade em reconhecer a classe damp grey soil."
   ]
  },
  {
   "cell_type": "markdown",
   "id": "554b2251",
   "metadata": {},
   "source": [
    "#### Treinar e testar modelo com SVM"
   ]
  },
  {
   "cell_type": "code",
   "execution_count": 9,
   "id": "c6c5636f",
   "metadata": {},
   "outputs": [],
   "source": [
    "# criando semente pseudo aleatória para verificação futura\n",
    "set.seed(1)\n",
    "# creinando o modelo\n",
    "svm <- train(classes ~ x.17 + x.18 + x.19 + x.20, data=treino, method=\"svmRadial\")"
   ]
  },
  {
   "cell_type": "code",
   "execution_count": 10,
   "id": "bccce099",
   "metadata": {},
   "outputs": [],
   "source": [
    "# realizando predição com a base de teste\n",
    "predicao.svm <- predict(svm, teste)"
   ]
  },
  {
   "cell_type": "code",
   "execution_count": 11,
   "id": "1b9c2106",
   "metadata": {},
   "outputs": [
    {
     "data": {
      "text/plain": [
       "Confusion Matrix and Statistics\n",
       "\n",
       "                     Reference\n",
       "Prediction            red soil cotton crop grey soil damp grey soil\n",
       "  red soil                 300           1         4              2\n",
       "  cotton crop                0         129         0              1\n",
       "  grey soil                  4           0       257             38\n",
       "  damp grey soil             0           2         9             53\n",
       "  vegetation stubble         2           7         0              0\n",
       "  very damp grey soil        0           1         1             31\n",
       "                     Reference\n",
       "Prediction            vegetation stubble very damp grey soil\n",
       "  red soil                            12                   0\n",
       "  cotton crop                          3                   1\n",
       "  grey soil                            0                  14\n",
       "  damp grey soil                       0                  35\n",
       "  vegetation stubble                 111                  10\n",
       "  very damp grey soil                 15                 241\n",
       "\n",
       "Overall Statistics\n",
       "                                         \n",
       "               Accuracy : 0.8497         \n",
       "                 95% CI : (0.829, 0.8688)\n",
       "    No Information Rate : 0.2383         \n",
       "    P-Value [Acc > NIR] : < 2.2e-16      \n",
       "                                         \n",
       "                  Kappa : 0.8136         \n",
       "                                         \n",
       " Mcnemar's Test P-Value : NA             \n",
       "\n",
       "Statistics by Class:\n",
       "\n",
       "                     Class: red soil Class: cotton crop Class: grey soil\n",
       "Sensitivity                   0.9804             0.9214           0.9483\n",
       "Specificity                   0.9806             0.9956           0.9447\n",
       "Pos Pred Value                0.9404             0.9627           0.8211\n",
       "Neg Pred Value                0.9938             0.9904           0.9856\n",
       "Prevalence                    0.2383             0.1090           0.2111\n",
       "Detection Rate                0.2336             0.1005           0.2002\n",
       "Detection Prevalence          0.2484             0.1044           0.2438\n",
       "Balanced Accuracy             0.9805             0.9585           0.9465\n",
       "                     Class: damp grey soil Class: vegetation stubble\n",
       "Sensitivity                        0.42400                   0.78723\n",
       "Specificity                        0.96031                   0.98338\n",
       "Pos Pred Value                     0.53535                   0.85385\n",
       "Neg Pred Value                     0.93924                   0.97400\n",
       "Prevalence                         0.09735                   0.10981\n",
       "Detection Rate                     0.04128                   0.08645\n",
       "Detection Prevalence               0.07710                   0.10125\n",
       "Balanced Accuracy                  0.69216                   0.88531\n",
       "                     Class: very damp grey soil\n",
       "Sensitivity                              0.8007\n",
       "Specificity                              0.9512\n",
       "Pos Pred Value                           0.8339\n",
       "Neg Pred Value                           0.9397\n",
       "Prevalence                               0.2344\n",
       "Detection Rate                           0.1877\n",
       "Detection Prevalence                     0.2251\n",
       "Balanced Accuracy                        0.8759"
      ]
     },
     "metadata": {},
     "output_type": "display_data"
    }
   ],
   "source": [
    "# Gerar matriz de confusão do modelo\n",
    "confusionMatrix(predicao.svm, teste$classes)"
   ]
  },
  {
   "cell_type": "markdown",
   "id": "31faeedf",
   "metadata": {},
   "source": [
    "**Avaliação do resultado:** O modelo obteve acurácia de 84,97% o que é algo positivo pois indica que o modelo não está sofrendo de overfitting. O modelo encontrou menor dificuldade em reconhecer a classe damp grey soil."
   ]
  },
  {
   "cell_type": "markdown",
   "id": "8129bafc",
   "metadata": {},
   "source": [
    "#### Treinar e testar modelo com RNA"
   ]
  },
  {
   "cell_type": "code",
   "execution_count": 13,
   "id": "7af6889b",
   "metadata": {},
   "outputs": [],
   "source": [
    "# criando semente pseudo aleatória para verificação futura\n",
    "set.seed(1)\n",
    "# creinando o modelo\n",
    "rna <- train(classes ~ x.17 + x.18 + x.19 + x.20, data=treino, method=\"nnet\")"
   ]
  },
  {
   "cell_type": "code",
   "execution_count": 14,
   "id": "7720f608",
   "metadata": {},
   "outputs": [],
   "source": [
    "# realizando predição com a base de teste\n",
    "predicao.rna <- predict(rna, teste)"
   ]
  },
  {
   "cell_type": "code",
   "execution_count": 15,
   "id": "4b75e553",
   "metadata": {},
   "outputs": [
    {
     "data": {
      "text/plain": [
       "Confusion Matrix and Statistics\n",
       "\n",
       "                     Reference\n",
       "Prediction            red soil cotton crop grey soil damp grey soil\n",
       "  red soil                 296           2         7              3\n",
       "  cotton crop                0         127         0              0\n",
       "  grey soil                  6           0       254             45\n",
       "  damp grey soil             0           0         8             17\n",
       "  vegetation stubble         4           7         0              0\n",
       "  very damp grey soil        0           4         2             60\n",
       "                     Reference\n",
       "Prediction            vegetation stubble very damp grey soil\n",
       "  red soil                            21                   1\n",
       "  cotton crop                          2                   0\n",
       "  grey soil                            0                  17\n",
       "  damp grey soil                       0                  11\n",
       "  vegetation stubble                 101                  12\n",
       "  very damp grey soil                 17                 260\n",
       "\n",
       "Overall Statistics\n",
       "                                          \n",
       "               Accuracy : 0.8217          \n",
       "                 95% CI : (0.7996, 0.8422)\n",
       "    No Information Rate : 0.2383          \n",
       "    P-Value [Acc > NIR] : < 2.2e-16       \n",
       "                                          \n",
       "                  Kappa : 0.7768          \n",
       "                                          \n",
       " Mcnemar's Test P-Value : NA              \n",
       "\n",
       "Statistics by Class:\n",
       "\n",
       "                     Class: red soil Class: cotton crop Class: grey soil\n",
       "Sensitivity                   0.9673            0.90714           0.9373\n",
       "Specificity                   0.9652            0.99825           0.9329\n",
       "Pos Pred Value                0.8970            0.98450           0.7888\n",
       "Neg Pred Value                0.9895            0.98874           0.9823\n",
       "Prevalence                    0.2383            0.10903           0.2111\n",
       "Detection Rate                0.2305            0.09891           0.1978\n",
       "Detection Prevalence          0.2570            0.10047           0.2508\n",
       "Balanced Accuracy             0.9663            0.95270           0.9351\n",
       "                     Class: damp grey soil Class: vegetation stubble\n",
       "Sensitivity                        0.13600                   0.71631\n",
       "Specificity                        0.98361                   0.97988\n",
       "Pos Pred Value                     0.47222                   0.81452\n",
       "Neg Pred Value                     0.91346                   0.96552\n",
       "Prevalence                         0.09735                   0.10981\n",
       "Detection Rate                     0.01324                   0.07866\n",
       "Detection Prevalence               0.02804                   0.09657\n",
       "Balanced Accuracy                  0.55980                   0.84809\n",
       "                     Class: very damp grey soil\n",
       "Sensitivity                              0.8638\n",
       "Specificity                              0.9156\n",
       "Pos Pred Value                           0.7580\n",
       "Neg Pred Value                           0.9564\n",
       "Prevalence                               0.2344\n",
       "Detection Rate                           0.2025\n",
       "Detection Prevalence                     0.2671\n",
       "Balanced Accuracy                        0.8897"
      ]
     },
     "metadata": {},
     "output_type": "display_data"
    }
   ],
   "source": [
    "# Gerar matriz de confusão do modelo\n",
    "confusionMatrix(predicao.rna, teste$classes)"
   ]
  },
  {
   "cell_type": "markdown",
   "id": "3dff0228",
   "metadata": {},
   "source": [
    "**Avaliação do resultado:** O modelo obteve acurácia de 82,17% o que é algo positivo pois indica que o modelo não está sofrendo de overfitting. O modelo encontrou maior dificuldade em reconhecer a classe damp grey soil."
   ]
  },
  {
   "cell_type": "markdown",
   "id": "4f77c1ff",
   "metadata": {},
   "source": [
    "### O modelo escolhido com base na matriz de confusão foi o SVM devido a sua acurácia"
   ]
  },
  {
   "cell_type": "markdown",
   "id": "4fc7185c",
   "metadata": {},
   "source": [
    "#### Treinando o modelo final com todos os dados e fazendo a predição na base completa"
   ]
  },
  {
   "cell_type": "code",
   "execution_count": 34,
   "id": "1969d922",
   "metadata": {},
   "outputs": [
    {
     "name": "stdout",
     "output_type": "stream",
     "text": [
      "Support Vector Machines with Radial Basis Function Kernel \n",
      "\n",
      "5151 samples\n",
      "   4 predictor\n",
      "   6 classes: 'red soil', 'cotton crop', 'grey soil', 'damp grey soil', 'vegetation stubble', 'very damp grey soil' \n",
      "\n",
      "No pre-processing\n",
      "Resampling: Bootstrapped (25 reps) \n",
      "Summary of sample sizes: 5151, 5151, 5151, 5151, 5151, 5151, ... \n",
      "Resampling results across tuning parameters:\n",
      "\n",
      "  C     Accuracy   Kappa    \n",
      "  0.25  0.8601569  0.8265153\n",
      "  0.50  0.8628120  0.8298780\n",
      "  1.00  0.8651450  0.8328261\n",
      "\n",
      "Tuning parameter 'sigma' was held constant at a value of 0.8788543\n",
      "Accuracy was used to select the optimal model using the largest value.\n",
      "The final values used for the model were sigma = 0.8788543 and C = 1.\n"
     ]
    }
   ],
   "source": [
    "# identificando sigma e C de svm\n",
    "print(svm)"
   ]
  },
  {
   "cell_type": "code",
   "execution_count": 35,
   "id": "6e56d19e",
   "metadata": {},
   "outputs": [],
   "source": [
    "# Treinando o modelo final\n",
    "library(kernlab)\n",
    "\n",
    "modelo_final <- ksvm(classes~x.17+x.18+x.19+x.20, \n",
    "                     data=dataset,\n",
    "                     type=\"C-svc\", \n",
    "                     kernel=\"rbfdot\", \n",
    "                     C=1.0, \n",
    "                     kpar=list(sigma=0.8788543)\n",
    "                    )"
   ]
  },
  {
   "cell_type": "code",
   "execution_count": 36,
   "id": "6c7b0aaa",
   "metadata": {},
   "outputs": [
    {
     "data": {
      "text/plain": [
       "Confusion Matrix and Statistics\n",
       "\n",
       "                     Reference\n",
       "Prediction            red soil cotton crop grey soil damp grey soil\n",
       "  red soil                1499           2        10              5\n",
       "  cotton crop                2         637         0              1\n",
       "  grey soil                 19           0      1302            161\n",
       "  damp grey soil             0           6        41            309\n",
       "  vegetation stubble        12          48         0              4\n",
       "  very damp grey soil        1          10         5            146\n",
       "                     Reference\n",
       "Prediction            vegetation stubble very damp grey soil\n",
       "  red soil                            48                   0\n",
       "  cotton crop                          9                   2\n",
       "  grey soil                            3                  49\n",
       "  damp grey soil                       4                 165\n",
       "  vegetation stubble                 571                  29\n",
       "  very damp grey soil                 72                1263\n",
       "\n",
       "Overall Statistics\n",
       "                                          \n",
       "               Accuracy : 0.8673          \n",
       "                 95% CI : (0.8588, 0.8755)\n",
       "    No Information Rate : 0.2382          \n",
       "    P-Value [Acc > NIR] : < 2.2e-16       \n",
       "                                          \n",
       "                  Kappa : 0.8355          \n",
       "                                          \n",
       " Mcnemar's Test P-Value : NA              \n",
       "\n",
       "Statistics by Class:\n",
       "\n",
       "                     Class: red soil Class: cotton crop Class: grey soil\n",
       "Sensitivity                   0.9778            0.90612           0.9588\n",
       "Specificity                   0.9867            0.99756           0.9543\n",
       "Pos Pred Value                0.9584            0.97849           0.8488\n",
       "Neg Pred Value                0.9930            0.98859           0.9886\n",
       "Prevalence                    0.2382            0.10925           0.2110\n",
       "Detection Rate                0.2329            0.09899           0.2023\n",
       "Detection Prevalence          0.2430            0.10117           0.2384\n",
       "Balanced Accuracy             0.9823            0.95184           0.9565\n",
       "                     Class: damp grey soil Class: vegetation stubble\n",
       "Sensitivity                        0.49361                   0.80764\n",
       "Specificity                        0.96282                   0.98376\n",
       "Pos Pred Value                     0.58857                   0.85994\n",
       "Neg Pred Value                     0.94636                   0.97643\n",
       "Prevalence                         0.09728                   0.10987\n",
       "Detection Rate                     0.04802                   0.08873\n",
       "Detection Prevalence               0.08159                   0.10319\n",
       "Balanced Accuracy                  0.72821                   0.89570\n",
       "                     Class: very damp grey soil\n",
       "Sensitivity                              0.8375\n",
       "Specificity                              0.9525\n",
       "Pos Pred Value                           0.8437\n",
       "Neg Pred Value                           0.9504\n",
       "Prevalence                               0.2343\n",
       "Detection Rate                           0.1963\n",
       "Detection Prevalence                     0.2326\n",
       "Balanced Accuracy                        0.8950"
      ]
     },
     "metadata": {},
     "output_type": "display_data"
    }
   ],
   "source": [
    "# Realizando predição do modelo final com toda base\n",
    "predicao_final.svm <- predict(modelo_final, dataset)\n",
    "\n",
    "# Exibindo a matrix de confusão\n",
    "confusionMatrix(predicao_final.svm, dataset$classes)"
   ]
  },
  {
   "cell_type": "markdown",
   "id": "ea82bea5",
   "metadata": {},
   "source": [
    "**Avaliação do resultado:** O modelo obteve acurácia de 86,73% o que é algo positivo pois indica que o modelo não está sofrendo de overfitting. Foi o melhor modelo obtido até o momento, mas isso deve ser devido a utilizar toda a base para treino e teste."
   ]
  },
  {
   "cell_type": "markdown",
   "id": "5542a036",
   "metadata": {},
   "source": [
    "#### Salvando o modelo"
   ]
  },
  {
   "cell_type": "code",
   "execution_count": 38,
   "id": "15e2d6af",
   "metadata": {},
   "outputs": [],
   "source": [
    "saveRDS(modelo_final, \"satelites_svm.rds\")"
   ]
  },
  {
   "cell_type": "markdown",
   "id": "a79b3feb",
   "metadata": {},
   "source": [
    "## 2 Estimativa de Volumes de Árvores\n",
    "\n",
    "<p> Modelos de aprendizado de máquina são bastante usados na área da engenharia florestal (mensuração florestal) para, por exemplo, estimar o volume de madeira de árvores sem ser necessário abatê-las.</p>\n",
    "\n",
    "<p> O processo é feito pela coleta de dados (dados observados) através do abate de algumas árvores, onde sua altura, diâmetro na altura do peito (dap), etc, são medidos de forma exata. Com estes dados, treina-se um modelo de AM que pode estimar o volume de outras árvores da população.</p>\n",
    "\n",
    "<p> Os modelos, chamados <b>alométricos</b>, são usados na área há muitos anos e são baseados em regressão (linear ou não) para encontrar uma equação que descreve os dados. Por exemplo, o modelo de Spurr é dado por:</p>\n",
    "\n",
    "<p><b>Volume = b0 + b1 * dap2 * Ht </b></p>\n",
    "\n",
    "<p> Onde <b>dap</b> é o diâmetro na altura do peito (1,3metros), <b>Ht</b> é a altura total. Tem-se vários modelos alométricos, cada um com uma determinada característica, parâmetros, etc. Um modelo de regressão envolve aplicar os dados observados e encontrar b0 e b1 no modelo apresentado, gerando assim uma equação que pode ser usada para prever o volume de outras árvores.</p>\n",
    "\n",
    "<p> Dado o arquivo <b>Volumes.csv</b>, que contém os dados de observação, escolha um modelo de aprendizado de máquina com a melhor estimativa, a partir da estatística de correlação.</p>"
   ]
  },
  {
   "cell_type": "markdown",
   "id": "e4f902ac",
   "metadata": {},
   "source": [
    "##### Tarefas:\n",
    "\n",
    "   - Carregar o arquivo Volumes.csv (http://www.razer.net.br/datasets/Volumes.csv)\n",
    "   - Eliminar a coluna NR, que só apresenta um número sequencial\n",
    "   - Criar partição de dados: treinamento 80%, teste 20% \n",
    "   - Usando o pacote \"caret\", treinar os modelos: Random Forest (rf), SVM (svmRadial), Redes Neurais (neuralnet) e o modelo alométrico de SPURR\n",
    "   - O modelo alométrico é dado por: Volume = b0 + b1 * dap2 * Ht \n",
    "   \n",
    "       **alom <- nls(VOL ~ b0 + b1*DAP*DAP*HT, dados, start=list(b0=0.5, b1=0.5))**\n",
    "       \n",
    "       \n",
    "   - Efetue as predições nos dados de teste\n",
    "   - Crie funções e calcule as seguintes métricas entre a predição e os dados observados\n",
    "      - Coeficiente de determinação: R2\n",
    "      - Erro padrão da estimativa: Syx\n",
    "      - Syx%\n",
    "   - Escolha o melhor modelo\n",
    "\n"
   ]
  },
  {
   "cell_type": "code",
   "execution_count": 11,
   "id": "ce387eb7",
   "metadata": {},
   "outputs": [
    {
     "data": {
      "text/html": [
       "<table>\n",
       "<thead><tr><th scope=col>DAP</th><th scope=col>HT</th><th scope=col>HP</th><th scope=col>VOL</th></tr></thead>\n",
       "<tbody>\n",
       "\t<tr><td>34.0     </td><td>27.00    </td><td>1.80     </td><td>0.8971441</td></tr>\n",
       "\t<tr><td>41.5     </td><td>27.95    </td><td>2.75     </td><td>1.6204441</td></tr>\n",
       "\t<tr><td>29.6     </td><td>26.35    </td><td>1.15     </td><td>0.8008181</td></tr>\n",
       "\t<tr><td>34.3     </td><td>27.15    </td><td>1.95     </td><td>1.0791682</td></tr>\n",
       "\t<tr><td>34.5     </td><td>26.20    </td><td>1.00     </td><td>0.9801112</td></tr>\n",
       "\t<tr><td>29.9     </td><td>27.10    </td><td>1.90     </td><td>0.9067022</td></tr>\n",
       "</tbody>\n",
       "</table>\n"
      ],
      "text/latex": [
       "\\begin{tabular}{r|llll}\n",
       " DAP & HT & HP & VOL\\\\\n",
       "\\hline\n",
       "\t 34.0      & 27.00     & 1.80      & 0.8971441\\\\\n",
       "\t 41.5      & 27.95     & 2.75      & 1.6204441\\\\\n",
       "\t 29.6      & 26.35     & 1.15      & 0.8008181\\\\\n",
       "\t 34.3      & 27.15     & 1.95      & 1.0791682\\\\\n",
       "\t 34.5      & 26.20     & 1.00      & 0.9801112\\\\\n",
       "\t 29.9      & 27.10     & 1.90      & 0.9067022\\\\\n",
       "\\end{tabular}\n"
      ],
      "text/markdown": [
       "\n",
       "| DAP | HT | HP | VOL |\n",
       "|---|---|---|---|\n",
       "| 34.0      | 27.00     | 1.80      | 0.8971441 |\n",
       "| 41.5      | 27.95     | 2.75      | 1.6204441 |\n",
       "| 29.6      | 26.35     | 1.15      | 0.8008181 |\n",
       "| 34.3      | 27.15     | 1.95      | 1.0791682 |\n",
       "| 34.5      | 26.20     | 1.00      | 0.9801112 |\n",
       "| 29.9      | 27.10     | 1.90      | 0.9067022 |\n",
       "\n"
      ],
      "text/plain": [
       "  DAP  HT    HP   VOL      \n",
       "1 34.0 27.00 1.80 0.8971441\n",
       "2 41.5 27.95 2.75 1.6204441\n",
       "3 29.6 26.35 1.15 0.8008181\n",
       "4 34.3 27.15 1.95 1.0791682\n",
       "5 34.5 26.20 1.00 0.9801112\n",
       "6 29.9 27.10 1.90 0.9067022"
      ]
     },
     "metadata": {},
     "output_type": "display_data"
    }
   ],
   "source": [
    "#Carregando os dados\n",
    "\n",
    "library(\"caret\")\n",
    "\n",
    "#carregando arquivo Volumes.csv e removendo a coluna NR\n",
    "df <- read.csv(\"http://www.razer.net.br/datasets/Volumes.csv\",sep=\";\", dec=\",\")\n",
    "df$NR <- NULL\n",
    "head(df)"
   ]
  },
  {
   "cell_type": "code",
   "execution_count": 12,
   "id": "45035616",
   "metadata": {},
   "outputs": [
    {
     "data": {
      "text/html": [
       "<table>\n",
       "<thead><tr><th></th><th scope=col>DAP</th><th scope=col>HT</th><th scope=col>HP</th><th scope=col>VOL</th></tr></thead>\n",
       "<tbody>\n",
       "\t<tr><th scope=row>95</th><td>31.5     </td><td>23.50    </td><td>2.50     </td><td>0.9221653</td></tr>\n",
       "\t<tr><th scope=row>96</th><td>33.1     </td><td>25.75    </td><td>2.65     </td><td>1.0966956</td></tr>\n",
       "\t<tr><th scope=row>97</th><td>31.0     </td><td>25.70    </td><td>2.60     </td><td>1.0514350</td></tr>\n",
       "\t<tr><th scope=row>98</th><td>43.0     </td><td>27.90    </td><td>2.70     </td><td>2.0090605</td></tr>\n",
       "\t<tr><th scope=row>99</th><td>40.0     </td><td>24.20    </td><td>1.10     </td><td>1.7411209</td></tr>\n",
       "\t<tr><th scope=row>100</th><td>38.0     </td><td>27.65    </td><td>2.45     </td><td>1.5336724</td></tr>\n",
       "</tbody>\n",
       "</table>\n"
      ],
      "text/latex": [
       "\\begin{tabular}{r|llll}\n",
       "  & DAP & HT & HP & VOL\\\\\n",
       "\\hline\n",
       "\t95 & 31.5      & 23.50     & 2.50      & 0.9221653\\\\\n",
       "\t96 & 33.1      & 25.75     & 2.65      & 1.0966956\\\\\n",
       "\t97 & 31.0      & 25.70     & 2.60      & 1.0514350\\\\\n",
       "\t98 & 43.0      & 27.90     & 2.70      & 2.0090605\\\\\n",
       "\t99 & 40.0      & 24.20     & 1.10      & 1.7411209\\\\\n",
       "\t100 & 38.0      & 27.65     & 2.45      & 1.5336724\\\\\n",
       "\\end{tabular}\n"
      ],
      "text/markdown": [
       "\n",
       "| <!--/--> | DAP | HT | HP | VOL |\n",
       "|---|---|---|---|---|\n",
       "| 95 | 31.5      | 23.50     | 2.50      | 0.9221653 |\n",
       "| 96 | 33.1      | 25.75     | 2.65      | 1.0966956 |\n",
       "| 97 | 31.0      | 25.70     | 2.60      | 1.0514350 |\n",
       "| 98 | 43.0      | 27.90     | 2.70      | 2.0090605 |\n",
       "| 99 | 40.0      | 24.20     | 1.10      | 1.7411209 |\n",
       "| 100 | 38.0      | 27.65     | 2.45      | 1.5336724 |\n",
       "\n"
      ],
      "text/plain": [
       "    DAP  HT    HP   VOL      \n",
       "95  31.5 23.50 2.50 0.9221653\n",
       "96  33.1 25.75 2.65 1.0966956\n",
       "97  31.0 25.70 2.60 1.0514350\n",
       "98  43.0 27.90 2.70 2.0090605\n",
       "99  40.0 24.20 1.10 1.7411209\n",
       "100 38.0 27.65 2.45 1.5336724"
      ]
     },
     "metadata": {},
     "output_type": "display_data"
    }
   ],
   "source": [
    "tail(df)"
   ]
  },
  {
   "cell_type": "code",
   "execution_count": 13,
   "id": "c75288b0",
   "metadata": {},
   "outputs": [],
   "source": [
    "# Repartir is dadis em 80% e 20%\n",
    "indices_reg <- createDataPartition(df$VOL, p=0.8, list=F)\n",
    "treino_reg <- df[indices_reg,]\n",
    "teste_reg <- df[-indices_reg,]"
   ]
  },
  {
   "cell_type": "markdown",
   "id": "1733c899",
   "metadata": {},
   "source": [
    "#### Treinar e testar modelo com random forest"
   ]
  },
  {
   "cell_type": "code",
   "execution_count": 14,
   "id": "a32a14f6",
   "metadata": {},
   "outputs": [
    {
     "name": "stdout",
     "output_type": "stream",
     "text": [
      "note: only 2 unique complexity parameters in default grid. Truncating the grid to 2 .\n",
      "\n"
     ]
    }
   ],
   "source": [
    "# criando semente pseudo aleatória para verificação futura\n",
    "set.seed(1)\n",
    "# treinando o modelo\n",
    "rf_reg <- train(VOL ~ ., data=treino_reg, method=\"rf\")"
   ]
  },
  {
   "cell_type": "code",
   "execution_count": 26,
   "id": "c8660c9c",
   "metadata": {},
   "outputs": [],
   "source": [
    "# realizando predição com a base de teste\n",
    "predicao_reg.rf <- predict(rf_reg, teste_reg)"
   ]
  },
  {
   "cell_type": "code",
   "execution_count": 31,
   "id": "9634a4d0",
   "metadata": {},
   "outputs": [
    {
     "data": {
      "text/plain": [
       "   Min. 1st Qu.  Median    Mean 3rd Qu.    Max. \n",
       " 0.7527  1.1287  1.3114  1.3478  1.4095  2.2681 "
      ]
     },
     "metadata": {},
     "output_type": "display_data"
    }
   ],
   "source": [
    "summary(predicao_reg.rf)"
   ]
  },
  {
   "cell_type": "markdown",
   "id": "c95eca9f",
   "metadata": {},
   "source": [
    "#### Treinar e testar modelo com SVM"
   ]
  },
  {
   "cell_type": "code",
   "execution_count": 16,
   "id": "71a39c98",
   "metadata": {},
   "outputs": [],
   "source": [
    "# criando semente pseudo aleatória para verificação futura\n",
    "set.seed(1)\n",
    "# treinando o modelo\n",
    "svm_reg <- train(VOL ~ ., data=treino_reg, method=\"svmRadial\")"
   ]
  },
  {
   "cell_type": "code",
   "execution_count": 17,
   "id": "60d61c78",
   "metadata": {},
   "outputs": [],
   "source": [
    "# realizando predição com a base de teste\n",
    "predicao_reg.svm <- predict(svm_reg, teste_reg)"
   ]
  },
  {
   "cell_type": "markdown",
   "id": "86edc15f",
   "metadata": {},
   "source": [
    "#### Treinar e testar modelo com redes neurais"
   ]
  },
  {
   "cell_type": "code",
   "execution_count": 138,
   "id": "a945feaa",
   "metadata": {},
   "outputs": [],
   "source": [
    "# criando semente pseudo aleatória para verificação futura\n",
    "set.seed(1)\n",
    "# treinando o modelo\n",
    "library(neuralnet)\n",
    "rna_reg <- neuralnet(VOL ~ ., data=treino_reg, hidden=c(2,1), linear.output=FALSE, threshold=0.01)"
   ]
  },
  {
   "cell_type": "code",
   "execution_count": 140,
   "id": "e060dfd5",
   "metadata": {},
   "outputs": [],
   "source": [
    "# realizando predição com a base de teste\n",
    "predicao_reg.rna <- predict(rna_reg, teste_reg)"
   ]
  },
  {
   "cell_type": "markdown",
   "id": "960fe63a",
   "metadata": {},
   "source": [
    "#### Treinar e testar modelo com modelo alométrico de SPURR"
   ]
  },
  {
   "cell_type": "code",
   "execution_count": 28,
   "id": "d40b2363",
   "metadata": {},
   "outputs": [],
   "source": [
    "# criando semente pseudo aleatória para verificação futura\n",
    "set.seed(1)\n",
    "# treinando o modelo\n",
    "alom_reg <- nls(VOL ~ b0 + b1*DAP*DAP*HT, data=treino_reg, start=list(b0 = 0.5, b1=0.5))"
   ]
  },
  {
   "cell_type": "code",
   "execution_count": 29,
   "id": "0569ed8e",
   "metadata": {},
   "outputs": [],
   "source": [
    "# realizando predição com a base de teste\n",
    "predicao_reg.alom <- predict(alom_reg, teste_reg)"
   ]
  },
  {
   "cell_type": "markdown",
   "id": "eb4893c6",
   "metadata": {},
   "source": [
    "### Criando funções para calcular métricas entre as predições dos dados observados"
   ]
  },
  {
   "cell_type": "markdown",
   "id": "eb3a14d8",
   "metadata": {},
   "source": [
    "#### Coeficinete de determinação: $R^2$"
   ]
  },
  {
   "cell_type": "code",
   "execution_count": 116,
   "id": "1b6d19da",
   "metadata": {},
   "outputs": [],
   "source": [
    "r2 <- function (valor_observado, valor_predito){\n",
    "    return(1-(sum((valor_observado-valor_predito)^2)/sum((valor_observado-mean(valor_observado))^2)))\n",
    "}"
   ]
  },
  {
   "cell_type": "code",
   "execution_count": 121,
   "id": "3d1c8098",
   "metadata": {},
   "outputs": [
    {
     "data": {
      "text/html": [
       "0.625"
      ],
      "text/latex": [
       "0.625"
      ],
      "text/markdown": [
       "0.625"
      ],
      "text/plain": [
       "[1] 0.625"
      ]
     },
     "metadata": {},
     "output_type": "display_data"
    }
   ],
   "source": [
    "#Testando a função\n",
    "x = c(1,2,3)\n",
    "y = c(1.5,2.5,3.5)\n",
    "r2(x, y)"
   ]
  },
  {
   "cell_type": "markdown",
   "id": "85a9f67c",
   "metadata": {},
   "source": [
    "#### Erro padrão da estimativa: $S_yx$"
   ]
  },
  {
   "cell_type": "code",
   "execution_count": 99,
   "id": "187d83b8",
   "metadata": {},
   "outputs": [],
   "source": [
    "syx <- function(valor_observado, valor_predito){\n",
    "    return(sqrt(sum((valor_observado-valor_predito)^2)/(length(valor_observado)-2)))\n",
    "}"
   ]
  },
  {
   "cell_type": "code",
   "execution_count": 122,
   "id": "b875d960",
   "metadata": {},
   "outputs": [
    {
     "data": {
      "text/html": [
       "0.866025403784439"
      ],
      "text/latex": [
       "0.866025403784439"
      ],
      "text/markdown": [
       "0.866025403784439"
      ],
      "text/plain": [
       "[1] 0.8660254"
      ]
     },
     "metadata": {},
     "output_type": "display_data"
    }
   ],
   "source": [
    "#Testando a função\n",
    "x = c(1,2,3)\n",
    "y = c(1.5,2.5,3.5)\n",
    "syx(x, y)"
   ]
  },
  {
   "cell_type": "markdown",
   "id": "df2ebf48",
   "metadata": {},
   "source": [
    "#### Erro padrão da estimativa em %: $S_yx \\%$"
   ]
  },
  {
   "cell_type": "code",
   "execution_count": 110,
   "id": "d0de3988",
   "metadata": {},
   "outputs": [],
   "source": [
    "syx_porc <- function(valor_observado, valor_predito){\n",
    "    return(syx(valor_observado, valor_predito)/mean(valor_observado)*100)\n",
    "}"
   ]
  },
  {
   "cell_type": "code",
   "execution_count": 123,
   "id": "0e7a6f70",
   "metadata": {},
   "outputs": [
    {
     "data": {
      "text/html": [
       "43.3012701892219"
      ],
      "text/latex": [
       "43.3012701892219"
      ],
      "text/markdown": [
       "43.3012701892219"
      ],
      "text/plain": [
       "[1] 43.30127"
      ]
     },
     "metadata": {},
     "output_type": "display_data"
    }
   ],
   "source": [
    "#Testando a função\n",
    "x = c(1,2,3)\n",
    "y = c(1.5,2.5,3.5)\n",
    "syx_porc(x, y)"
   ]
  },
  {
   "cell_type": "markdown",
   "id": "4d022849",
   "metadata": {},
   "source": [
    "### Utilizando funções criadas para calcular métricas entre as predições dos dados observados"
   ]
  },
  {
   "cell_type": "markdown",
   "id": "46352a55",
   "metadata": {},
   "source": [
    "#### Coeficinete de determinação: $R^2$"
   ]
  },
  {
   "cell_type": "code",
   "execution_count": 117,
   "id": "fb770b58",
   "metadata": {},
   "outputs": [
    {
     "data": {
      "text/html": [
       "0.889632210301559"
      ],
      "text/latex": [
       "0.889632210301559"
      ],
      "text/markdown": [
       "0.889632210301559"
      ],
      "text/plain": [
       "[1] 0.8896322"
      ]
     },
     "metadata": {},
     "output_type": "display_data"
    }
   ],
   "source": [
    "# Random forest\n",
    "r2(teste_reg$VOL, predicao_reg.rf)"
   ]
  },
  {
   "cell_type": "code",
   "execution_count": 118,
   "id": "c5c3114e",
   "metadata": {},
   "outputs": [
    {
     "data": {
      "text/html": [
       "0.597887498177314"
      ],
      "text/latex": [
       "0.597887498177314"
      ],
      "text/markdown": [
       "0.597887498177314"
      ],
      "text/plain": [
       "[1] 0.5978875"
      ]
     },
     "metadata": {},
     "output_type": "display_data"
    }
   ],
   "source": [
    "# SVM\n",
    "r2(teste_reg$VOL, predicao_reg.svm)"
   ]
  },
  {
   "cell_type": "code",
   "execution_count": 142,
   "id": "8e8fcec2",
   "metadata": {},
   "outputs": [
    {
     "data": {
      "text/html": [
       "-0.663964969377359"
      ],
      "text/latex": [
       "-0.663964969377359"
      ],
      "text/markdown": [
       "-0.663964969377359"
      ],
      "text/plain": [
       "[1] -0.663965"
      ]
     },
     "metadata": {},
     "output_type": "display_data"
    }
   ],
   "source": [
    "# rna\n",
    "r2(teste_reg$VOL, predicao_reg.rna)"
   ]
  },
  {
   "cell_type": "code",
   "execution_count": 125,
   "id": "f812bebf",
   "metadata": {},
   "outputs": [
    {
     "data": {
      "text/html": [
       "0.901891629360885"
      ],
      "text/latex": [
       "0.901891629360885"
      ],
      "text/markdown": [
       "0.901891629360885"
      ],
      "text/plain": [
       "[1] 0.9018916"
      ]
     },
     "metadata": {},
     "output_type": "display_data"
    }
   ],
   "source": [
    "# modelo Alometrico\n",
    "r2(teste_reg$VOL, predicao_reg.alom)"
   ]
  },
  {
   "cell_type": "markdown",
   "id": "b859bb20",
   "metadata": {},
   "source": [
    "**Avaliação:** O modelo alométrico se saiu melhor que os outros modelos, pois está mais próximo de 1. Nota: ainda não consegui interpretar o sinal negativo em RNA."
   ]
  },
  {
   "cell_type": "markdown",
   "id": "e16d372c",
   "metadata": {},
   "source": [
    "#### Erro padrão da estimativa: $S_yx$"
   ]
  },
  {
   "cell_type": "code",
   "execution_count": 126,
   "id": "26ff10f5",
   "metadata": {},
   "outputs": [
    {
     "data": {
      "text/html": [
       "0.177310703060105"
      ],
      "text/latex": [
       "0.177310703060105"
      ],
      "text/markdown": [
       "0.177310703060105"
      ],
      "text/plain": [
       "[1] 0.1773107"
      ]
     },
     "metadata": {},
     "output_type": "display_data"
    }
   ],
   "source": [
    "# Random forest\n",
    "syx(teste_reg$VOL, predicao_reg.rf)"
   ]
  },
  {
   "cell_type": "code",
   "execution_count": 127,
   "id": "5b888166",
   "metadata": {},
   "outputs": [
    {
     "data": {
      "text/html": [
       "0.338444582805524"
      ],
      "text/latex": [
       "0.338444582805524"
      ],
      "text/markdown": [
       "0.338444582805524"
      ],
      "text/plain": [
       "[1] 0.3384446"
      ]
     },
     "metadata": {},
     "output_type": "display_data"
    }
   ],
   "source": [
    "# SVM\n",
    "syx(teste_reg$VOL, predicao_reg.svm)"
   ]
  },
  {
   "cell_type": "code",
   "execution_count": 143,
   "id": "71119d93",
   "metadata": {},
   "outputs": [
    {
     "data": {
      "text/html": [
       "0.688471344498325"
      ],
      "text/latex": [
       "0.688471344498325"
      ],
      "text/markdown": [
       "0.688471344498325"
      ],
      "text/plain": [
       "[1] 0.6884713"
      ]
     },
     "metadata": {},
     "output_type": "display_data"
    }
   ],
   "source": [
    "# rna\n",
    "syx(teste_reg$VOL, predicao_reg.rna)"
   ]
  },
  {
   "cell_type": "code",
   "execution_count": 129,
   "id": "2bfb14c1",
   "metadata": {},
   "outputs": [
    {
     "data": {
      "text/html": [
       "0.167173259699492"
      ],
      "text/latex": [
       "0.167173259699492"
      ],
      "text/markdown": [
       "0.167173259699492"
      ],
      "text/plain": [
       "[1] 0.1671733"
      ]
     },
     "metadata": {},
     "output_type": "display_data"
    }
   ],
   "source": [
    "# modelo Alometrico\n",
    "syx(teste_reg$VOL, predicao_reg.alom)"
   ]
  },
  {
   "cell_type": "markdown",
   "id": "66762e13",
   "metadata": {},
   "source": [
    "**Avaliação:** O modelo alométrico se saiu melhor que os outros modelos, pois está mais próximo de 0. Nota: RNA parece ter tido o pior resultado."
   ]
  },
  {
   "cell_type": "markdown",
   "id": "6dd7e245",
   "metadata": {},
   "source": [
    "#### Erro padrão da estimativa em %: $S_yx \\%$"
   ]
  },
  {
   "cell_type": "code",
   "execution_count": 130,
   "id": "ebb3332a",
   "metadata": {},
   "outputs": [
    {
     "data": {
      "text/html": [
       "12.5551066908747"
      ],
      "text/latex": [
       "12.5551066908747"
      ],
      "text/markdown": [
       "12.5551066908747"
      ],
      "text/plain": [
       "[1] 12.55511"
      ]
     },
     "metadata": {},
     "output_type": "display_data"
    }
   ],
   "source": [
    "# Random forest\n",
    "syx_porc(teste_reg$VOL, predicao_reg.rf)"
   ]
  },
  {
   "cell_type": "code",
   "execution_count": 131,
   "id": "582ca30a",
   "metadata": {},
   "outputs": [
    {
     "data": {
      "text/html": [
       "23.9647566262908"
      ],
      "text/latex": [
       "23.9647566262908"
      ],
      "text/markdown": [
       "23.9647566262908"
      ],
      "text/plain": [
       "[1] 23.96476"
      ]
     },
     "metadata": {},
     "output_type": "display_data"
    }
   ],
   "source": [
    "# SVM\n",
    "syx_porc(teste_reg$VOL, predicao_reg.svm)"
   ]
  },
  {
   "cell_type": "code",
   "execution_count": 144,
   "id": "2049eff4",
   "metadata": {},
   "outputs": [
    {
     "data": {
      "text/html": [
       "48.749630082152"
      ],
      "text/latex": [
       "48.749630082152"
      ],
      "text/markdown": [
       "48.749630082152"
      ],
      "text/plain": [
       "[1] 48.74963"
      ]
     },
     "metadata": {},
     "output_type": "display_data"
    }
   ],
   "source": [
    "# rna\n",
    "syx_porc(teste_reg$VOL, predicao_reg.rna)"
   ]
  },
  {
   "cell_type": "code",
   "execution_count": 133,
   "id": "a2a322dc",
   "metadata": {},
   "outputs": [
    {
     "data": {
      "text/html": [
       "11.8372894312925"
      ],
      "text/latex": [
       "11.8372894312925"
      ],
      "text/markdown": [
       "11.8372894312925"
      ],
      "text/plain": [
       "[1] 11.83729"
      ]
     },
     "metadata": {},
     "output_type": "display_data"
    }
   ],
   "source": [
    "# modelo Alometrico\n",
    "syx_porc(teste_reg$VOL, predicao_reg.alom)"
   ]
  },
  {
   "cell_type": "markdown",
   "id": "4682c094",
   "metadata": {},
   "source": [
    "**Avaliação:** O modelo alométrico se saiu melhor que os outros modelos, pois está mais próximo de 0. RNA indica ser a pior."
   ]
  },
  {
   "cell_type": "markdown",
   "id": "7483e223",
   "metadata": {},
   "source": [
    "### Após avaliar os resultados obtidos foi escolhido o modelo Alométrico de SPURR"
   ]
  }
 ],
 "metadata": {
  "kernelspec": {
   "display_name": "R",
   "language": "R",
   "name": "ir"
  },
  "language_info": {
   "codemirror_mode": "r",
   "file_extension": ".r",
   "mimetype": "text/x-r-source",
   "name": "R",
   "pygments_lexer": "r",
   "version": "3.6.1"
  }
 },
 "nbformat": 4,
 "nbformat_minor": 5
}
