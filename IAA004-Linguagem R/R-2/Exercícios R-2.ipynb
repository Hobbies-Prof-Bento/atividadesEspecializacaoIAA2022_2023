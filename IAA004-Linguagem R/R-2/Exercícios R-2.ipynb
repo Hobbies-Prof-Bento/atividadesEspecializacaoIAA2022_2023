{
 "cells": [
  {
   "cell_type": "markdown",
   "id": "f024c947",
   "metadata": {},
   "source": [
    "## Exercícios R-2"
   ]
  },
  {
   "cell_type": "markdown",
   "id": "9b8254dd",
   "metadata": {},
   "source": [
    "### 1 Rode o console do R e efetue as seguintes operações"
   ]
  },
  {
   "cell_type": "markdown",
   "id": "b57d3314",
   "metadata": {},
   "source": [
    "a) (1 + 2 + 3 + 4) / 4"
   ]
  },
  {
   "cell_type": "code",
   "execution_count": 1,
   "id": "c38ecd69",
   "metadata": {},
   "outputs": [
    {
     "data": {
      "text/html": [
       "2.5"
      ],
      "text/latex": [
       "2.5"
      ],
      "text/markdown": [
       "2.5"
      ],
      "text/plain": [
       "[1] 2.5"
      ]
     },
     "metadata": {},
     "output_type": "display_data"
    }
   ],
   "source": [
    "(1+2+3+4)/4"
   ]
  },
  {
   "cell_type": "markdown",
   "id": "e3d5fa33",
   "metadata": {},
   "source": [
    "b) 7 / 2 + 8 * (5 – 3)"
   ]
  },
  {
   "cell_type": "code",
   "execution_count": 3,
   "id": "07f213aa",
   "metadata": {},
   "outputs": [
    {
     "data": {
      "text/html": [
       "19.5"
      ],
      "text/latex": [
       "19.5"
      ],
      "text/markdown": [
       "19.5"
      ],
      "text/plain": [
       "[1] 19.5"
      ]
     },
     "metadata": {},
     "output_type": "display_data"
    }
   ],
   "source": [
    "7 / 2 + 8 * (5 - 3)"
   ]
  },
  {
   "cell_type": "markdown",
   "id": "4c6793b5",
   "metadata": {},
   "source": [
    "c) Divisão entre 7 e 3"
   ]
  },
  {
   "cell_type": "code",
   "execution_count": 4,
   "id": "1ee943b6",
   "metadata": {},
   "outputs": [
    {
     "data": {
      "text/html": [
       "2.33333333333333"
      ],
      "text/latex": [
       "2.33333333333333"
      ],
      "text/markdown": [
       "2.33333333333333"
      ],
      "text/plain": [
       "[1] 2.333333"
      ]
     },
     "metadata": {},
     "output_type": "display_data"
    }
   ],
   "source": [
    "7/3"
   ]
  },
  {
   "cell_type": "markdown",
   "id": "a2492902",
   "metadata": {},
   "source": [
    "d) Resto da divisão entre 7 e 3"
   ]
  },
  {
   "cell_type": "code",
   "execution_count": 5,
   "id": "e53b0fe0",
   "metadata": {},
   "outputs": [
    {
     "data": {
      "text/html": [
       "1"
      ],
      "text/latex": [
       "1"
      ],
      "text/markdown": [
       "1"
      ],
      "text/plain": [
       "[1] 1"
      ]
     },
     "metadata": {},
     "output_type": "display_data"
    }
   ],
   "source": [
    "7%%3"
   ]
  },
  {
   "cell_type": "markdown",
   "id": "de25d83d",
   "metadata": {},
   "source": [
    "e) Parte inteira da divisão entre 7 e 3"
   ]
  },
  {
   "cell_type": "code",
   "execution_count": 6,
   "id": "5ab7f126",
   "metadata": {},
   "outputs": [
    {
     "data": {
      "text/html": [
       "2"
      ],
      "text/latex": [
       "2"
      ],
      "text/markdown": [
       "2"
      ],
      "text/plain": [
       "[1] 2"
      ]
     },
     "metadata": {},
     "output_type": "display_data"
    }
   ],
   "source": [
    "7%/%3"
   ]
  },
  {
   "cell_type": "markdown",
   "id": "24205382",
   "metadata": {},
   "source": [
    "f) Volume de um tubo: 𝜋 * raio² * altura: Calcular o volume de um tubo de raio 10 e altura 70"
   ]
  },
  {
   "cell_type": "code",
   "execution_count": 12,
   "id": "0935d1c9",
   "metadata": {},
   "outputs": [
    {
     "data": {
      "text/html": [
       "21991.1485751286"
      ],
      "text/latex": [
       "21991.1485751286"
      ],
      "text/markdown": [
       "21991.1485751286"
      ],
      "text/plain": [
       "[1] 21991.15"
      ]
     },
     "metadata": {},
     "output_type": "display_data"
    }
   ],
   "source": [
    "pi * 10^2 * 70"
   ]
  },
  {
   "cell_type": "markdown",
   "id": "117224ae",
   "metadata": {},
   "source": [
    "### 2 O modelo alométrico de biomassa ajustado para árvores do Cerradão estabelece que a biomassa é dada pela expressão:\n",
    "\n",
    "#### $b = e^{-1.7953} . d^{2.2974}$\n",
    "\n",
    "#### onde e é o número de Euler, b é a biomassa estimada em kg, e d é o diâmetro à altura do peito (dap) em cm. Já um outro modelo para biomassa das árvores na mesma situação é:\n",
    "\n",
    "#### $ln(b) = -2.6464 + 1.9960 ln(d) + 0.7558 ln(h)$\n",
    "\n",
    "#### onde h é a altura das árvores em m.\n",
    "\n",
    "#### Calcule a biomassa estimada por cada modelo para uma árvore com dap de 15cm e altura de 12m. Coloque a estimativa do modelo alométrico em um objeto chamado biomassa1 e a estimativa do segundo modelo no objeto biomassa2.\n",
    "\n",
    "#### Use \"exp(1)\" para obter o número de Euler\n",
    "\n",
    "#### Mostre e compare as duas estimativas."
   ]
  },
  {
   "cell_type": "code",
   "execution_count": 17,
   "id": "c6bcf802",
   "metadata": {},
   "outputs": [],
   "source": [
    "d = 15\n",
    "h = 12"
   ]
  },
  {
   "cell_type": "markdown",
   "id": "59166f12",
   "metadata": {},
   "source": [
    "a) $b = e^{-1.7953} . d^{2.2974}$"
   ]
  },
  {
   "cell_type": "code",
   "execution_count": 20,
   "id": "1062b64e",
   "metadata": {},
   "outputs": [
    {
     "data": {
      "text/html": [
       "83.6109533141343"
      ],
      "text/latex": [
       "83.6109533141343"
      ],
      "text/markdown": [
       "83.6109533141343"
      ],
      "text/plain": [
       "[1] 83.61095"
      ]
     },
     "metadata": {},
     "output_type": "display_data"
    }
   ],
   "source": [
    "b = exp(-1.7953) * d^(2.2974)\n",
    "b"
   ]
  },
  {
   "cell_type": "markdown",
   "id": "dd03bad7",
   "metadata": {},
   "source": [
    "b) $ln(b) = -2.6464 + 1.9960 ln(d) + 0.7558 ln(h) \\Leftrightarrow b = e^{-2.6464 + 1.9960 ln(d) + 0.7558 ln(h)}$ "
   ]
  },
  {
   "cell_type": "code",
   "execution_count": 21,
   "id": "66e7dd8f",
   "metadata": {},
   "outputs": [
    {
     "data": {
      "text/html": [
       "103.230117561724"
      ],
      "text/latex": [
       "103.230117561724"
      ],
      "text/markdown": [
       "103.230117561724"
      ],
      "text/plain": [
       "[1] 103.2301"
      ]
     },
     "metadata": {},
     "output_type": "display_data"
    }
   ],
   "source": [
    "b = exp(-2.6464 + 1.9960 * log(d) + 0.7558 * log(h))\n",
    "b"
   ]
  },
  {
   "cell_type": "markdown",
   "id": "2cb6222f",
   "metadata": {},
   "source": [
    "as estimativas deram diferentes, é necessário estudar qual levar em consideração."
   ]
  }
 ],
 "metadata": {
  "kernelspec": {
   "display_name": "R",
   "language": "R",
   "name": "ir"
  },
  "language_info": {
   "codemirror_mode": "r",
   "file_extension": ".r",
   "mimetype": "text/x-r-source",
   "name": "R",
   "pygments_lexer": "r",
   "version": "3.6.1"
  }
 },
 "nbformat": 4,
 "nbformat_minor": 5
}
