{
 "cells": [
  {
   "cell_type": "markdown",
   "id": "c94ebf03",
   "metadata": {},
   "source": [
    "## Exercícios R-4"
   ]
  },
  {
   "cell_type": "markdown",
   "id": "170174d3",
   "metadata": {},
   "source": [
    "### 1. Execute os exercícios apresentados nos slides"
   ]
  },
  {
   "cell_type": "markdown",
   "id": "5fc65473",
   "metadata": {},
   "source": [
    "#### executando comandos e salvando arquivos"
   ]
  },
  {
   "cell_type": "markdown",
   "id": "2a46a883",
   "metadata": {},
   "source": [
    "$ \\cdot $ Arquivo \"comandos.R\n",
    "\n",
    "    >print(10 + 20)\n",
    "    >print(\"oi mundo)\n",
    "    \n",
    "$ \\cdot $ No console pode carregar comandos com source():\n",
    "\n",
    "    >souce(\"comandos.R\")\n",
    "    \n",
    "$ \\cdot $ Os comandos são carregados e executados"
   ]
  },
  {
   "cell_type": "code",
   "execution_count": 1,
   "id": "61f4b3f6",
   "metadata": {},
   "outputs": [
    {
     "name": "stdout",
     "output_type": "stream",
     "text": [
      "[1] 30\n",
      "[1] \"oi mundo\"\n"
     ]
    }
   ],
   "source": [
    "source(\"comandos.R\")"
   ]
  },
  {
   "cell_type": "markdown",
   "id": "28599807",
   "metadata": {},
   "source": [
    "$ \\cdot $ Pode-se redirecionar a saída para um arquivo: sink()"
   ]
  },
  {
   "cell_type": "code",
   "execution_count": 4,
   "id": "fcb5c429",
   "metadata": {},
   "outputs": [
    {
     "name": "stdout",
     "output_type": "stream",
     "text": [
      "[1] \"oi mundo!!\"\n"
     ]
    }
   ],
   "source": [
    "sink(\"saida.txt\")\n",
    "print(\"oi mundo!!\")\n",
    "sink()\n",
    "\n",
    "#gera o arquivo saida.txt"
   ]
  },
  {
   "cell_type": "markdown",
   "id": "92b3e354",
   "metadata": {},
   "source": [
    "#### lendo arquivos"
   ]
  },
  {
   "cell_type": "markdown",
   "id": "70049844",
   "metadata": {},
   "source": [
    "##### exemplo 1"
   ]
  },
  {
   "cell_type": "code",
   "execution_count": 12,
   "id": "98d8429c",
   "metadata": {},
   "outputs": [
    {
     "name": "stderr",
     "output_type": "stream",
     "text": [
      "Warning message in read.table(\"arquivo.dat\"):\n",
      "\"incomplete final line found by readTableHeader on 'arquivo.dat'\""
     ]
    },
    {
     "data": {
      "text/html": [
       "<table>\n",
       "<thead><tr><th scope=col>V1</th><th scope=col>V2</th></tr></thead>\n",
       "<tbody>\n",
       "\t<tr><td>nome     </td><td>sobrenome</td></tr>\n",
       "\t<tr><td>Razer    </td><td>MontaÃ±o </td></tr>\n",
       "\t<tr><td>Dath     </td><td>Vader    </td></tr>\n",
       "\t<tr><td>Luke     </td><td>Skywalker</td></tr>\n",
       "\t<tr><td>Obi-wan  </td><td>Kenobi   </td></tr>\n",
       "</tbody>\n",
       "</table>\n"
      ],
      "text/latex": [
       "\\begin{tabular}{r|ll}\n",
       " V1 & V2\\\\\n",
       "\\hline\n",
       "\t nome      & sobrenome\\\\\n",
       "\t Razer     & MontaÃ±o \\\\\n",
       "\t Dath      & Vader    \\\\\n",
       "\t Luke      & Skywalker\\\\\n",
       "\t Obi-wan   & Kenobi   \\\\\n",
       "\\end{tabular}\n"
      ],
      "text/markdown": [
       "\n",
       "| V1 | V2 |\n",
       "|---|---|\n",
       "| nome      | sobrenome |\n",
       "| Razer     | MontaÃ±o  |\n",
       "| Dath      | Vader     |\n",
       "| Luke      | Skywalker |\n",
       "| Obi-wan   | Kenobi    |\n",
       "\n"
      ],
      "text/plain": [
       "  V1      V2       \n",
       "1 nome    sobrenome\n",
       "2 Razer   MontaÃ±o \n",
       "3 Dath    Vader    \n",
       "4 Luke    Skywalker\n",
       "5 Obi-wan Kenobi   "
      ]
     },
     "metadata": {},
     "output_type": "display_data"
    }
   ],
   "source": [
    "dados <- read.table(\"arquivo.dat\")\n",
    "dados"
   ]
  },
  {
   "cell_type": "code",
   "execution_count": 17,
   "id": "5bd93d1f",
   "metadata": {},
   "outputs": [
    {
     "name": "stderr",
     "output_type": "stream",
     "text": [
      "Warning message in read.table(\"arquivo.dat\", header = T):\n",
      "\"incomplete final line found by readTableHeader on 'arquivo.dat'\""
     ]
    },
    {
     "data": {
      "text/html": [
       "<table>\n",
       "<thead><tr><th scope=col>nome</th><th scope=col>sobrenome</th></tr></thead>\n",
       "<tbody>\n",
       "\t<tr><td>Razer    </td><td>MontaÃ±o </td></tr>\n",
       "\t<tr><td>Dath     </td><td>Vader    </td></tr>\n",
       "\t<tr><td>Luke     </td><td>Skywalker</td></tr>\n",
       "\t<tr><td>Obi-wan  </td><td>Kenobi   </td></tr>\n",
       "</tbody>\n",
       "</table>\n"
      ],
      "text/latex": [
       "\\begin{tabular}{r|ll}\n",
       " nome & sobrenome\\\\\n",
       "\\hline\n",
       "\t Razer     & MontaÃ±o \\\\\n",
       "\t Dath      & Vader    \\\\\n",
       "\t Luke      & Skywalker\\\\\n",
       "\t Obi-wan   & Kenobi   \\\\\n",
       "\\end{tabular}\n"
      ],
      "text/markdown": [
       "\n",
       "| nome | sobrenome |\n",
       "|---|---|\n",
       "| Razer     | MontaÃ±o  |\n",
       "| Dath      | Vader     |\n",
       "| Luke      | Skywalker |\n",
       "| Obi-wan   | Kenobi    |\n",
       "\n"
      ],
      "text/plain": [
       "  nome    sobrenome\n",
       "1 Razer   MontaÃ±o \n",
       "2 Dath    Vader    \n",
       "3 Luke    Skywalker\n",
       "4 Obi-wan Kenobi   "
      ]
     },
     "metadata": {},
     "output_type": "display_data"
    }
   ],
   "source": [
    "dados <- read.table(\"arquivo.dat\", header=T)\n",
    "dados"
   ]
  },
  {
   "cell_type": "markdown",
   "id": "2cffbc9d",
   "metadata": {},
   "source": [
    "##### Exemplo 2"
   ]
  },
  {
   "cell_type": "code",
   "execution_count": 18,
   "id": "5c734a88",
   "metadata": {},
   "outputs": [
    {
     "data": {
      "text/html": [
       "<table>\n",
       "<thead><tr><th scope=col>nome</th><th scope=col>idade</th></tr></thead>\n",
       "<tbody>\n",
       "\t<tr><td>Razer  </td><td>25     </td></tr>\n",
       "\t<tr><td>Anthom </td><td>30     </td></tr>\n",
       "\t<tr><td>Nizer  </td><td>18     </td></tr>\n",
       "\t<tr><td>ROjas  </td><td>15     </td></tr>\n",
       "\t<tr><td>Montaño</td><td>20     </td></tr>\n",
       "</tbody>\n",
       "</table>\n"
      ],
      "text/latex": [
       "\\begin{tabular}{r|ll}\n",
       " nome & idade\\\\\n",
       "\\hline\n",
       "\t Razer   & 25     \\\\\n",
       "\t Anthom  & 30     \\\\\n",
       "\t Nizer   & 18     \\\\\n",
       "\t ROjas   & 15     \\\\\n",
       "\t Montaño & 20     \\\\\n",
       "\\end{tabular}\n"
      ],
      "text/markdown": [
       "\n",
       "| nome | idade |\n",
       "|---|---|\n",
       "| Razer   | 25      |\n",
       "| Anthom  | 30      |\n",
       "| Nizer   | 18      |\n",
       "| ROjas   | 15      |\n",
       "| Montaño | 20      |\n",
       "\n"
      ],
      "text/plain": [
       "  nome    idade\n",
       "1 Razer   25   \n",
       "2 Anthom  30   \n",
       "3 Nizer   18   \n",
       "4 ROjas   15   \n",
       "5 Montaño 20   "
      ]
     },
     "metadata": {},
     "output_type": "display_data"
    }
   ],
   "source": [
    "df <- data.frame(nome=c(\"Razer\", \"Anthom\", \"Nizer\", \"ROjas\", \"Montaño\"), idade=c(25, 30, 18, 15, 20))\n",
    "df"
   ]
  },
  {
   "cell_type": "code",
   "execution_count": 19,
   "id": "3e55b1e9",
   "metadata": {},
   "outputs": [],
   "source": [
    "write.table(df, \"idades.txt\")"
   ]
  },
  {
   "cell_type": "code",
   "execution_count": 23,
   "id": "e3123e6f",
   "metadata": {},
   "outputs": [],
   "source": [
    "write.table(df, \"idades2.txt\", row.names=F, sep=\"/\")"
   ]
  },
  {
   "cell_type": "code",
   "execution_count": 24,
   "id": "93c5bc1b",
   "metadata": {},
   "outputs": [],
   "source": [
    "write.table(df, \"idades3.txt\", quote=F, row.names=F, sep=\"-\")"
   ]
  },
  {
   "cell_type": "markdown",
   "id": "7673a5c3",
   "metadata": {},
   "source": [
    "##### Exemplo 3"
   ]
  },
  {
   "cell_type": "code",
   "execution_count": 27,
   "id": "674d5d07",
   "metadata": {},
   "outputs": [
    {
     "data": {
      "text/html": [
       "<table>\n",
       "<thead><tr><th scope=col>X</th><th scope=col>juice</th><th scope=col>ohms</th></tr></thead>\n",
       "<tbody>\n",
       "\t<tr><td>1   </td><td>4.0 </td><td>4860</td></tr>\n",
       "\t<tr><td>2   </td><td>5.0 </td><td>5860</td></tr>\n",
       "\t<tr><td>3   </td><td>5.5 </td><td>6650</td></tr>\n",
       "\t<tr><td>4   </td><td>7.5 </td><td>7050</td></tr>\n",
       "\t<tr><td>5   </td><td>8.5 </td><td>5960</td></tr>\n",
       "\t<tr><td>6   </td><td>8.5 </td><td>6750</td></tr>\n",
       "</tbody>\n",
       "</table>\n"
      ],
      "text/latex": [
       "\\begin{tabular}{r|lll}\n",
       " X & juice & ohms\\\\\n",
       "\\hline\n",
       "\t 1    & 4.0  & 4860\\\\\n",
       "\t 2    & 5.0  & 5860\\\\\n",
       "\t 3    & 5.5  & 6650\\\\\n",
       "\t 4    & 7.5  & 7050\\\\\n",
       "\t 5    & 8.5  & 5960\\\\\n",
       "\t 6    & 8.5  & 6750\\\\\n",
       "\\end{tabular}\n"
      ],
      "text/markdown": [
       "\n",
       "| X | juice | ohms |\n",
       "|---|---|---|\n",
       "| 1    | 4.0  | 4860 |\n",
       "| 2    | 5.0  | 5860 |\n",
       "| 3    | 5.5  | 6650 |\n",
       "| 4    | 7.5  | 7050 |\n",
       "| 5    | 8.5  | 5960 |\n",
       "| 6    | 8.5  | 6750 |\n",
       "\n"
      ],
      "text/plain": [
       "  X juice ohms\n",
       "1 1 4.0   4860\n",
       "2 2 5.0   5860\n",
       "3 3 5.5   6650\n",
       "4 4 7.5   7050\n",
       "5 5 8.5   5960\n",
       "6 6 8.5   6750"
      ]
     },
     "metadata": {},
     "output_type": "display_data"
    }
   ],
   "source": [
    "dados <- read.csv(\"fruitohms.csv\")\n",
    "head(dados)"
   ]
  },
  {
   "cell_type": "markdown",
   "id": "42502606",
   "metadata": {},
   "source": [
    "##### Exemplo 4"
   ]
  },
  {
   "cell_type": "code",
   "execution_count": 28,
   "id": "241b3f94",
   "metadata": {},
   "outputs": [],
   "source": [
    "df <- data.frame(nome=c(\"Razer\", \"Anthom\",\"Nilzer\", \"Rojas\", \"Montaño\"), salario=c(50000.00, 85439.33, 123987.654, 18698.10, 73681))\n",
    "write.csv(df, \"salario.csv\")"
   ]
  },
  {
   "cell_type": "code",
   "execution_count": 29,
   "id": "e85e57f6",
   "metadata": {},
   "outputs": [],
   "source": [
    "write.csv2(df, \"salario2.csv\")"
   ]
  },
  {
   "cell_type": "code",
   "execution_count": 30,
   "id": "85533d16",
   "metadata": {},
   "outputs": [],
   "source": [
    "write.csv2(df, \"salario3.csv\", row.names=F, quote=F)"
   ]
  },
  {
   "cell_type": "markdown",
   "id": "46a58f55",
   "metadata": {},
   "source": [
    "### 2. Carregue o arquivo: http://www.razer.net.br/datasets/Biomassa_REG.csv"
   ]
  },
  {
   "cell_type": "code",
   "execution_count": 33,
   "id": "92e768f5",
   "metadata": {},
   "outputs": [
    {
     "data": {
      "text/html": [
       "<table>\n",
       "<thead><tr><th scope=col>ï..dap</th><th scope=col>h</th><th scope=col>Me</th><th scope=col>biomassa</th></tr></thead>\n",
       "<tbody>\n",
       "\t<tr><td> 6.4 </td><td>5.0  </td><td>1.04 </td><td> 7.07</td></tr>\n",
       "\t<tr><td> 7.3 </td><td>5.0  </td><td>1.04 </td><td>10.30</td></tr>\n",
       "\t<tr><td> 7.8 </td><td>5.5  </td><td>1.04 </td><td>13.90</td></tr>\n",
       "\t<tr><td> 9.2 </td><td>7.6  </td><td>1.04 </td><td>18.61</td></tr>\n",
       "\t<tr><td> 9.9 </td><td>8.2  </td><td>1.04 </td><td>30.97</td></tr>\n",
       "\t<tr><td>10.6 </td><td>8.7  </td><td>1.04 </td><td>46.44</td></tr>\n",
       "</tbody>\n",
       "</table>\n"
      ],
      "text/latex": [
       "\\begin{tabular}{r|llll}\n",
       " ï..dap & h & Me & biomassa\\\\\n",
       "\\hline\n",
       "\t  6.4  & 5.0   & 1.04  &  7.07\\\\\n",
       "\t  7.3  & 5.0   & 1.04  & 10.30\\\\\n",
       "\t  7.8  & 5.5   & 1.04  & 13.90\\\\\n",
       "\t  9.2  & 7.6   & 1.04  & 18.61\\\\\n",
       "\t  9.9  & 8.2   & 1.04  & 30.97\\\\\n",
       "\t 10.6  & 8.7   & 1.04  & 46.44\\\\\n",
       "\\end{tabular}\n"
      ],
      "text/markdown": [
       "\n",
       "| ï..dap | h | Me | biomassa |\n",
       "|---|---|---|---|\n",
       "|  6.4  | 5.0   | 1.04  |  7.07 |\n",
       "|  7.3  | 5.0   | 1.04  | 10.30 |\n",
       "|  7.8  | 5.5   | 1.04  | 13.90 |\n",
       "|  9.2  | 7.6   | 1.04  | 18.61 |\n",
       "|  9.9  | 8.2   | 1.04  | 30.97 |\n",
       "| 10.6  | 8.7   | 1.04  | 46.44 |\n",
       "\n"
      ],
      "text/plain": [
       "  ï..dap h   Me   biomassa\n",
       "1  6.4   5.0 1.04  7.07   \n",
       "2  7.3   5.0 1.04 10.30   \n",
       "3  7.8   5.5 1.04 13.90   \n",
       "4  9.2   7.6 1.04 18.61   \n",
       "5  9.9   8.2 1.04 30.97   \n",
       "6 10.6   8.7 1.04 46.44   "
      ]
     },
     "metadata": {},
     "output_type": "display_data"
    }
   ],
   "source": [
    "dados <- read.csv2(\"http://www.razer.net.br/datasets/Biomassa_REG.csv\")\n",
    "head(dados)"
   ]
  },
  {
   "cell_type": "markdown",
   "id": "c6183709",
   "metadata": {},
   "source": [
    "### 3. Carregue o arquivo http://www.razer.net.br/datasets/fertility.csv"
   ]
  },
  {
   "cell_type": "code",
   "execution_count": 35,
   "id": "03fab6f6",
   "metadata": {},
   "outputs": [
    {
     "data": {
      "text/html": [
       "<table>\n",
       "<thead><tr><th scope=col>season</th><th scope=col>age</th><th scope=col>childish.disease</th><th scope=col>trauma</th><th scope=col>surgical.intervention</th><th scope=col>fevers</th><th scope=col>alcoholic</th><th scope=col>smoking</th><th scope=col>sitting</th><th scope=col>output</th></tr></thead>\n",
       "<tbody>\n",
       "\t<tr><td>-0.33</td><td>0.69 </td><td>0    </td><td>1    </td><td>1    </td><td>0    </td><td>0.8  </td><td> 0   </td><td>0.88 </td><td>N    </td></tr>\n",
       "\t<tr><td>-0.33</td><td>0.94 </td><td>1    </td><td>0    </td><td>1    </td><td>0    </td><td>0.8  </td><td> 1   </td><td>0.31 </td><td>O    </td></tr>\n",
       "\t<tr><td>-0.33</td><td>0.50 </td><td>1    </td><td>0    </td><td>0    </td><td>0    </td><td>1.0  </td><td>-1   </td><td>0.50 </td><td>N    </td></tr>\n",
       "\t<tr><td>-0.33</td><td>0.75 </td><td>0    </td><td>1    </td><td>1    </td><td>0    </td><td>1.0  </td><td>-1   </td><td>0.38 </td><td>N    </td></tr>\n",
       "\t<tr><td>-0.33</td><td>0.67 </td><td>1    </td><td>1    </td><td>0    </td><td>0    </td><td>0.8  </td><td>-1   </td><td>0.50 </td><td>O    </td></tr>\n",
       "\t<tr><td>-0.33</td><td>0.67 </td><td>1    </td><td>0    </td><td>1    </td><td>0    </td><td>0.8  </td><td> 0   </td><td>0.50 </td><td>N    </td></tr>\n",
       "</tbody>\n",
       "</table>\n"
      ],
      "text/latex": [
       "\\begin{tabular}{r|llllllllll}\n",
       " season & age & childish.disease & trauma & surgical.intervention & fevers & alcoholic & smoking & sitting & output\\\\\n",
       "\\hline\n",
       "\t -0.33 & 0.69  & 0     & 1     & 1     & 0     & 0.8   &  0    & 0.88  & N    \\\\\n",
       "\t -0.33 & 0.94  & 1     & 0     & 1     & 0     & 0.8   &  1    & 0.31  & O    \\\\\n",
       "\t -0.33 & 0.50  & 1     & 0     & 0     & 0     & 1.0   & -1    & 0.50  & N    \\\\\n",
       "\t -0.33 & 0.75  & 0     & 1     & 1     & 0     & 1.0   & -1    & 0.38  & N    \\\\\n",
       "\t -0.33 & 0.67  & 1     & 1     & 0     & 0     & 0.8   & -1    & 0.50  & O    \\\\\n",
       "\t -0.33 & 0.67  & 1     & 0     & 1     & 0     & 0.8   &  0    & 0.50  & N    \\\\\n",
       "\\end{tabular}\n"
      ],
      "text/markdown": [
       "\n",
       "| season | age | childish.disease | trauma | surgical.intervention | fevers | alcoholic | smoking | sitting | output |\n",
       "|---|---|---|---|---|---|---|---|---|---|\n",
       "| -0.33 | 0.69  | 0     | 1     | 1     | 0     | 0.8   |  0    | 0.88  | N     |\n",
       "| -0.33 | 0.94  | 1     | 0     | 1     | 0     | 0.8   |  1    | 0.31  | O     |\n",
       "| -0.33 | 0.50  | 1     | 0     | 0     | 0     | 1.0   | -1    | 0.50  | N     |\n",
       "| -0.33 | 0.75  | 0     | 1     | 1     | 0     | 1.0   | -1    | 0.38  | N     |\n",
       "| -0.33 | 0.67  | 1     | 1     | 0     | 0     | 0.8   | -1    | 0.50  | O     |\n",
       "| -0.33 | 0.67  | 1     | 0     | 1     | 0     | 0.8   |  0    | 0.50  | N     |\n",
       "\n"
      ],
      "text/plain": [
       "  season age  childish.disease trauma surgical.intervention fevers alcoholic\n",
       "1 -0.33  0.69 0                1      1                     0      0.8      \n",
       "2 -0.33  0.94 1                0      1                     0      0.8      \n",
       "3 -0.33  0.50 1                0      0                     0      1.0      \n",
       "4 -0.33  0.75 0                1      1                     0      1.0      \n",
       "5 -0.33  0.67 1                1      0                     0      0.8      \n",
       "6 -0.33  0.67 1                0      1                     0      0.8      \n",
       "  smoking sitting output\n",
       "1  0      0.88    N     \n",
       "2  1      0.31    O     \n",
       "3 -1      0.50    N     \n",
       "4 -1      0.38    N     \n",
       "5 -1      0.50    O     \n",
       "6  0      0.50    N     "
      ]
     },
     "metadata": {},
     "output_type": "display_data"
    }
   ],
   "source": [
    "dados <- read.csv(\"http://www.razer.net.br/datasets/fertility.csv\")\n",
    "head(dados)"
   ]
  },
  {
   "cell_type": "markdown",
   "id": "cb692f25",
   "metadata": {},
   "source": [
    "### 4. Salve a base de dados IRIS (data frame iris) usando os seguintes formatos:"
   ]
  },
  {
   "cell_type": "code",
   "execution_count": 38,
   "id": "ce9cedd1",
   "metadata": {},
   "outputs": [
    {
     "name": "stdout",
     "output_type": "stream",
     "text": [
      "'data.frame':\t150 obs. of  5 variables:\n",
      " $ Sepal.Length: num  5.1 4.9 4.7 4.6 5 5.4 4.6 5 4.4 4.9 ...\n",
      " $ Sepal.Width : num  3.5 3 3.2 3.1 3.6 3.9 3.4 3.4 2.9 3.1 ...\n",
      " $ Petal.Length: num  1.4 1.4 1.3 1.5 1.4 1.7 1.4 1.5 1.4 1.5 ...\n",
      " $ Petal.Width : num  0.2 0.2 0.2 0.2 0.2 0.4 0.3 0.2 0.2 0.1 ...\n",
      " $ Species     : Factor w/ 3 levels \"setosa\",\"versicolor\",..: 1 1 1 1 1 1 1 1 1 1 ...\n"
     ]
    }
   ],
   "source": [
    "library(datasets)\n",
    "str(iris)"
   ]
  },
  {
   "cell_type": "markdown",
   "id": "38faaea3",
   "metadata": {},
   "source": [
    "#### a) Separador \"**\", ponto decimal \".\", sem os nomes das linhas e o cabeçalho de colunas, com aspas nos campos string"
   ]
  },
  {
   "cell_type": "code",
   "execution_count": 41,
   "id": "f66fa9bd",
   "metadata": {},
   "outputs": [],
   "source": [
    "write.table(iris,\"iris.txt\", sep=\"**\", row.names=F)"
   ]
  },
  {
   "cell_type": "markdown",
   "id": "cb10241d",
   "metadata": {},
   "source": [
    "#### b) CSV com ponto decimal \",\", sem os nomes das linhas, com o cabeçalho de colunas e sem aspas nos campos string"
   ]
  },
  {
   "cell_type": "code",
   "execution_count": 42,
   "id": "20fb7415",
   "metadata": {},
   "outputs": [],
   "source": [
    "write.csv2(iris, \"iris.csv\", row.names=F, quote=F)"
   ]
  }
 ],
 "metadata": {
  "kernelspec": {
   "display_name": "R",
   "language": "R",
   "name": "ir"
  },
  "language_info": {
   "codemirror_mode": "r",
   "file_extension": ".r",
   "mimetype": "text/x-r-source",
   "name": "R",
   "pygments_lexer": "r",
   "version": "3.6.1"
  }
 },
 "nbformat": 4,
 "nbformat_minor": 5
}
