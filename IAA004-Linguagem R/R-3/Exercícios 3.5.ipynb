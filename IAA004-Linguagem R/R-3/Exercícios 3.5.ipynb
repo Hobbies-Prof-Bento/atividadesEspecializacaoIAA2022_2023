{
 "cells": [
  {
   "cell_type": "markdown",
   "id": "fa4d37f2",
   "metadata": {},
   "source": [
    "## Exercícios R-3 (3.5)"
   ]
  },
  {
   "cell_type": "markdown",
   "id": "ac91bf90",
   "metadata": {},
   "source": [
    "### 1: Crie o seguinte Data Frame\n",
    "    df <- data.frame(letras=letters[1:10], numeros=21:30, valores=rnorm(10))"
   ]
  },
  {
   "cell_type": "code",
   "execution_count": 1,
   "id": "f716b641",
   "metadata": {},
   "outputs": [
    {
     "data": {
      "text/html": [
       "<table>\n",
       "<thead><tr><th scope=col>letras</th><th scope=col>numeros</th><th scope=col>valores</th></tr></thead>\n",
       "<tbody>\n",
       "\t<tr><td>a         </td><td>21        </td><td> 0.6103636</td></tr>\n",
       "\t<tr><td>b         </td><td>22        </td><td> 0.8341710</td></tr>\n",
       "\t<tr><td>c         </td><td>23        </td><td> 1.1485543</td></tr>\n",
       "\t<tr><td>d         </td><td>24        </td><td> 1.3460415</td></tr>\n",
       "\t<tr><td>e         </td><td>25        </td><td>-1.1520862</td></tr>\n",
       "\t<tr><td>f         </td><td>26        </td><td>-1.5482375</td></tr>\n",
       "\t<tr><td>g         </td><td>27        </td><td>-0.7731389</td></tr>\n",
       "\t<tr><td>h         </td><td>28        </td><td> 0.4416557</td></tr>\n",
       "\t<tr><td>i         </td><td>29        </td><td>-0.2946660</td></tr>\n",
       "\t<tr><td>j         </td><td>30        </td><td>-0.6180128</td></tr>\n",
       "</tbody>\n",
       "</table>\n"
      ],
      "text/latex": [
       "\\begin{tabular}{r|lll}\n",
       " letras & numeros & valores\\\\\n",
       "\\hline\n",
       "\t a          & 21         &  0.6103636\\\\\n",
       "\t b          & 22         &  0.8341710\\\\\n",
       "\t c          & 23         &  1.1485543\\\\\n",
       "\t d          & 24         &  1.3460415\\\\\n",
       "\t e          & 25         & -1.1520862\\\\\n",
       "\t f          & 26         & -1.5482375\\\\\n",
       "\t g          & 27         & -0.7731389\\\\\n",
       "\t h          & 28         &  0.4416557\\\\\n",
       "\t i          & 29         & -0.2946660\\\\\n",
       "\t j          & 30         & -0.6180128\\\\\n",
       "\\end{tabular}\n"
      ],
      "text/markdown": [
       "\n",
       "| letras | numeros | valores |\n",
       "|---|---|---|\n",
       "| a          | 21         |  0.6103636 |\n",
       "| b          | 22         |  0.8341710 |\n",
       "| c          | 23         |  1.1485543 |\n",
       "| d          | 24         |  1.3460415 |\n",
       "| e          | 25         | -1.1520862 |\n",
       "| f          | 26         | -1.5482375 |\n",
       "| g          | 27         | -0.7731389 |\n",
       "| h          | 28         |  0.4416557 |\n",
       "| i          | 29         | -0.2946660 |\n",
       "| j          | 30         | -0.6180128 |\n",
       "\n"
      ],
      "text/plain": [
       "   letras numeros valores   \n",
       "1  a      21       0.6103636\n",
       "2  b      22       0.8341710\n",
       "3  c      23       1.1485543\n",
       "4  d      24       1.3460415\n",
       "5  e      25      -1.1520862\n",
       "6  f      26      -1.5482375\n",
       "7  g      27      -0.7731389\n",
       "8  h      28       0.4416557\n",
       "9  i      29      -0.2946660\n",
       "10 j      30      -0.6180128"
      ]
     },
     "metadata": {},
     "output_type": "display_data"
    }
   ],
   "source": [
    "df <- data.frame(letras=letters[1:10], numeros = 21:30, valores = rnorm(10))\n",
    "df"
   ]
  },
  {
   "cell_type": "markdown",
   "id": "128485ba",
   "metadata": {},
   "source": [
    "### Faça as seguintes pesquisas"
   ]
  },
  {
   "cell_type": "markdown",
   "id": "88cab635",
   "metadata": {},
   "source": [
    "#### a) Retorne a linha 5"
   ]
  },
  {
   "cell_type": "code",
   "execution_count": 2,
   "id": "fc79ae74",
   "metadata": {},
   "outputs": [
    {
     "data": {
      "text/html": [
       "<table>\n",
       "<thead><tr><th></th><th scope=col>letras</th><th scope=col>numeros</th><th scope=col>valores</th></tr></thead>\n",
       "<tbody>\n",
       "\t<tr><th scope=row>5</th><td>e        </td><td>25       </td><td>-1.152086</td></tr>\n",
       "</tbody>\n",
       "</table>\n"
      ],
      "text/latex": [
       "\\begin{tabular}{r|lll}\n",
       "  & letras & numeros & valores\\\\\n",
       "\\hline\n",
       "\t5 & e         & 25        & -1.152086\\\\\n",
       "\\end{tabular}\n"
      ],
      "text/markdown": [
       "\n",
       "| <!--/--> | letras | numeros | valores |\n",
       "|---|---|---|---|\n",
       "| 5 | e         | 25        | -1.152086 |\n",
       "\n"
      ],
      "text/plain": [
       "  letras numeros valores  \n",
       "5 e      25      -1.152086"
      ]
     },
     "metadata": {},
     "output_type": "display_data"
    }
   ],
   "source": [
    "df[5,]"
   ]
  },
  {
   "cell_type": "markdown",
   "id": "3411000f",
   "metadata": {},
   "source": [
    "#### b) Retorna a coluna 2 (como vetor e como data frame - drop=FALSE)"
   ]
  },
  {
   "cell_type": "code",
   "execution_count": 3,
   "id": "e5b4fbb9",
   "metadata": {},
   "outputs": [
    {
     "data": {
      "text/html": [
       "<ol class=list-inline>\n",
       "\t<li>21</li>\n",
       "\t<li>22</li>\n",
       "\t<li>23</li>\n",
       "\t<li>24</li>\n",
       "\t<li>25</li>\n",
       "\t<li>26</li>\n",
       "\t<li>27</li>\n",
       "\t<li>28</li>\n",
       "\t<li>29</li>\n",
       "\t<li>30</li>\n",
       "</ol>\n"
      ],
      "text/latex": [
       "\\begin{enumerate*}\n",
       "\\item 21\n",
       "\\item 22\n",
       "\\item 23\n",
       "\\item 24\n",
       "\\item 25\n",
       "\\item 26\n",
       "\\item 27\n",
       "\\item 28\n",
       "\\item 29\n",
       "\\item 30\n",
       "\\end{enumerate*}\n"
      ],
      "text/markdown": [
       "1. 21\n",
       "2. 22\n",
       "3. 23\n",
       "4. 24\n",
       "5. 25\n",
       "6. 26\n",
       "7. 27\n",
       "8. 28\n",
       "9. 29\n",
       "10. 30\n",
       "\n",
       "\n"
      ],
      "text/plain": [
       " [1] 21 22 23 24 25 26 27 28 29 30"
      ]
     },
     "metadata": {},
     "output_type": "display_data"
    }
   ],
   "source": [
    "df[,2]"
   ]
  },
  {
   "cell_type": "code",
   "execution_count": 5,
   "id": "6bf14d49",
   "metadata": {},
   "outputs": [
    {
     "data": {
      "text/html": [
       "<table>\n",
       "<thead><tr><th scope=col>numeros</th></tr></thead>\n",
       "<tbody>\n",
       "\t<tr><td>21</td></tr>\n",
       "\t<tr><td>22</td></tr>\n",
       "\t<tr><td>23</td></tr>\n",
       "\t<tr><td>24</td></tr>\n",
       "\t<tr><td>25</td></tr>\n",
       "\t<tr><td>26</td></tr>\n",
       "\t<tr><td>27</td></tr>\n",
       "\t<tr><td>28</td></tr>\n",
       "\t<tr><td>29</td></tr>\n",
       "\t<tr><td>30</td></tr>\n",
       "</tbody>\n",
       "</table>\n"
      ],
      "text/latex": [
       "\\begin{tabular}{r|l}\n",
       " numeros\\\\\n",
       "\\hline\n",
       "\t 21\\\\\n",
       "\t 22\\\\\n",
       "\t 23\\\\\n",
       "\t 24\\\\\n",
       "\t 25\\\\\n",
       "\t 26\\\\\n",
       "\t 27\\\\\n",
       "\t 28\\\\\n",
       "\t 29\\\\\n",
       "\t 30\\\\\n",
       "\\end{tabular}\n"
      ],
      "text/markdown": [
       "\n",
       "| numeros |\n",
       "|---|\n",
       "| 21 |\n",
       "| 22 |\n",
       "| 23 |\n",
       "| 24 |\n",
       "| 25 |\n",
       "| 26 |\n",
       "| 27 |\n",
       "| 28 |\n",
       "| 29 |\n",
       "| 30 |\n",
       "\n"
      ],
      "text/plain": [
       "   numeros\n",
       "1  21     \n",
       "2  22     \n",
       "3  23     \n",
       "4  24     \n",
       "5  25     \n",
       "6  26     \n",
       "7  27     \n",
       "8  28     \n",
       "9  29     \n",
       "10 30     "
      ]
     },
     "metadata": {},
     "output_type": "display_data"
    }
   ],
   "source": [
    "df[,2, drop=FALSE]"
   ]
  },
  {
   "cell_type": "markdown",
   "id": "7e07673d",
   "metadata": {},
   "source": [
    "#### c) Retorne as colunas 2 e 3"
   ]
  },
  {
   "cell_type": "code",
   "execution_count": 6,
   "id": "89f5d906",
   "metadata": {},
   "outputs": [
    {
     "data": {
      "text/html": [
       "<table>\n",
       "<thead><tr><th scope=col>numeros</th><th scope=col>valores</th></tr></thead>\n",
       "<tbody>\n",
       "\t<tr><td>21        </td><td> 0.6103636</td></tr>\n",
       "\t<tr><td>22        </td><td> 0.8341710</td></tr>\n",
       "\t<tr><td>23        </td><td> 1.1485543</td></tr>\n",
       "\t<tr><td>24        </td><td> 1.3460415</td></tr>\n",
       "\t<tr><td>25        </td><td>-1.1520862</td></tr>\n",
       "\t<tr><td>26        </td><td>-1.5482375</td></tr>\n",
       "\t<tr><td>27        </td><td>-0.7731389</td></tr>\n",
       "\t<tr><td>28        </td><td> 0.4416557</td></tr>\n",
       "\t<tr><td>29        </td><td>-0.2946660</td></tr>\n",
       "\t<tr><td>30        </td><td>-0.6180128</td></tr>\n",
       "</tbody>\n",
       "</table>\n"
      ],
      "text/latex": [
       "\\begin{tabular}{r|ll}\n",
       " numeros & valores\\\\\n",
       "\\hline\n",
       "\t 21         &  0.6103636\\\\\n",
       "\t 22         &  0.8341710\\\\\n",
       "\t 23         &  1.1485543\\\\\n",
       "\t 24         &  1.3460415\\\\\n",
       "\t 25         & -1.1520862\\\\\n",
       "\t 26         & -1.5482375\\\\\n",
       "\t 27         & -0.7731389\\\\\n",
       "\t 28         &  0.4416557\\\\\n",
       "\t 29         & -0.2946660\\\\\n",
       "\t 30         & -0.6180128\\\\\n",
       "\\end{tabular}\n"
      ],
      "text/markdown": [
       "\n",
       "| numeros | valores |\n",
       "|---|---|\n",
       "| 21         |  0.6103636 |\n",
       "| 22         |  0.8341710 |\n",
       "| 23         |  1.1485543 |\n",
       "| 24         |  1.3460415 |\n",
       "| 25         | -1.1520862 |\n",
       "| 26         | -1.5482375 |\n",
       "| 27         | -0.7731389 |\n",
       "| 28         |  0.4416557 |\n",
       "| 29         | -0.2946660 |\n",
       "| 30         | -0.6180128 |\n",
       "\n"
      ],
      "text/plain": [
       "   numeros valores   \n",
       "1  21       0.6103636\n",
       "2  22       0.8341710\n",
       "3  23       1.1485543\n",
       "4  24       1.3460415\n",
       "5  25      -1.1520862\n",
       "6  26      -1.5482375\n",
       "7  27      -0.7731389\n",
       "8  28       0.4416557\n",
       "9  29      -0.2946660\n",
       "10 30      -0.6180128"
      ]
     },
     "metadata": {},
     "output_type": "display_data"
    }
   ],
   "source": [
    "df[,2:3]"
   ]
  },
  {
   "cell_type": "markdown",
   "id": "1b8977d5",
   "metadata": {},
   "source": [
    "#### d) Retorne os elementos da linha 6, mas somente as colunas 1 e 3"
   ]
  },
  {
   "cell_type": "code",
   "execution_count": 7,
   "id": "52bd456a",
   "metadata": {},
   "outputs": [
    {
     "data": {
      "text/html": [
       "<table>\n",
       "<thead><tr><th></th><th scope=col>letras</th><th scope=col>valores</th></tr></thead>\n",
       "<tbody>\n",
       "\t<tr><th scope=row>6</th><td>f        </td><td>-1.548237</td></tr>\n",
       "</tbody>\n",
       "</table>\n"
      ],
      "text/latex": [
       "\\begin{tabular}{r|ll}\n",
       "  & letras & valores\\\\\n",
       "\\hline\n",
       "\t6 & f         & -1.548237\\\\\n",
       "\\end{tabular}\n"
      ],
      "text/markdown": [
       "\n",
       "| <!--/--> | letras | valores |\n",
       "|---|---|---|\n",
       "| 6 | f         | -1.548237 |\n",
       "\n"
      ],
      "text/plain": [
       "  letras valores  \n",
       "6 f      -1.548237"
      ]
     },
     "metadata": {},
     "output_type": "display_data"
    }
   ],
   "source": [
    "df[6,c(1,3)]"
   ]
  },
  {
   "cell_type": "markdown",
   "id": "904ab330",
   "metadata": {},
   "source": [
    "#### e) Retorne os elementos que possuem na coluna \"valores\" um valor maior que zero"
   ]
  },
  {
   "cell_type": "code",
   "execution_count": 9,
   "id": "a656fecb",
   "metadata": {},
   "outputs": [
    {
     "data": {
      "text/html": [
       "<table>\n",
       "<thead><tr><th></th><th scope=col>letras</th><th scope=col>numeros</th><th scope=col>valores</th></tr></thead>\n",
       "<tbody>\n",
       "\t<tr><th scope=row>1</th><td>a        </td><td>21       </td><td>0.6103636</td></tr>\n",
       "\t<tr><th scope=row>2</th><td>b        </td><td>22       </td><td>0.8341710</td></tr>\n",
       "\t<tr><th scope=row>3</th><td>c        </td><td>23       </td><td>1.1485543</td></tr>\n",
       "\t<tr><th scope=row>4</th><td>d        </td><td>24       </td><td>1.3460415</td></tr>\n",
       "\t<tr><th scope=row>8</th><td>h        </td><td>28       </td><td>0.4416557</td></tr>\n",
       "</tbody>\n",
       "</table>\n"
      ],
      "text/latex": [
       "\\begin{tabular}{r|lll}\n",
       "  & letras & numeros & valores\\\\\n",
       "\\hline\n",
       "\t1 & a         & 21        & 0.6103636\\\\\n",
       "\t2 & b         & 22        & 0.8341710\\\\\n",
       "\t3 & c         & 23        & 1.1485543\\\\\n",
       "\t4 & d         & 24        & 1.3460415\\\\\n",
       "\t8 & h         & 28        & 0.4416557\\\\\n",
       "\\end{tabular}\n"
      ],
      "text/markdown": [
       "\n",
       "| <!--/--> | letras | numeros | valores |\n",
       "|---|---|---|---|\n",
       "| 1 | a         | 21        | 0.6103636 |\n",
       "| 2 | b         | 22        | 0.8341710 |\n",
       "| 3 | c         | 23        | 1.1485543 |\n",
       "| 4 | d         | 24        | 1.3460415 |\n",
       "| 8 | h         | 28        | 0.4416557 |\n",
       "\n"
      ],
      "text/plain": [
       "  letras numeros valores  \n",
       "1 a      21      0.6103636\n",
       "2 b      22      0.8341710\n",
       "3 c      23      1.1485543\n",
       "4 d      24      1.3460415\n",
       "8 h      28      0.4416557"
      ]
     },
     "metadata": {},
     "output_type": "display_data"
    }
   ],
   "source": [
    "df[df$valores>0,]"
   ]
  },
  {
   "cell_type": "markdown",
   "id": "14b19ba8",
   "metadata": {},
   "source": [
    "#### f) Retorne os elementos que possuem na coluna \"numeros\" um valor ímpar"
   ]
  },
  {
   "cell_type": "code",
   "execution_count": 11,
   "id": "7aff73be",
   "metadata": {},
   "outputs": [
    {
     "data": {
      "text/html": [
       "<table>\n",
       "<thead><tr><th></th><th scope=col>letras</th><th scope=col>numeros</th><th scope=col>valores</th></tr></thead>\n",
       "<tbody>\n",
       "\t<tr><th scope=row>1</th><td>a         </td><td>21        </td><td> 0.6103636</td></tr>\n",
       "\t<tr><th scope=row>3</th><td>c         </td><td>23        </td><td> 1.1485543</td></tr>\n",
       "\t<tr><th scope=row>5</th><td>e         </td><td>25        </td><td>-1.1520862</td></tr>\n",
       "\t<tr><th scope=row>7</th><td>g         </td><td>27        </td><td>-0.7731389</td></tr>\n",
       "\t<tr><th scope=row>9</th><td>i         </td><td>29        </td><td>-0.2946660</td></tr>\n",
       "</tbody>\n",
       "</table>\n"
      ],
      "text/latex": [
       "\\begin{tabular}{r|lll}\n",
       "  & letras & numeros & valores\\\\\n",
       "\\hline\n",
       "\t1 & a          & 21         &  0.6103636\\\\\n",
       "\t3 & c          & 23         &  1.1485543\\\\\n",
       "\t5 & e          & 25         & -1.1520862\\\\\n",
       "\t7 & g          & 27         & -0.7731389\\\\\n",
       "\t9 & i          & 29         & -0.2946660\\\\\n",
       "\\end{tabular}\n"
      ],
      "text/markdown": [
       "\n",
       "| <!--/--> | letras | numeros | valores |\n",
       "|---|---|---|---|\n",
       "| 1 | a          | 21         |  0.6103636 |\n",
       "| 3 | c          | 23         |  1.1485543 |\n",
       "| 5 | e          | 25         | -1.1520862 |\n",
       "| 7 | g          | 27         | -0.7731389 |\n",
       "| 9 | i          | 29         | -0.2946660 |\n",
       "\n"
      ],
      "text/plain": [
       "  letras numeros valores   \n",
       "1 a      21       0.6103636\n",
       "3 c      23       1.1485543\n",
       "5 e      25      -1.1520862\n",
       "7 g      27      -0.7731389\n",
       "9 i      29      -0.2946660"
      ]
     },
     "metadata": {},
     "output_type": "display_data"
    }
   ],
   "source": [
    "df[df$numero%%2 == 1,]"
   ]
  },
  {
   "cell_type": "markdown",
   "id": "096cd8a1",
   "metadata": {},
   "source": [
    "#### g) Retorne os elementos que possuem na coluna \"valores\" um valor maior que zero e na coluna \"numeros\" um valor par"
   ]
  },
  {
   "cell_type": "code",
   "execution_count": 12,
   "id": "cde64485",
   "metadata": {},
   "outputs": [
    {
     "data": {
      "text/html": [
       "<table>\n",
       "<thead><tr><th></th><th scope=col>letras</th><th scope=col>numeros</th><th scope=col>valores</th></tr></thead>\n",
       "<tbody>\n",
       "\t<tr><th scope=row>2</th><td>b        </td><td>22       </td><td>0.8341710</td></tr>\n",
       "\t<tr><th scope=row>4</th><td>d        </td><td>24       </td><td>1.3460415</td></tr>\n",
       "\t<tr><th scope=row>8</th><td>h        </td><td>28       </td><td>0.4416557</td></tr>\n",
       "</tbody>\n",
       "</table>\n"
      ],
      "text/latex": [
       "\\begin{tabular}{r|lll}\n",
       "  & letras & numeros & valores\\\\\n",
       "\\hline\n",
       "\t2 & b         & 22        & 0.8341710\\\\\n",
       "\t4 & d         & 24        & 1.3460415\\\\\n",
       "\t8 & h         & 28        & 0.4416557\\\\\n",
       "\\end{tabular}\n"
      ],
      "text/markdown": [
       "\n",
       "| <!--/--> | letras | numeros | valores |\n",
       "|---|---|---|---|\n",
       "| 2 | b         | 22        | 0.8341710 |\n",
       "| 4 | d         | 24        | 1.3460415 |\n",
       "| 8 | h         | 28        | 0.4416557 |\n",
       "\n"
      ],
      "text/plain": [
       "  letras numeros valores  \n",
       "2 b      22      0.8341710\n",
       "4 d      24      1.3460415\n",
       "8 h      28      0.4416557"
      ]
     },
     "metadata": {},
     "output_type": "display_data"
    }
   ],
   "source": [
    "df[df$valores>0 & df$numeros%%2 ==0,]"
   ]
  },
  {
   "cell_type": "markdown",
   "id": "decfdbf8",
   "metadata": {},
   "source": [
    "#### h) Retorne os elementos que possuemna coluna letras os seguintes valores \"b\", \"g\", \"h\""
   ]
  },
  {
   "cell_type": "code",
   "execution_count": 22,
   "id": "9cd729ac",
   "metadata": {},
   "outputs": [
    {
     "data": {
      "text/html": [
       "<table>\n",
       "<thead><tr><th></th><th scope=col>letras</th><th scope=col>numeros</th><th scope=col>valores</th></tr></thead>\n",
       "<tbody>\n",
       "\t<tr><th scope=row>2</th><td>b         </td><td>22        </td><td> 0.8341710</td></tr>\n",
       "\t<tr><th scope=row>7</th><td>g         </td><td>27        </td><td>-0.7731389</td></tr>\n",
       "\t<tr><th scope=row>8</th><td>h         </td><td>28        </td><td> 0.4416557</td></tr>\n",
       "</tbody>\n",
       "</table>\n"
      ],
      "text/latex": [
       "\\begin{tabular}{r|lll}\n",
       "  & letras & numeros & valores\\\\\n",
       "\\hline\n",
       "\t2 & b          & 22         &  0.8341710\\\\\n",
       "\t7 & g          & 27         & -0.7731389\\\\\n",
       "\t8 & h          & 28         &  0.4416557\\\\\n",
       "\\end{tabular}\n"
      ],
      "text/markdown": [
       "\n",
       "| <!--/--> | letras | numeros | valores |\n",
       "|---|---|---|---|\n",
       "| 2 | b          | 22         |  0.8341710 |\n",
       "| 7 | g          | 27         | -0.7731389 |\n",
       "| 8 | h          | 28         |  0.4416557 |\n",
       "\n"
      ],
      "text/plain": [
       "  letras numeros valores   \n",
       "2 b      22       0.8341710\n",
       "7 g      27      -0.7731389\n",
       "8 h      28       0.4416557"
      ]
     },
     "metadata": {},
     "output_type": "display_data"
    }
   ],
   "source": [
    "df[df$letras %in% c(\"b\", \"g\", \"h\"),]"
   ]
  },
  {
   "cell_type": "markdown",
   "id": "0d699e5f",
   "metadata": {},
   "source": [
    "### 2: Criar os data frames df1 e cidades\n",
    "\n",
    "    df1 <- data.frame(nome=c(\"Razer\", \"Anthom\", \"Nizer\", \"Rojas\", \"Montaño\"), cidadeId=c(3, 10, 2, 3, 1))\n",
    "    \n",
    "    cidades <- data.frame(cidadeId=c(1, 2, 3, 4), cidade=c(\"Curitiba\", \"SJP\", \"Pinhais\", \"Colombo\"))"
   ]
  },
  {
   "cell_type": "code",
   "execution_count": 27,
   "id": "d951d033",
   "metadata": {},
   "outputs": [],
   "source": [
    "df1 <- data.frame(nome=c(\"Razer\", \"Anthom\", \"Nizer\", \"Rojas\", \"Montaño\"), cidadeId = c(3, 10, 2, 3, 1))\n",
    "cidades <- data.frame(cidadeId=c(1, 2, 3, 4), cidade=c(\"Curitiba\", \"SJP\",\"Pinhais\", \"Colombo\"))"
   ]
  },
  {
   "cell_type": "code",
   "execution_count": 28,
   "id": "5ea09164",
   "metadata": {},
   "outputs": [
    {
     "data": {
      "text/html": [
       "<table>\n",
       "<thead><tr><th scope=col>nome</th><th scope=col>cidadeId</th></tr></thead>\n",
       "<tbody>\n",
       "\t<tr><td>Razer  </td><td> 3     </td></tr>\n",
       "\t<tr><td>Anthom </td><td>10     </td></tr>\n",
       "\t<tr><td>Nizer  </td><td> 2     </td></tr>\n",
       "\t<tr><td>Rojas  </td><td> 3     </td></tr>\n",
       "\t<tr><td>Montaño</td><td> 1     </td></tr>\n",
       "</tbody>\n",
       "</table>\n"
      ],
      "text/latex": [
       "\\begin{tabular}{r|ll}\n",
       " nome & cidadeId\\\\\n",
       "\\hline\n",
       "\t Razer   &  3     \\\\\n",
       "\t Anthom  & 10     \\\\\n",
       "\t Nizer   &  2     \\\\\n",
       "\t Rojas   &  3     \\\\\n",
       "\t Montaño &  1     \\\\\n",
       "\\end{tabular}\n"
      ],
      "text/markdown": [
       "\n",
       "| nome | cidadeId |\n",
       "|---|---|\n",
       "| Razer   |  3      |\n",
       "| Anthom  | 10      |\n",
       "| Nizer   |  2      |\n",
       "| Rojas   |  3      |\n",
       "| Montaño |  1      |\n",
       "\n"
      ],
      "text/plain": [
       "  nome    cidadeId\n",
       "1 Razer    3      \n",
       "2 Anthom  10      \n",
       "3 Nizer    2      \n",
       "4 Rojas    3      \n",
       "5 Montaño  1      "
      ]
     },
     "metadata": {},
     "output_type": "display_data"
    }
   ],
   "source": [
    "df1"
   ]
  },
  {
   "cell_type": "code",
   "execution_count": 29,
   "id": "cf610963",
   "metadata": {},
   "outputs": [
    {
     "data": {
      "text/html": [
       "<table>\n",
       "<thead><tr><th scope=col>cidadeId</th><th scope=col>cidade</th></tr></thead>\n",
       "<tbody>\n",
       "\t<tr><td>1       </td><td>Curitiba</td></tr>\n",
       "\t<tr><td>2       </td><td>SJP     </td></tr>\n",
       "\t<tr><td>3       </td><td>Pinhais </td></tr>\n",
       "\t<tr><td>4       </td><td>Colombo </td></tr>\n",
       "</tbody>\n",
       "</table>\n"
      ],
      "text/latex": [
       "\\begin{tabular}{r|ll}\n",
       " cidadeId & cidade\\\\\n",
       "\\hline\n",
       "\t 1        & Curitiba\\\\\n",
       "\t 2        & SJP     \\\\\n",
       "\t 3        & Pinhais \\\\\n",
       "\t 4        & Colombo \\\\\n",
       "\\end{tabular}\n"
      ],
      "text/markdown": [
       "\n",
       "| cidadeId | cidade |\n",
       "|---|---|\n",
       "| 1        | Curitiba |\n",
       "| 2        | SJP      |\n",
       "| 3        | Pinhais  |\n",
       "| 4        | Colombo  |\n",
       "\n"
      ],
      "text/plain": [
       "  cidadeId cidade  \n",
       "1 1        Curitiba\n",
       "2 2        SJP     \n",
       "3 3        Pinhais \n",
       "4 4        Colombo "
      ]
     },
     "metadata": {},
     "output_type": "display_data"
    }
   ],
   "source": [
    "cidades"
   ]
  },
  {
   "cell_type": "markdown",
   "id": "5e119a06",
   "metadata": {},
   "source": [
    "### Executar os merges apresentados"
   ]
  },
  {
   "cell_type": "markdown",
   "id": "2fa9b8be",
   "metadata": {},
   "source": [
    "#### a) Cross Join"
   ]
  },
  {
   "cell_type": "code",
   "execution_count": 30,
   "id": "30ee5c7a",
   "metadata": {},
   "outputs": [
    {
     "data": {
      "text/html": [
       "<table>\n",
       "<thead><tr><th scope=col>nome</th><th scope=col>cidadeId.x</th><th scope=col>cidadeId.y</th><th scope=col>cidade</th></tr></thead>\n",
       "<tbody>\n",
       "\t<tr><td>Razer   </td><td> 3      </td><td>1       </td><td>Curitiba</td></tr>\n",
       "\t<tr><td>Anthom  </td><td>10      </td><td>1       </td><td>Curitiba</td></tr>\n",
       "\t<tr><td>Nizer   </td><td> 2      </td><td>1       </td><td>Curitiba</td></tr>\n",
       "\t<tr><td>Rojas   </td><td> 3      </td><td>1       </td><td>Curitiba</td></tr>\n",
       "\t<tr><td>Montaño </td><td> 1      </td><td>1       </td><td>Curitiba</td></tr>\n",
       "\t<tr><td>Razer   </td><td> 3      </td><td>2       </td><td>SJP     </td></tr>\n",
       "\t<tr><td>Anthom  </td><td>10      </td><td>2       </td><td>SJP     </td></tr>\n",
       "\t<tr><td>Nizer   </td><td> 2      </td><td>2       </td><td>SJP     </td></tr>\n",
       "\t<tr><td>Rojas   </td><td> 3      </td><td>2       </td><td>SJP     </td></tr>\n",
       "\t<tr><td>Montaño </td><td> 1      </td><td>2       </td><td>SJP     </td></tr>\n",
       "\t<tr><td>Razer   </td><td> 3      </td><td>3       </td><td>Pinhais </td></tr>\n",
       "\t<tr><td>Anthom  </td><td>10      </td><td>3       </td><td>Pinhais </td></tr>\n",
       "\t<tr><td>Nizer   </td><td> 2      </td><td>3       </td><td>Pinhais </td></tr>\n",
       "\t<tr><td>Rojas   </td><td> 3      </td><td>3       </td><td>Pinhais </td></tr>\n",
       "\t<tr><td>Montaño </td><td> 1      </td><td>3       </td><td>Pinhais </td></tr>\n",
       "\t<tr><td>Razer   </td><td> 3      </td><td>4       </td><td>Colombo </td></tr>\n",
       "\t<tr><td>Anthom  </td><td>10      </td><td>4       </td><td>Colombo </td></tr>\n",
       "\t<tr><td>Nizer   </td><td> 2      </td><td>4       </td><td>Colombo </td></tr>\n",
       "\t<tr><td>Rojas   </td><td> 3      </td><td>4       </td><td>Colombo </td></tr>\n",
       "\t<tr><td>Montaño </td><td> 1      </td><td>4       </td><td>Colombo </td></tr>\n",
       "</tbody>\n",
       "</table>\n"
      ],
      "text/latex": [
       "\\begin{tabular}{r|llll}\n",
       " nome & cidadeId.x & cidadeId.y & cidade\\\\\n",
       "\\hline\n",
       "\t Razer    &  3       & 1        & Curitiba\\\\\n",
       "\t Anthom   & 10       & 1        & Curitiba\\\\\n",
       "\t Nizer    &  2       & 1        & Curitiba\\\\\n",
       "\t Rojas    &  3       & 1        & Curitiba\\\\\n",
       "\t Montaño  &  1       & 1        & Curitiba\\\\\n",
       "\t Razer    &  3       & 2        & SJP     \\\\\n",
       "\t Anthom   & 10       & 2        & SJP     \\\\\n",
       "\t Nizer    &  2       & 2        & SJP     \\\\\n",
       "\t Rojas    &  3       & 2        & SJP     \\\\\n",
       "\t Montaño  &  1       & 2        & SJP     \\\\\n",
       "\t Razer    &  3       & 3        & Pinhais \\\\\n",
       "\t Anthom   & 10       & 3        & Pinhais \\\\\n",
       "\t Nizer    &  2       & 3        & Pinhais \\\\\n",
       "\t Rojas    &  3       & 3        & Pinhais \\\\\n",
       "\t Montaño  &  1       & 3        & Pinhais \\\\\n",
       "\t Razer    &  3       & 4        & Colombo \\\\\n",
       "\t Anthom   & 10       & 4        & Colombo \\\\\n",
       "\t Nizer    &  2       & 4        & Colombo \\\\\n",
       "\t Rojas    &  3       & 4        & Colombo \\\\\n",
       "\t Montaño  &  1       & 4        & Colombo \\\\\n",
       "\\end{tabular}\n"
      ],
      "text/markdown": [
       "\n",
       "| nome | cidadeId.x | cidadeId.y | cidade |\n",
       "|---|---|---|---|\n",
       "| Razer    |  3       | 1        | Curitiba |\n",
       "| Anthom   | 10       | 1        | Curitiba |\n",
       "| Nizer    |  2       | 1        | Curitiba |\n",
       "| Rojas    |  3       | 1        | Curitiba |\n",
       "| Montaño  |  1       | 1        | Curitiba |\n",
       "| Razer    |  3       | 2        | SJP      |\n",
       "| Anthom   | 10       | 2        | SJP      |\n",
       "| Nizer    |  2       | 2        | SJP      |\n",
       "| Rojas    |  3       | 2        | SJP      |\n",
       "| Montaño  |  1       | 2        | SJP      |\n",
       "| Razer    |  3       | 3        | Pinhais  |\n",
       "| Anthom   | 10       | 3        | Pinhais  |\n",
       "| Nizer    |  2       | 3        | Pinhais  |\n",
       "| Rojas    |  3       | 3        | Pinhais  |\n",
       "| Montaño  |  1       | 3        | Pinhais  |\n",
       "| Razer    |  3       | 4        | Colombo  |\n",
       "| Anthom   | 10       | 4        | Colombo  |\n",
       "| Nizer    |  2       | 4        | Colombo  |\n",
       "| Rojas    |  3       | 4        | Colombo  |\n",
       "| Montaño  |  1       | 4        | Colombo  |\n",
       "\n"
      ],
      "text/plain": [
       "   nome    cidadeId.x cidadeId.y cidade  \n",
       "1  Razer    3         1          Curitiba\n",
       "2  Anthom  10         1          Curitiba\n",
       "3  Nizer    2         1          Curitiba\n",
       "4  Rojas    3         1          Curitiba\n",
       "5  Montaño  1         1          Curitiba\n",
       "6  Razer    3         2          SJP     \n",
       "7  Anthom  10         2          SJP     \n",
       "8  Nizer    2         2          SJP     \n",
       "9  Rojas    3         2          SJP     \n",
       "10 Montaño  1         2          SJP     \n",
       "11 Razer    3         3          Pinhais \n",
       "12 Anthom  10         3          Pinhais \n",
       "13 Nizer    2         3          Pinhais \n",
       "14 Rojas    3         3          Pinhais \n",
       "15 Montaño  1         3          Pinhais \n",
       "16 Razer    3         4          Colombo \n",
       "17 Anthom  10         4          Colombo \n",
       "18 Nizer    2         4          Colombo \n",
       "19 Rojas    3         4          Colombo \n",
       "20 Montaño  1         4          Colombo "
      ]
     },
     "metadata": {},
     "output_type": "display_data"
    }
   ],
   "source": [
    "merge(df1,cidades, by=NULL)"
   ]
  },
  {
   "cell_type": "markdown",
   "id": "087e24cb",
   "metadata": {},
   "source": [
    "#### b) Inner Join"
   ]
  },
  {
   "cell_type": "code",
   "execution_count": 32,
   "id": "c7a11dc1",
   "metadata": {},
   "outputs": [
    {
     "data": {
      "text/html": [
       "<table>\n",
       "<thead><tr><th scope=col>cidadeId</th><th scope=col>nome</th><th scope=col>cidade</th></tr></thead>\n",
       "<tbody>\n",
       "\t<tr><td>1       </td><td>Montaño </td><td>Curitiba</td></tr>\n",
       "\t<tr><td>2       </td><td>Nizer   </td><td>SJP     </td></tr>\n",
       "\t<tr><td>3       </td><td>Razer   </td><td>Pinhais </td></tr>\n",
       "\t<tr><td>3       </td><td>Rojas   </td><td>Pinhais </td></tr>\n",
       "</tbody>\n",
       "</table>\n"
      ],
      "text/latex": [
       "\\begin{tabular}{r|lll}\n",
       " cidadeId & nome & cidade\\\\\n",
       "\\hline\n",
       "\t 1        & Montaño  & Curitiba\\\\\n",
       "\t 2        & Nizer    & SJP     \\\\\n",
       "\t 3        & Razer    & Pinhais \\\\\n",
       "\t 3        & Rojas    & Pinhais \\\\\n",
       "\\end{tabular}\n"
      ],
      "text/markdown": [
       "\n",
       "| cidadeId | nome | cidade |\n",
       "|---|---|---|\n",
       "| 1        | Montaño  | Curitiba |\n",
       "| 2        | Nizer    | SJP      |\n",
       "| 3        | Razer    | Pinhais  |\n",
       "| 3        | Rojas    | Pinhais  |\n",
       "\n"
      ],
      "text/plain": [
       "  cidadeId nome    cidade  \n",
       "1 1        Montaño Curitiba\n",
       "2 2        Nizer   SJP     \n",
       "3 3        Razer   Pinhais \n",
       "4 3        Rojas   Pinhais "
      ]
     },
     "metadata": {},
     "output_type": "display_data"
    }
   ],
   "source": [
    "merge(df1, cidades, by=\"cidadeId\")"
   ]
  },
  {
   "cell_type": "markdown",
   "id": "88a2107e",
   "metadata": {},
   "source": [
    "#### c) Outer Join"
   ]
  },
  {
   "cell_type": "code",
   "execution_count": 33,
   "id": "45c920d2",
   "metadata": {},
   "outputs": [
    {
     "data": {
      "text/html": [
       "<table>\n",
       "<thead><tr><th scope=col>cidadeId</th><th scope=col>nome</th><th scope=col>cidade</th></tr></thead>\n",
       "<tbody>\n",
       "\t<tr><td> 1      </td><td>Montaño </td><td>Curitiba</td></tr>\n",
       "\t<tr><td> 2      </td><td>Nizer   </td><td>SJP     </td></tr>\n",
       "\t<tr><td> 3      </td><td>Razer   </td><td>Pinhais </td></tr>\n",
       "\t<tr><td> 3      </td><td>Rojas   </td><td>Pinhais </td></tr>\n",
       "\t<tr><td> 4      </td><td>NA      </td><td>Colombo </td></tr>\n",
       "\t<tr><td>10      </td><td>Anthom  </td><td>NA      </td></tr>\n",
       "</tbody>\n",
       "</table>\n"
      ],
      "text/latex": [
       "\\begin{tabular}{r|lll}\n",
       " cidadeId & nome & cidade\\\\\n",
       "\\hline\n",
       "\t  1       & Montaño  & Curitiba\\\\\n",
       "\t  2       & Nizer    & SJP     \\\\\n",
       "\t  3       & Razer    & Pinhais \\\\\n",
       "\t  3       & Rojas    & Pinhais \\\\\n",
       "\t  4       & NA       & Colombo \\\\\n",
       "\t 10       & Anthom   & NA      \\\\\n",
       "\\end{tabular}\n"
      ],
      "text/markdown": [
       "\n",
       "| cidadeId | nome | cidade |\n",
       "|---|---|---|\n",
       "|  1       | Montaño  | Curitiba |\n",
       "|  2       | Nizer    | SJP      |\n",
       "|  3       | Razer    | Pinhais  |\n",
       "|  3       | Rojas    | Pinhais  |\n",
       "|  4       | NA       | Colombo  |\n",
       "| 10       | Anthom   | NA       |\n",
       "\n"
      ],
      "text/plain": [
       "  cidadeId nome    cidade  \n",
       "1  1       Montaño Curitiba\n",
       "2  2       Nizer   SJP     \n",
       "3  3       Razer   Pinhais \n",
       "4  3       Rojas   Pinhais \n",
       "5  4       NA      Colombo \n",
       "6 10       Anthom  NA      "
      ]
     },
     "metadata": {},
     "output_type": "display_data"
    }
   ],
   "source": [
    "merge(df1, cidades, by=\"cidadeId\", all=TRUE)"
   ]
  },
  {
   "cell_type": "markdown",
   "id": "1c3d2ccf",
   "metadata": {},
   "source": [
    "#### d) Left Outer Join"
   ]
  },
  {
   "cell_type": "code",
   "execution_count": 34,
   "id": "b8598907",
   "metadata": {},
   "outputs": [
    {
     "data": {
      "text/html": [
       "<table>\n",
       "<thead><tr><th scope=col>cidadeId</th><th scope=col>nome</th><th scope=col>cidade</th></tr></thead>\n",
       "<tbody>\n",
       "\t<tr><td> 1      </td><td>Montaño </td><td>Curitiba</td></tr>\n",
       "\t<tr><td> 2      </td><td>Nizer   </td><td>SJP     </td></tr>\n",
       "\t<tr><td> 3      </td><td>Razer   </td><td>Pinhais </td></tr>\n",
       "\t<tr><td> 3      </td><td>Rojas   </td><td>Pinhais </td></tr>\n",
       "\t<tr><td>10      </td><td>Anthom  </td><td>NA      </td></tr>\n",
       "</tbody>\n",
       "</table>\n"
      ],
      "text/latex": [
       "\\begin{tabular}{r|lll}\n",
       " cidadeId & nome & cidade\\\\\n",
       "\\hline\n",
       "\t  1       & Montaño  & Curitiba\\\\\n",
       "\t  2       & Nizer    & SJP     \\\\\n",
       "\t  3       & Razer    & Pinhais \\\\\n",
       "\t  3       & Rojas    & Pinhais \\\\\n",
       "\t 10       & Anthom   & NA      \\\\\n",
       "\\end{tabular}\n"
      ],
      "text/markdown": [
       "\n",
       "| cidadeId | nome | cidade |\n",
       "|---|---|---|\n",
       "|  1       | Montaño  | Curitiba |\n",
       "|  2       | Nizer    | SJP      |\n",
       "|  3       | Razer    | Pinhais  |\n",
       "|  3       | Rojas    | Pinhais  |\n",
       "| 10       | Anthom   | NA       |\n",
       "\n"
      ],
      "text/plain": [
       "  cidadeId nome    cidade  \n",
       "1  1       Montaño Curitiba\n",
       "2  2       Nizer   SJP     \n",
       "3  3       Razer   Pinhais \n",
       "4  3       Rojas   Pinhais \n",
       "5 10       Anthom  NA      "
      ]
     },
     "metadata": {},
     "output_type": "display_data"
    }
   ],
   "source": [
    "merge(df1, cidades, by=\"cidadeId\", all.x=TRUE)"
   ]
  },
  {
   "cell_type": "markdown",
   "id": "616d48b5",
   "metadata": {},
   "source": [
    "#### e) Right Outer Join"
   ]
  },
  {
   "cell_type": "code",
   "execution_count": 35,
   "id": "a298c41d",
   "metadata": {},
   "outputs": [
    {
     "data": {
      "text/html": [
       "<table>\n",
       "<thead><tr><th scope=col>cidadeId</th><th scope=col>nome</th><th scope=col>cidade</th></tr></thead>\n",
       "<tbody>\n",
       "\t<tr><td>1       </td><td>Montaño </td><td>Curitiba</td></tr>\n",
       "\t<tr><td>2       </td><td>Nizer   </td><td>SJP     </td></tr>\n",
       "\t<tr><td>3       </td><td>Razer   </td><td>Pinhais </td></tr>\n",
       "\t<tr><td>3       </td><td>Rojas   </td><td>Pinhais </td></tr>\n",
       "\t<tr><td>4       </td><td>NA      </td><td>Colombo </td></tr>\n",
       "</tbody>\n",
       "</table>\n"
      ],
      "text/latex": [
       "\\begin{tabular}{r|lll}\n",
       " cidadeId & nome & cidade\\\\\n",
       "\\hline\n",
       "\t 1        & Montaño  & Curitiba\\\\\n",
       "\t 2        & Nizer    & SJP     \\\\\n",
       "\t 3        & Razer    & Pinhais \\\\\n",
       "\t 3        & Rojas    & Pinhais \\\\\n",
       "\t 4        & NA       & Colombo \\\\\n",
       "\\end{tabular}\n"
      ],
      "text/markdown": [
       "\n",
       "| cidadeId | nome | cidade |\n",
       "|---|---|---|\n",
       "| 1        | Montaño  | Curitiba |\n",
       "| 2        | Nizer    | SJP      |\n",
       "| 3        | Razer    | Pinhais  |\n",
       "| 3        | Rojas    | Pinhais  |\n",
       "| 4        | NA       | Colombo  |\n",
       "\n"
      ],
      "text/plain": [
       "  cidadeId nome    cidade  \n",
       "1 1        Montaño Curitiba\n",
       "2 2        Nizer   SJP     \n",
       "3 3        Razer   Pinhais \n",
       "4 3        Rojas   Pinhais \n",
       "5 4        NA      Colombo "
      ]
     },
     "metadata": {},
     "output_type": "display_data"
    }
   ],
   "source": [
    "merge(df1, cidades, by=\"cidadeId\", all.y=TRUE)"
   ]
  },
  {
   "cell_type": "markdown",
   "id": "eae9e917",
   "metadata": {},
   "source": [
    "### 3: Crie o data frama\n",
    "    n <- 10\n",
    "    sexo <- sample( c(\"masculino\", \"feminino\"), n, replace=TRUE)\n",
    "    idade <- sample( 14:102, n, replace=TRUE)\n",
    "    peso <- sample( 50:90, n, replace=TRUE)\n",
    "    menor <- idade<18\n",
    "    pessoas <- data.frame(sexo=sexo, idade=idade, peso=peso, menor=menor)"
   ]
  },
  {
   "cell_type": "code",
   "execution_count": 36,
   "id": "32d34d81",
   "metadata": {},
   "outputs": [
    {
     "data": {
      "text/html": [
       "<table>\n",
       "<thead><tr><th scope=col>sexo</th><th scope=col>idade</th><th scope=col>peso</th><th scope=col>menor</th></tr></thead>\n",
       "<tbody>\n",
       "\t<tr><td>feminino </td><td>68       </td><td>59       </td><td>FALSE    </td></tr>\n",
       "\t<tr><td>feminino </td><td>23       </td><td>70       </td><td>FALSE    </td></tr>\n",
       "\t<tr><td>masculino</td><td>15       </td><td>57       </td><td> TRUE    </td></tr>\n",
       "\t<tr><td>feminino </td><td>35       </td><td>64       </td><td>FALSE    </td></tr>\n",
       "\t<tr><td>masculino</td><td>65       </td><td>65       </td><td>FALSE    </td></tr>\n",
       "\t<tr><td>feminino </td><td>58       </td><td>76       </td><td>FALSE    </td></tr>\n",
       "\t<tr><td>feminino </td><td>14       </td><td>82       </td><td> TRUE    </td></tr>\n",
       "\t<tr><td>masculino</td><td>43       </td><td>66       </td><td>FALSE    </td></tr>\n",
       "\t<tr><td>feminino </td><td>82       </td><td>74       </td><td>FALSE    </td></tr>\n",
       "\t<tr><td>masculino</td><td>17       </td><td>67       </td><td> TRUE    </td></tr>\n",
       "</tbody>\n",
       "</table>\n"
      ],
      "text/latex": [
       "\\begin{tabular}{r|llll}\n",
       " sexo & idade & peso & menor\\\\\n",
       "\\hline\n",
       "\t feminino  & 68        & 59        & FALSE    \\\\\n",
       "\t feminino  & 23        & 70        & FALSE    \\\\\n",
       "\t masculino & 15        & 57        &  TRUE    \\\\\n",
       "\t feminino  & 35        & 64        & FALSE    \\\\\n",
       "\t masculino & 65        & 65        & FALSE    \\\\\n",
       "\t feminino  & 58        & 76        & FALSE    \\\\\n",
       "\t feminino  & 14        & 82        &  TRUE    \\\\\n",
       "\t masculino & 43        & 66        & FALSE    \\\\\n",
       "\t feminino  & 82        & 74        & FALSE    \\\\\n",
       "\t masculino & 17        & 67        &  TRUE    \\\\\n",
       "\\end{tabular}\n"
      ],
      "text/markdown": [
       "\n",
       "| sexo | idade | peso | menor |\n",
       "|---|---|---|---|\n",
       "| feminino  | 68        | 59        | FALSE     |\n",
       "| feminino  | 23        | 70        | FALSE     |\n",
       "| masculino | 15        | 57        |  TRUE     |\n",
       "| feminino  | 35        | 64        | FALSE     |\n",
       "| masculino | 65        | 65        | FALSE     |\n",
       "| feminino  | 58        | 76        | FALSE     |\n",
       "| feminino  | 14        | 82        |  TRUE     |\n",
       "| masculino | 43        | 66        | FALSE     |\n",
       "| feminino  | 82        | 74        | FALSE     |\n",
       "| masculino | 17        | 67        |  TRUE     |\n",
       "\n"
      ],
      "text/plain": [
       "   sexo      idade peso menor\n",
       "1  feminino  68    59   FALSE\n",
       "2  feminino  23    70   FALSE\n",
       "3  masculino 15    57    TRUE\n",
       "4  feminino  35    64   FALSE\n",
       "5  masculino 65    65   FALSE\n",
       "6  feminino  58    76   FALSE\n",
       "7  feminino  14    82    TRUE\n",
       "8  masculino 43    66   FALSE\n",
       "9  feminino  82    74   FALSE\n",
       "10 masculino 17    67    TRUE"
      ]
     },
     "metadata": {},
     "output_type": "display_data"
    }
   ],
   "source": [
    "n <- 10\n",
    "sexo <- sample(c(\"masculino\", \"feminino\"), n, replace=TRUE)\n",
    "idade <- sample(14:102, n, replace=TRUE)\n",
    "peso <- sample(50:90, n, replace=TRUE)\n",
    "menor <- idade<18\n",
    "\n",
    "pessoas <- data.frame(sexo=sexo, idade=idade, peso=peso, menor=menor)\n",
    "pessoas"
   ]
  },
  {
   "cell_type": "markdown",
   "id": "524da90a",
   "metadata": {},
   "source": [
    "#### a) ordene o data frame por peso"
   ]
  },
  {
   "cell_type": "code",
   "execution_count": 37,
   "id": "0585818c",
   "metadata": {},
   "outputs": [
    {
     "data": {
      "text/html": [
       "<table>\n",
       "<thead><tr><th></th><th scope=col>sexo</th><th scope=col>idade</th><th scope=col>peso</th><th scope=col>menor</th></tr></thead>\n",
       "<tbody>\n",
       "\t<tr><th scope=row>3</th><td>masculino</td><td>15       </td><td>57       </td><td> TRUE    </td></tr>\n",
       "\t<tr><th scope=row>1</th><td>feminino </td><td>68       </td><td>59       </td><td>FALSE    </td></tr>\n",
       "\t<tr><th scope=row>4</th><td>feminino </td><td>35       </td><td>64       </td><td>FALSE    </td></tr>\n",
       "\t<tr><th scope=row>5</th><td>masculino</td><td>65       </td><td>65       </td><td>FALSE    </td></tr>\n",
       "\t<tr><th scope=row>8</th><td>masculino</td><td>43       </td><td>66       </td><td>FALSE    </td></tr>\n",
       "\t<tr><th scope=row>10</th><td>masculino</td><td>17       </td><td>67       </td><td> TRUE    </td></tr>\n",
       "\t<tr><th scope=row>2</th><td>feminino </td><td>23       </td><td>70       </td><td>FALSE    </td></tr>\n",
       "\t<tr><th scope=row>9</th><td>feminino </td><td>82       </td><td>74       </td><td>FALSE    </td></tr>\n",
       "\t<tr><th scope=row>6</th><td>feminino </td><td>58       </td><td>76       </td><td>FALSE    </td></tr>\n",
       "\t<tr><th scope=row>7</th><td>feminino </td><td>14       </td><td>82       </td><td> TRUE    </td></tr>\n",
       "</tbody>\n",
       "</table>\n"
      ],
      "text/latex": [
       "\\begin{tabular}{r|llll}\n",
       "  & sexo & idade & peso & menor\\\\\n",
       "\\hline\n",
       "\t3 & masculino & 15        & 57        &  TRUE    \\\\\n",
       "\t1 & feminino  & 68        & 59        & FALSE    \\\\\n",
       "\t4 & feminino  & 35        & 64        & FALSE    \\\\\n",
       "\t5 & masculino & 65        & 65        & FALSE    \\\\\n",
       "\t8 & masculino & 43        & 66        & FALSE    \\\\\n",
       "\t10 & masculino & 17        & 67        &  TRUE    \\\\\n",
       "\t2 & feminino  & 23        & 70        & FALSE    \\\\\n",
       "\t9 & feminino  & 82        & 74        & FALSE    \\\\\n",
       "\t6 & feminino  & 58        & 76        & FALSE    \\\\\n",
       "\t7 & feminino  & 14        & 82        &  TRUE    \\\\\n",
       "\\end{tabular}\n"
      ],
      "text/markdown": [
       "\n",
       "| <!--/--> | sexo | idade | peso | menor |\n",
       "|---|---|---|---|---|\n",
       "| 3 | masculino | 15        | 57        |  TRUE     |\n",
       "| 1 | feminino  | 68        | 59        | FALSE     |\n",
       "| 4 | feminino  | 35        | 64        | FALSE     |\n",
       "| 5 | masculino | 65        | 65        | FALSE     |\n",
       "| 8 | masculino | 43        | 66        | FALSE     |\n",
       "| 10 | masculino | 17        | 67        |  TRUE     |\n",
       "| 2 | feminino  | 23        | 70        | FALSE     |\n",
       "| 9 | feminino  | 82        | 74        | FALSE     |\n",
       "| 6 | feminino  | 58        | 76        | FALSE     |\n",
       "| 7 | feminino  | 14        | 82        |  TRUE     |\n",
       "\n"
      ],
      "text/plain": [
       "   sexo      idade peso menor\n",
       "3  masculino 15    57    TRUE\n",
       "1  feminino  68    59   FALSE\n",
       "4  feminino  35    64   FALSE\n",
       "5  masculino 65    65   FALSE\n",
       "8  masculino 43    66   FALSE\n",
       "10 masculino 17    67    TRUE\n",
       "2  feminino  23    70   FALSE\n",
       "9  feminino  82    74   FALSE\n",
       "6  feminino  58    76   FALSE\n",
       "7  feminino  14    82    TRUE"
      ]
     },
     "metadata": {},
     "output_type": "display_data"
    }
   ],
   "source": [
    "pessoas[order(pessoas$peso),]"
   ]
  },
  {
   "cell_type": "markdown",
   "id": "95baa67c",
   "metadata": {},
   "source": [
    "#### b) Ordene o data frame por sexo e peso, decrescente"
   ]
  },
  {
   "cell_type": "code",
   "execution_count": 40,
   "id": "69f6a6c9",
   "metadata": {},
   "outputs": [
    {
     "data": {
      "text/html": [
       "<table>\n",
       "<thead><tr><th></th><th scope=col>sexo</th><th scope=col>idade</th><th scope=col>peso</th><th scope=col>menor</th></tr></thead>\n",
       "<tbody>\n",
       "\t<tr><th scope=row>7</th><td>feminino </td><td>14       </td><td>82       </td><td> TRUE    </td></tr>\n",
       "\t<tr><th scope=row>6</th><td>feminino </td><td>58       </td><td>76       </td><td>FALSE    </td></tr>\n",
       "\t<tr><th scope=row>9</th><td>feminino </td><td>82       </td><td>74       </td><td>FALSE    </td></tr>\n",
       "\t<tr><th scope=row>2</th><td>feminino </td><td>23       </td><td>70       </td><td>FALSE    </td></tr>\n",
       "\t<tr><th scope=row>4</th><td>feminino </td><td>35       </td><td>64       </td><td>FALSE    </td></tr>\n",
       "\t<tr><th scope=row>1</th><td>feminino </td><td>68       </td><td>59       </td><td>FALSE    </td></tr>\n",
       "\t<tr><th scope=row>10</th><td>masculino</td><td>17       </td><td>67       </td><td> TRUE    </td></tr>\n",
       "\t<tr><th scope=row>8</th><td>masculino</td><td>43       </td><td>66       </td><td>FALSE    </td></tr>\n",
       "\t<tr><th scope=row>5</th><td>masculino</td><td>65       </td><td>65       </td><td>FALSE    </td></tr>\n",
       "\t<tr><th scope=row>3</th><td>masculino</td><td>15       </td><td>57       </td><td> TRUE    </td></tr>\n",
       "</tbody>\n",
       "</table>\n"
      ],
      "text/latex": [
       "\\begin{tabular}{r|llll}\n",
       "  & sexo & idade & peso & menor\\\\\n",
       "\\hline\n",
       "\t7 & feminino  & 14        & 82        &  TRUE    \\\\\n",
       "\t6 & feminino  & 58        & 76        & FALSE    \\\\\n",
       "\t9 & feminino  & 82        & 74        & FALSE    \\\\\n",
       "\t2 & feminino  & 23        & 70        & FALSE    \\\\\n",
       "\t4 & feminino  & 35        & 64        & FALSE    \\\\\n",
       "\t1 & feminino  & 68        & 59        & FALSE    \\\\\n",
       "\t10 & masculino & 17        & 67        &  TRUE    \\\\\n",
       "\t8 & masculino & 43        & 66        & FALSE    \\\\\n",
       "\t5 & masculino & 65        & 65        & FALSE    \\\\\n",
       "\t3 & masculino & 15        & 57        &  TRUE    \\\\\n",
       "\\end{tabular}\n"
      ],
      "text/markdown": [
       "\n",
       "| <!--/--> | sexo | idade | peso | menor |\n",
       "|---|---|---|---|---|\n",
       "| 7 | feminino  | 14        | 82        |  TRUE     |\n",
       "| 6 | feminino  | 58        | 76        | FALSE     |\n",
       "| 9 | feminino  | 82        | 74        | FALSE     |\n",
       "| 2 | feminino  | 23        | 70        | FALSE     |\n",
       "| 4 | feminino  | 35        | 64        | FALSE     |\n",
       "| 1 | feminino  | 68        | 59        | FALSE     |\n",
       "| 10 | masculino | 17        | 67        |  TRUE     |\n",
       "| 8 | masculino | 43        | 66        | FALSE     |\n",
       "| 5 | masculino | 65        | 65        | FALSE     |\n",
       "| 3 | masculino | 15        | 57        |  TRUE     |\n",
       "\n"
      ],
      "text/plain": [
       "   sexo      idade peso menor\n",
       "7  feminino  14    82    TRUE\n",
       "6  feminino  58    76   FALSE\n",
       "9  feminino  82    74   FALSE\n",
       "2  feminino  23    70   FALSE\n",
       "4  feminino  35    64   FALSE\n",
       "1  feminino  68    59   FALSE\n",
       "10 masculino 17    67    TRUE\n",
       "8  masculino 43    66   FALSE\n",
       "5  masculino 65    65   FALSE\n",
       "3  masculino 15    57    TRUE"
      ]
     },
     "metadata": {},
     "output_type": "display_data"
    }
   ],
   "source": [
    "pessoas[order(pessoas$sexo,-pessoas$peso),]"
   ]
  },
  {
   "cell_type": "markdown",
   "id": "861de911",
   "metadata": {},
   "source": [
    "#### c) Dê a maior idade dos dados (max)"
   ]
  },
  {
   "cell_type": "code",
   "execution_count": 67,
   "id": "f6c5c72a",
   "metadata": {},
   "outputs": [
    {
     "data": {
      "text/html": [
       "82"
      ],
      "text/latex": [
       "82"
      ],
      "text/markdown": [
       "82"
      ],
      "text/plain": [
       "[1] 82"
      ]
     },
     "metadata": {},
     "output_type": "display_data"
    }
   ],
   "source": [
    "max(pessoas$idade)"
   ]
  },
  {
   "cell_type": "markdown",
   "id": "bc248fb3",
   "metadata": {},
   "source": [
    "#### d) Dê a média dos pesos"
   ]
  },
  {
   "cell_type": "code",
   "execution_count": 70,
   "id": "8db0abc1",
   "metadata": {},
   "outputs": [
    {
     "data": {
      "text/html": [
       "68"
      ],
      "text/latex": [
       "68"
      ],
      "text/markdown": [
       "68"
      ],
      "text/plain": [
       "[1] 68"
      ]
     },
     "metadata": {},
     "output_type": "display_data"
    }
   ],
   "source": [
    "mean(pessoas$peso)"
   ]
  },
  {
   "cell_type": "markdown",
   "id": "445ac5ca",
   "metadata": {},
   "source": [
    "#### e) Mostrar as pessoas do sexo feminino que estão na base"
   ]
  },
  {
   "cell_type": "code",
   "execution_count": 71,
   "id": "7c26ede4",
   "metadata": {},
   "outputs": [
    {
     "data": {
      "text/html": [
       "<table>\n",
       "<thead><tr><th></th><th scope=col>sexo</th><th scope=col>idade</th><th scope=col>peso</th><th scope=col>menor</th></tr></thead>\n",
       "<tbody>\n",
       "\t<tr><th scope=row>1</th><td>feminino</td><td>68      </td><td>59      </td><td>FALSE   </td></tr>\n",
       "\t<tr><th scope=row>2</th><td>feminino</td><td>23      </td><td>70      </td><td>FALSE   </td></tr>\n",
       "\t<tr><th scope=row>4</th><td>feminino</td><td>35      </td><td>64      </td><td>FALSE   </td></tr>\n",
       "\t<tr><th scope=row>6</th><td>feminino</td><td>58      </td><td>76      </td><td>FALSE   </td></tr>\n",
       "\t<tr><th scope=row>7</th><td>feminino</td><td>14      </td><td>82      </td><td> TRUE   </td></tr>\n",
       "\t<tr><th scope=row>9</th><td>feminino</td><td>82      </td><td>74      </td><td>FALSE   </td></tr>\n",
       "</tbody>\n",
       "</table>\n"
      ],
      "text/latex": [
       "\\begin{tabular}{r|llll}\n",
       "  & sexo & idade & peso & menor\\\\\n",
       "\\hline\n",
       "\t1 & feminino & 68       & 59       & FALSE   \\\\\n",
       "\t2 & feminino & 23       & 70       & FALSE   \\\\\n",
       "\t4 & feminino & 35       & 64       & FALSE   \\\\\n",
       "\t6 & feminino & 58       & 76       & FALSE   \\\\\n",
       "\t7 & feminino & 14       & 82       &  TRUE   \\\\\n",
       "\t9 & feminino & 82       & 74       & FALSE   \\\\\n",
       "\\end{tabular}\n"
      ],
      "text/markdown": [
       "\n",
       "| <!--/--> | sexo | idade | peso | menor |\n",
       "|---|---|---|---|---|\n",
       "| 1 | feminino | 68       | 59       | FALSE    |\n",
       "| 2 | feminino | 23       | 70       | FALSE    |\n",
       "| 4 | feminino | 35       | 64       | FALSE    |\n",
       "| 6 | feminino | 58       | 76       | FALSE    |\n",
       "| 7 | feminino | 14       | 82       |  TRUE    |\n",
       "| 9 | feminino | 82       | 74       | FALSE    |\n",
       "\n"
      ],
      "text/plain": [
       "  sexo     idade peso menor\n",
       "1 feminino 68    59   FALSE\n",
       "2 feminino 23    70   FALSE\n",
       "4 feminino 35    64   FALSE\n",
       "6 feminino 58    76   FALSE\n",
       "7 feminino 14    82    TRUE\n",
       "9 feminino 82    74   FALSE"
      ]
     },
     "metadata": {},
     "output_type": "display_data"
    }
   ],
   "source": [
    "pessoas[pessoas$sexo %in% \"feminino\",]"
   ]
  },
  {
   "cell_type": "markdown",
   "id": "974e7b5d",
   "metadata": {},
   "source": [
    "#### f) Contar as pessoas do sexo feminino (nrow)"
   ]
  },
  {
   "cell_type": "code",
   "execution_count": 74,
   "id": "f8bdd487",
   "metadata": {},
   "outputs": [
    {
     "data": {
      "text/html": [
       "6"
      ],
      "text/latex": [
       "6"
      ],
      "text/markdown": [
       "6"
      ],
      "text/plain": [
       "[1] 6"
      ]
     },
     "metadata": {},
     "output_type": "display_data"
    }
   ],
   "source": [
    "nrow(pessoas[pessoas$sexo %in% \"feminino\",])"
   ]
  }
 ],
 "metadata": {
  "kernelspec": {
   "display_name": "R",
   "language": "R",
   "name": "ir"
  },
  "language_info": {
   "codemirror_mode": "r",
   "file_extension": ".r",
   "mimetype": "text/x-r-source",
   "name": "R",
   "pygments_lexer": "r",
   "version": "3.6.1"
  }
 },
 "nbformat": 4,
 "nbformat_minor": 5
}
