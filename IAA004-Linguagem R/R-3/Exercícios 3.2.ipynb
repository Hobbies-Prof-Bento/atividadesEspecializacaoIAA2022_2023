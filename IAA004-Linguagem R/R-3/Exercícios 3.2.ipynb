{
 "cells": [
  {
   "cell_type": "markdown",
   "id": "7e2535ed",
   "metadata": {},
   "source": [
    "## Exercícios R-3 (3.2)"
   ]
  },
  {
   "cell_type": "markdown",
   "id": "822d298f",
   "metadata": {},
   "source": [
    "### 1 Execute os exemplos apresentados nos slides"
   ]
  },
  {
   "cell_type": "markdown",
   "id": "abbc8b04",
   "metadata": {},
   "source": [
    "#### a) Vetores bidimensionais\n",
    "        • Somente elementos de uma mesma classe\n",
    "        • Função matrix(dados, linhas, colunas)\n",
    "Exemplo"
   ]
  },
  {
   "cell_type": "code",
   "execution_count": 1,
   "id": "6c621dd1",
   "metadata": {},
   "outputs": [
    {
     "data": {
      "text/html": [
       "<table>\n",
       "<tbody>\n",
       "\t<tr><td>1</td><td>3</td><td>5</td></tr>\n",
       "\t<tr><td>2</td><td>4</td><td>6</td></tr>\n",
       "</tbody>\n",
       "</table>\n"
      ],
      "text/latex": [
       "\\begin{tabular}{lll}\n",
       "\t 1 & 3 & 5\\\\\n",
       "\t 2 & 4 & 6\\\\\n",
       "\\end{tabular}\n"
      ],
      "text/markdown": [
       "\n",
       "| 1 | 3 | 5 |\n",
       "| 2 | 4 | 6 |\n",
       "\n"
      ],
      "text/plain": [
       "     [,1] [,2] [,3]\n",
       "[1,] 1    3    5   \n",
       "[2,] 2    4    6   "
      ]
     },
     "metadata": {},
     "output_type": "display_data"
    }
   ],
   "source": [
    "m <- matrix(1:6, nrow = 2, ncol = 3)\n",
    "m"
   ]
  },
  {
   "cell_type": "markdown",
   "id": "4c16c5f0",
   "metadata": {},
   "source": [
    "#### b) Criação a partir de valores"
   ]
  },
  {
   "cell_type": "code",
   "execution_count": 2,
   "id": "b757f415",
   "metadata": {},
   "outputs": [
    {
     "data": {
      "text/html": [
       "<table>\n",
       "<tbody>\n",
       "\t<tr><td> 2</td><td>1 </td><td>4 </td></tr>\n",
       "\t<tr><td> 3</td><td>2 </td><td>2 </td></tr>\n",
       "\t<tr><td>-2</td><td>2 </td><td>3 </td></tr>\n",
       "</tbody>\n",
       "</table>\n"
      ],
      "text/latex": [
       "\\begin{tabular}{lll}\n",
       "\t  2 & 1  & 4 \\\\\n",
       "\t  3 & 2  & 2 \\\\\n",
       "\t -2 & 2  & 3 \\\\\n",
       "\\end{tabular}\n"
      ],
      "text/markdown": [
       "\n",
       "|  2 | 1  | 4  |\n",
       "|  3 | 2  | 2  |\n",
       "| -2 | 2  | 3  |\n",
       "\n"
      ],
      "text/plain": [
       "     [,1] [,2] [,3]\n",
       "[1,]  2   1    4   \n",
       "[2,]  3   2    2   \n",
       "[3,] -2   2    3   "
      ]
     },
     "metadata": {},
     "output_type": "display_data"
    }
   ],
   "source": [
    "m <- matrix(c(2,3,-2,1,2,2,4,2,3),3, 3)\n",
    "m"
   ]
  },
  {
   "cell_type": "markdown",
   "id": "37e168c9",
   "metadata": {},
   "source": [
    "#### c) Função dim() retorna as dimensões da matriz"
   ]
  },
  {
   "cell_type": "code",
   "execution_count": 3,
   "id": "bea508a4",
   "metadata": {},
   "outputs": [
    {
     "data": {
      "text/html": [
       "<table>\n",
       "<tbody>\n",
       "\t<tr><td>1</td><td>3</td><td>5</td></tr>\n",
       "\t<tr><td>2</td><td>4</td><td>6</td></tr>\n",
       "</tbody>\n",
       "</table>\n"
      ],
      "text/latex": [
       "\\begin{tabular}{lll}\n",
       "\t 1 & 3 & 5\\\\\n",
       "\t 2 & 4 & 6\\\\\n",
       "\\end{tabular}\n"
      ],
      "text/markdown": [
       "\n",
       "| 1 | 3 | 5 |\n",
       "| 2 | 4 | 6 |\n",
       "\n"
      ],
      "text/plain": [
       "     [,1] [,2] [,3]\n",
       "[1,] 1    3    5   \n",
       "[2,] 2    4    6   "
      ]
     },
     "metadata": {},
     "output_type": "display_data"
    }
   ],
   "source": [
    "m <- matrix(1:6, nrow = 2, ncol = 3)\n",
    "m"
   ]
  },
  {
   "cell_type": "code",
   "execution_count": 4,
   "id": "05852cbc",
   "metadata": {
    "scrolled": true
   },
   "outputs": [
    {
     "data": {
      "text/html": [
       "<ol class=list-inline>\n",
       "\t<li>2</li>\n",
       "\t<li>3</li>\n",
       "</ol>\n"
      ],
      "text/latex": [
       "\\begin{enumerate*}\n",
       "\\item 2\n",
       "\\item 3\n",
       "\\end{enumerate*}\n"
      ],
      "text/markdown": [
       "1. 2\n",
       "2. 3\n",
       "\n",
       "\n"
      ],
      "text/plain": [
       "[1] 2 3"
      ]
     },
     "metadata": {},
     "output_type": "display_data"
    }
   ],
   "source": [
    "dim(m)"
   ]
  },
  {
   "cell_type": "markdown",
   "id": "9332825f",
   "metadata": {},
   "source": [
    "#### d) Obter número de linhas: nrow()"
   ]
  },
  {
   "cell_type": "code",
   "execution_count": 6,
   "id": "9364bc07",
   "metadata": {},
   "outputs": [
    {
     "data": {
      "text/html": [
       "2"
      ],
      "text/latex": [
       "2"
      ],
      "text/markdown": [
       "2"
      ],
      "text/plain": [
       "[1] 2"
      ]
     },
     "metadata": {},
     "output_type": "display_data"
    }
   ],
   "source": [
    "nrow(m)"
   ]
  },
  {
   "cell_type": "markdown",
   "id": "2880bc4a",
   "metadata": {},
   "source": [
    "#### e) Obter número de colunas: ncol()"
   ]
  },
  {
   "cell_type": "code",
   "execution_count": 7,
   "id": "82b21ef9",
   "metadata": {},
   "outputs": [
    {
     "data": {
      "text/html": [
       "3"
      ],
      "text/latex": [
       "3"
      ],
      "text/markdown": [
       "3"
      ],
      "text/plain": [
       "[1] 3"
      ]
     },
     "metadata": {},
     "output_type": "display_data"
    }
   ],
   "source": [
    "ncol(m)"
   ]
  },
  {
   "cell_type": "markdown",
   "id": "090916df",
   "metadata": {},
   "source": [
    "#### f) obter a matriz inteira"
   ]
  },
  {
   "cell_type": "code",
   "execution_count": 8,
   "id": "6551d260",
   "metadata": {},
   "outputs": [
    {
     "data": {
      "text/html": [
       "<table>\n",
       "<tbody>\n",
       "\t<tr><td>1</td><td>3</td><td>5</td></tr>\n",
       "\t<tr><td>2</td><td>4</td><td>6</td></tr>\n",
       "</tbody>\n",
       "</table>\n"
      ],
      "text/latex": [
       "\\begin{tabular}{lll}\n",
       "\t 1 & 3 & 5\\\\\n",
       "\t 2 & 4 & 6\\\\\n",
       "\\end{tabular}\n"
      ],
      "text/markdown": [
       "\n",
       "| 1 | 3 | 5 |\n",
       "| 2 | 4 | 6 |\n",
       "\n"
      ],
      "text/plain": [
       "     [,1] [,2] [,3]\n",
       "[1,] 1    3    5   \n",
       "[2,] 2    4    6   "
      ]
     },
     "metadata": {},
     "output_type": "display_data"
    }
   ],
   "source": [
    "m"
   ]
  },
  {
   "cell_type": "markdown",
   "id": "40a918e1",
   "metadata": {},
   "source": [
    "#### g) Selecionar uma Linha inteira"
   ]
  },
  {
   "cell_type": "code",
   "execution_count": 9,
   "id": "ca2c77af",
   "metadata": {},
   "outputs": [
    {
     "data": {
      "text/html": [
       "<ol class=list-inline>\n",
       "\t<li>2</li>\n",
       "\t<li>4</li>\n",
       "\t<li>6</li>\n",
       "</ol>\n"
      ],
      "text/latex": [
       "\\begin{enumerate*}\n",
       "\\item 2\n",
       "\\item 4\n",
       "\\item 6\n",
       "\\end{enumerate*}\n"
      ],
      "text/markdown": [
       "1. 2\n",
       "2. 4\n",
       "3. 6\n",
       "\n",
       "\n"
      ],
      "text/plain": [
       "[1] 2 4 6"
      ]
     },
     "metadata": {},
     "output_type": "display_data"
    }
   ],
   "source": [
    "m[2,]"
   ]
  },
  {
   "cell_type": "markdown",
   "id": "81f16937",
   "metadata": {},
   "source": [
    "#### h) Selecionar uma Coluna inteira"
   ]
  },
  {
   "cell_type": "code",
   "execution_count": 10,
   "id": "68457df0",
   "metadata": {},
   "outputs": [
    {
     "data": {
      "text/html": [
       "<ol class=list-inline>\n",
       "\t<li>3</li>\n",
       "\t<li>4</li>\n",
       "</ol>\n"
      ],
      "text/latex": [
       "\\begin{enumerate*}\n",
       "\\item 3\n",
       "\\item 4\n",
       "\\end{enumerate*}\n"
      ],
      "text/markdown": [
       "1. 3\n",
       "2. 4\n",
       "\n",
       "\n"
      ],
      "text/plain": [
       "[1] 3 4"
      ]
     },
     "metadata": {},
     "output_type": "display_data"
    }
   ],
   "source": [
    "m[,2]"
   ]
  },
  {
   "cell_type": "markdown",
   "id": "b6050c5f",
   "metadata": {},
   "source": [
    "#### i) Selecionar um elemento específico"
   ]
  },
  {
   "cell_type": "code",
   "execution_count": 11,
   "id": "e7d7faff",
   "metadata": {},
   "outputs": [
    {
     "data": {
      "text/html": [
       "4"
      ],
      "text/latex": [
       "4"
      ],
      "text/markdown": [
       "4"
      ],
      "text/plain": [
       "[1] 4"
      ]
     },
     "metadata": {},
     "output_type": "display_data"
    }
   ],
   "source": [
    "m[2,2]"
   ]
  },
  {
   "cell_type": "markdown",
   "id": "5f0e5ee7",
   "metadata": {},
   "source": [
    "#### j) Consegue-se adicionar nomes às linhas e colunas de uma matriz"
   ]
  },
  {
   "cell_type": "code",
   "execution_count": 12,
   "id": "a8836c3e",
   "metadata": {},
   "outputs": [
    {
     "data": {
      "text/html": [
       "<table>\n",
       "<tbody>\n",
       "\t<tr><td>1</td><td>3</td><td>5</td></tr>\n",
       "\t<tr><td>2</td><td>4</td><td>6</td></tr>\n",
       "</tbody>\n",
       "</table>\n"
      ],
      "text/latex": [
       "\\begin{tabular}{lll}\n",
       "\t 1 & 3 & 5\\\\\n",
       "\t 2 & 4 & 6\\\\\n",
       "\\end{tabular}\n"
      ],
      "text/markdown": [
       "\n",
       "| 1 | 3 | 5 |\n",
       "| 2 | 4 | 6 |\n",
       "\n"
      ],
      "text/plain": [
       "     [,1] [,2] [,3]\n",
       "[1,] 1    3    5   \n",
       "[2,] 2    4    6   "
      ]
     },
     "metadata": {},
     "output_type": "display_data"
    }
   ],
   "source": [
    "m <- matrix(1:6, nrow = 2, ncol = 3)\n",
    "m"
   ]
  },
  {
   "cell_type": "code",
   "execution_count": 14,
   "id": "6fe51427",
   "metadata": {},
   "outputs": [],
   "source": [
    "colnames(m)<-c(\"col 1\",\"col 2\",\"col 3\")"
   ]
  },
  {
   "cell_type": "code",
   "execution_count": 15,
   "id": "24e7f54d",
   "metadata": {},
   "outputs": [],
   "source": [
    "rownames(m)<-c(\"linha 1\", \"linha 2\")"
   ]
  },
  {
   "cell_type": "code",
   "execution_count": 16,
   "id": "53aa3c8b",
   "metadata": {},
   "outputs": [
    {
     "data": {
      "text/html": [
       "<table>\n",
       "<thead><tr><th></th><th scope=col>col 1</th><th scope=col>col 2</th><th scope=col>col 3</th></tr></thead>\n",
       "<tbody>\n",
       "\t<tr><th scope=row>linha 1</th><td>1</td><td>3</td><td>5</td></tr>\n",
       "\t<tr><th scope=row>linha 2</th><td>2</td><td>4</td><td>6</td></tr>\n",
       "</tbody>\n",
       "</table>\n"
      ],
      "text/latex": [
       "\\begin{tabular}{r|lll}\n",
       "  & col 1 & col 2 & col 3\\\\\n",
       "\\hline\n",
       "\tlinha 1 & 1 & 3 & 5\\\\\n",
       "\tlinha 2 & 2 & 4 & 6\\\\\n",
       "\\end{tabular}\n"
      ],
      "text/markdown": [
       "\n",
       "| <!--/--> | col 1 | col 2 | col 3 |\n",
       "|---|---|---|---|\n",
       "| linha 1 | 1 | 3 | 5 |\n",
       "| linha 2 | 2 | 4 | 6 |\n",
       "\n"
      ],
      "text/plain": [
       "        col 1 col 2 col 3\n",
       "linha 1 1     3     5    \n",
       "linha 2 2     4     6    "
      ]
     },
     "metadata": {},
     "output_type": "display_data"
    }
   ],
   "source": [
    "m"
   ]
  },
  {
   "cell_type": "markdown",
   "id": "e5b53905",
   "metadata": {},
   "source": [
    "#### k) Os dados podem ser acessados pelos nomes "
   ]
  },
  {
   "cell_type": "code",
   "execution_count": 18,
   "id": "b7625f2e",
   "metadata": {},
   "outputs": [
    {
     "data": {
      "text/html": [
       "<dl class=dl-horizontal>\n",
       "\t<dt>col 1</dt>\n",
       "\t\t<dd>1</dd>\n",
       "\t<dt>col 2</dt>\n",
       "\t\t<dd>3</dd>\n",
       "\t<dt>col 3</dt>\n",
       "\t\t<dd>5</dd>\n",
       "</dl>\n"
      ],
      "text/latex": [
       "\\begin{description*}\n",
       "\\item[col 1] 1\n",
       "\\item[col 2] 3\n",
       "\\item[col 3] 5\n",
       "\\end{description*}\n"
      ],
      "text/markdown": [
       "col 1\n",
       ":   1col 2\n",
       ":   3col 3\n",
       ":   5\n",
       "\n"
      ],
      "text/plain": [
       "col 1 col 2 col 3 \n",
       "    1     3     5 "
      ]
     },
     "metadata": {},
     "output_type": "display_data"
    }
   ],
   "source": [
    "m[\"linha 1\",]"
   ]
  },
  {
   "cell_type": "code",
   "execution_count": 19,
   "id": "2e7850b6",
   "metadata": {},
   "outputs": [
    {
     "data": {
      "text/html": [
       "<dl class=dl-horizontal>\n",
       "\t<dt>linha 1</dt>\n",
       "\t\t<dd>3</dd>\n",
       "\t<dt>linha 2</dt>\n",
       "\t\t<dd>4</dd>\n",
       "</dl>\n"
      ],
      "text/latex": [
       "\\begin{description*}\n",
       "\\item[linha 1] 3\n",
       "\\item[linha 2] 4\n",
       "\\end{description*}\n"
      ],
      "text/markdown": [
       "linha 1\n",
       ":   3linha 2\n",
       ":   4\n",
       "\n"
      ],
      "text/plain": [
       "linha 1 linha 2 \n",
       "      3       4 "
      ]
     },
     "metadata": {},
     "output_type": "display_data"
    }
   ],
   "source": [
    "m[,\"col 2\"]"
   ]
  },
  {
   "cell_type": "markdown",
   "id": "0b888ad2",
   "metadata": {},
   "source": [
    "#### l) Concatenação de Matrizes"
   ]
  },
  {
   "cell_type": "code",
   "execution_count": 21,
   "id": "3450bf45",
   "metadata": {},
   "outputs": [
    {
     "data": {
      "text/html": [
       "<table>\n",
       "<tbody>\n",
       "\t<tr><td> 7</td><td>9 </td></tr>\n",
       "\t<tr><td> 2</td><td>1 </td></tr>\n",
       "\t<tr><td>-5</td><td>0 </td></tr>\n",
       "</tbody>\n",
       "</table>\n"
      ],
      "text/latex": [
       "\\begin{tabular}{ll}\n",
       "\t  7 & 9 \\\\\n",
       "\t  2 & 1 \\\\\n",
       "\t -5 & 0 \\\\\n",
       "\\end{tabular}\n"
      ],
      "text/markdown": [
       "\n",
       "|  7 | 9  |\n",
       "|  2 | 1  |\n",
       "| -5 | 0  |\n",
       "\n"
      ],
      "text/plain": [
       "     [,1] [,2]\n",
       "[1,]  7   9   \n",
       "[2,]  2   1   \n",
       "[3,] -5   0   "
      ]
     },
     "metadata": {},
     "output_type": "display_data"
    }
   ],
   "source": [
    "A <- matrix(c(7,2,-5,9,1,0),3,2)\n",
    "B <- matrix(c(5,1,8,0,-2,1),3,2)\n",
    "A"
   ]
  },
  {
   "cell_type": "code",
   "execution_count": 23,
   "id": "19e649f6",
   "metadata": {},
   "outputs": [
    {
     "data": {
      "text/html": [
       "<table>\n",
       "<tbody>\n",
       "\t<tr><td>5 </td><td> 0</td></tr>\n",
       "\t<tr><td>1 </td><td>-2</td></tr>\n",
       "\t<tr><td>8 </td><td> 1</td></tr>\n",
       "</tbody>\n",
       "</table>\n"
      ],
      "text/latex": [
       "\\begin{tabular}{ll}\n",
       "\t 5  &  0\\\\\n",
       "\t 1  & -2\\\\\n",
       "\t 8  &  1\\\\\n",
       "\\end{tabular}\n"
      ],
      "text/markdown": [
       "\n",
       "| 5  |  0 |\n",
       "| 1  | -2 |\n",
       "| 8  |  1 |\n",
       "\n"
      ],
      "text/plain": [
       "     [,1] [,2]\n",
       "[1,] 5     0  \n",
       "[2,] 1    -2  \n",
       "[3,] 8     1  "
      ]
     },
     "metadata": {},
     "output_type": "display_data"
    }
   ],
   "source": [
    "B"
   ]
  },
  {
   "cell_type": "code",
   "execution_count": 25,
   "id": "2e54a85f",
   "metadata": {},
   "outputs": [
    {
     "data": {
      "text/html": [
       "<table>\n",
       "<tbody>\n",
       "\t<tr><td> 7</td><td>9 </td><td>5 </td><td> 0</td></tr>\n",
       "\t<tr><td> 2</td><td>1 </td><td>1 </td><td>-2</td></tr>\n",
       "\t<tr><td>-5</td><td>0 </td><td>8 </td><td> 1</td></tr>\n",
       "</tbody>\n",
       "</table>\n"
      ],
      "text/latex": [
       "\\begin{tabular}{llll}\n",
       "\t  7 & 9  & 5  &  0\\\\\n",
       "\t  2 & 1  & 1  & -2\\\\\n",
       "\t -5 & 0  & 8  &  1\\\\\n",
       "\\end{tabular}\n"
      ],
      "text/markdown": [
       "\n",
       "|  7 | 9  | 5  |  0 |\n",
       "|  2 | 1  | 1  | -2 |\n",
       "| -5 | 0  | 8  |  1 |\n",
       "\n"
      ],
      "text/plain": [
       "     [,1] [,2] [,3] [,4]\n",
       "[1,]  7   9    5     0  \n",
       "[2,]  2   1    1    -2  \n",
       "[3,] -5   0    8     1  "
      ]
     },
     "metadata": {},
     "output_type": "display_data"
    }
   ],
   "source": [
    "C <- cbind(A,B)\n",
    "C"
   ]
  },
  {
   "cell_type": "code",
   "execution_count": 27,
   "id": "e3ea4f33",
   "metadata": {},
   "outputs": [
    {
     "data": {
      "text/html": [
       "<table>\n",
       "<tbody>\n",
       "\t<tr><td> 7</td><td> 9</td></tr>\n",
       "\t<tr><td> 2</td><td> 1</td></tr>\n",
       "\t<tr><td>-5</td><td> 0</td></tr>\n",
       "\t<tr><td> 5</td><td> 0</td></tr>\n",
       "\t<tr><td> 1</td><td>-2</td></tr>\n",
       "\t<tr><td> 8</td><td> 1</td></tr>\n",
       "</tbody>\n",
       "</table>\n"
      ],
      "text/latex": [
       "\\begin{tabular}{ll}\n",
       "\t  7 &  9\\\\\n",
       "\t  2 &  1\\\\\n",
       "\t -5 &  0\\\\\n",
       "\t  5 &  0\\\\\n",
       "\t  1 & -2\\\\\n",
       "\t  8 &  1\\\\\n",
       "\\end{tabular}\n"
      ],
      "text/markdown": [
       "\n",
       "|  7 |  9 |\n",
       "|  2 |  1 |\n",
       "| -5 |  0 |\n",
       "|  5 |  0 |\n",
       "|  1 | -2 |\n",
       "|  8 |  1 |\n",
       "\n"
      ],
      "text/plain": [
       "     [,1] [,2]\n",
       "[1,]  7    9  \n",
       "[2,]  2    1  \n",
       "[3,] -5    0  \n",
       "[4,]  5    0  \n",
       "[5,]  1   -2  \n",
       "[6,]  8    1  "
      ]
     },
     "metadata": {},
     "output_type": "display_data"
    }
   ],
   "source": [
    "C <- rbind(A,B)\n",
    "C"
   ]
  },
  {
   "cell_type": "markdown",
   "id": "358f54bb",
   "metadata": {},
   "source": [
    "#### m)  Operações com Linhas e Colunas\n",
    "        Uma coluna em função de outras"
   ]
  },
  {
   "cell_type": "code",
   "execution_count": 28,
   "id": "a4830e5f",
   "metadata": {},
   "outputs": [
    {
     "data": {
      "text/html": [
       "<table>\n",
       "<tbody>\n",
       "\t<tr><td>49</td><td>39</td><td>14</td></tr>\n",
       "\t<tr><td>38</td><td>15</td><td> 5</td></tr>\n",
       "\t<tr><td>41</td><td>13</td><td> 8</td></tr>\n",
       "\t<tr><td>50</td><td> 1</td><td>19</td></tr>\n",
       "</tbody>\n",
       "</table>\n"
      ],
      "text/latex": [
       "\\begin{tabular}{lll}\n",
       "\t 49 & 39 & 14\\\\\n",
       "\t 38 & 15 &  5\\\\\n",
       "\t 41 & 13 &  8\\\\\n",
       "\t 50 &  1 & 19\\\\\n",
       "\\end{tabular}\n"
      ],
      "text/markdown": [
       "\n",
       "| 49 | 39 | 14 |\n",
       "| 38 | 15 |  5 |\n",
       "| 41 | 13 |  8 |\n",
       "| 50 |  1 | 19 |\n",
       "\n"
      ],
      "text/plain": [
       "     [,1] [,2] [,3]\n",
       "[1,] 49   39   14  \n",
       "[2,] 38   15    5  \n",
       "[3,] 41   13    8  \n",
       "[4,] 50    1   19  "
      ]
     },
     "metadata": {},
     "output_type": "display_data"
    }
   ],
   "source": [
    "vals <- sample(1:50, 12, replace = FALSE)\n",
    "m <- matrix( vals, nrow=4,ncol=3)\n",
    "m"
   ]
  },
  {
   "cell_type": "code",
   "execution_count": 30,
   "id": "fd349b88",
   "metadata": {},
   "outputs": [
    {
     "data": {
      "text/html": [
       "<table>\n",
       "<tbody>\n",
       "\t<tr><td>49</td><td>63</td><td>14</td></tr>\n",
       "\t<tr><td>38</td><td>43</td><td> 5</td></tr>\n",
       "\t<tr><td>41</td><td>49</td><td> 8</td></tr>\n",
       "\t<tr><td>50</td><td>69</td><td>19</td></tr>\n",
       "</tbody>\n",
       "</table>\n"
      ],
      "text/latex": [
       "\\begin{tabular}{lll}\n",
       "\t 49 & 63 & 14\\\\\n",
       "\t 38 & 43 &  5\\\\\n",
       "\t 41 & 49 &  8\\\\\n",
       "\t 50 & 69 & 19\\\\\n",
       "\\end{tabular}\n"
      ],
      "text/markdown": [
       "\n",
       "| 49 | 63 | 14 |\n",
       "| 38 | 43 |  5 |\n",
       "| 41 | 49 |  8 |\n",
       "| 50 | 69 | 19 |\n",
       "\n"
      ],
      "text/plain": [
       "     [,1] [,2] [,3]\n",
       "[1,] 49   63   14  \n",
       "[2,] 38   43    5  \n",
       "[3,] 41   49    8  \n",
       "[4,] 50   69   19  "
      ]
     },
     "metadata": {},
     "output_type": "display_data"
    }
   ],
   "source": [
    "m[,2] <- m[,1]+m[,3]\n",
    "m"
   ]
  },
  {
   "cell_type": "markdown",
   "id": "aba7baa0",
   "metadata": {},
   "source": [
    "Uma Linha em função de outras"
   ]
  },
  {
   "cell_type": "code",
   "execution_count": 31,
   "id": "ef16ae50",
   "metadata": {},
   "outputs": [
    {
     "data": {
      "text/html": [
       "<table>\n",
       "<tbody>\n",
       "\t<tr><td>49</td><td>63</td><td>14</td></tr>\n",
       "\t<tr><td>38</td><td>43</td><td> 5</td></tr>\n",
       "\t<tr><td>41</td><td>49</td><td> 8</td></tr>\n",
       "\t<tr><td> 8</td><td>14</td><td> 6</td></tr>\n",
       "</tbody>\n",
       "</table>\n"
      ],
      "text/latex": [
       "\\begin{tabular}{lll}\n",
       "\t 49 & 63 & 14\\\\\n",
       "\t 38 & 43 &  5\\\\\n",
       "\t 41 & 49 &  8\\\\\n",
       "\t  8 & 14 &  6\\\\\n",
       "\\end{tabular}\n"
      ],
      "text/markdown": [
       "\n",
       "| 49 | 63 | 14 |\n",
       "| 38 | 43 |  5 |\n",
       "| 41 | 49 |  8 |\n",
       "|  8 | 14 |  6 |\n",
       "\n"
      ],
      "text/plain": [
       "     [,1] [,2] [,3]\n",
       "[1,] 49   63   14  \n",
       "[2,] 38   43    5  \n",
       "[3,] 41   49    8  \n",
       "[4,]  8   14    6  "
      ]
     },
     "metadata": {},
     "output_type": "display_data"
    }
   ],
   "source": [
    "m[4,]<-m[1,]-m[3,]\n",
    "m"
   ]
  },
  {
   "cell_type": "markdown",
   "id": "a33c438d",
   "metadata": {},
   "source": [
    "#### n) Adição/Subtração/Multiplicação/Divisão por um escalar"
   ]
  },
  {
   "cell_type": "code",
   "execution_count": 32,
   "id": "b41800d1",
   "metadata": {},
   "outputs": [
    {
     "data": {
      "text/html": [
       "<table>\n",
       "<tbody>\n",
       "\t<tr><td>1</td><td>3</td><td>5</td></tr>\n",
       "\t<tr><td>2</td><td>4</td><td>6</td></tr>\n",
       "</tbody>\n",
       "</table>\n"
      ],
      "text/latex": [
       "\\begin{tabular}{lll}\n",
       "\t 1 & 3 & 5\\\\\n",
       "\t 2 & 4 & 6\\\\\n",
       "\\end{tabular}\n"
      ],
      "text/markdown": [
       "\n",
       "| 1 | 3 | 5 |\n",
       "| 2 | 4 | 6 |\n",
       "\n"
      ],
      "text/plain": [
       "     [,1] [,2] [,3]\n",
       "[1,] 1    3    5   \n",
       "[2,] 2    4    6   "
      ]
     },
     "metadata": {},
     "output_type": "display_data"
    }
   ],
   "source": [
    "m <- matrix(1:6, nrow = 2, ncol = 3)\n",
    "m"
   ]
  },
  {
   "cell_type": "code",
   "execution_count": 33,
   "id": "9f664445",
   "metadata": {},
   "outputs": [
    {
     "data": {
      "text/html": [
       "<table>\n",
       "<tbody>\n",
       "\t<tr><td>10</td><td>30</td><td>50</td></tr>\n",
       "\t<tr><td>20</td><td>40</td><td>60</td></tr>\n",
       "</tbody>\n",
       "</table>\n"
      ],
      "text/latex": [
       "\\begin{tabular}{lll}\n",
       "\t 10 & 30 & 50\\\\\n",
       "\t 20 & 40 & 60\\\\\n",
       "\\end{tabular}\n"
      ],
      "text/markdown": [
       "\n",
       "| 10 | 30 | 50 |\n",
       "| 20 | 40 | 60 |\n",
       "\n"
      ],
      "text/plain": [
       "     [,1] [,2] [,3]\n",
       "[1,] 10   30   50  \n",
       "[2,] 20   40   60  "
      ]
     },
     "metadata": {},
     "output_type": "display_data"
    }
   ],
   "source": [
    "m*10"
   ]
  },
  {
   "cell_type": "code",
   "execution_count": 34,
   "id": "1d33a4c4",
   "metadata": {},
   "outputs": [
    {
     "data": {
      "text/html": [
       "<table>\n",
       "<tbody>\n",
       "\t<tr><td>11</td><td>13</td><td>15</td></tr>\n",
       "\t<tr><td>12</td><td>14</td><td>16</td></tr>\n",
       "</tbody>\n",
       "</table>\n"
      ],
      "text/latex": [
       "\\begin{tabular}{lll}\n",
       "\t 11 & 13 & 15\\\\\n",
       "\t 12 & 14 & 16\\\\\n",
       "\\end{tabular}\n"
      ],
      "text/markdown": [
       "\n",
       "| 11 | 13 | 15 |\n",
       "| 12 | 14 | 16 |\n",
       "\n"
      ],
      "text/plain": [
       "     [,1] [,2] [,3]\n",
       "[1,] 11   13   15  \n",
       "[2,] 12   14   16  "
      ]
     },
     "metadata": {},
     "output_type": "display_data"
    }
   ],
   "source": [
    "m+10"
   ]
  },
  {
   "cell_type": "markdown",
   "id": "f57f4bf5",
   "metadata": {},
   "source": [
    "#### o)  Multiplicação de Matrizes : operador %*%\n",
    "    • Número de colunas da primeira matriz deve ser o mesmo número de linhas da segunda matriz"
   ]
  },
  {
   "cell_type": "code",
   "execution_count": 35,
   "id": "7b3accd2",
   "metadata": {},
   "outputs": [],
   "source": [
    "m <- matrix(5:10, nrow = 2, ncol = 3)\n",
    "n <- matrix(7:12, nrow = 3, ncol = 2)"
   ]
  },
  {
   "cell_type": "code",
   "execution_count": 36,
   "id": "6c129fb2",
   "metadata": {},
   "outputs": [
    {
     "data": {
      "text/html": [
       "<table>\n",
       "<tbody>\n",
       "\t<tr><td>172</td><td>235</td></tr>\n",
       "\t<tr><td>196</td><td>268</td></tr>\n",
       "</tbody>\n",
       "</table>\n"
      ],
      "text/latex": [
       "\\begin{tabular}{ll}\n",
       "\t 172 & 235\\\\\n",
       "\t 196 & 268\\\\\n",
       "\\end{tabular}\n"
      ],
      "text/markdown": [
       "\n",
       "| 172 | 235 |\n",
       "| 196 | 268 |\n",
       "\n"
      ],
      "text/plain": [
       "     [,1] [,2]\n",
       "[1,] 172  235 \n",
       "[2,] 196  268 "
      ]
     },
     "metadata": {},
     "output_type": "display_data"
    }
   ],
   "source": [
    "m %*% n"
   ]
  },
  {
   "cell_type": "markdown",
   "id": "b539e909",
   "metadata": {},
   "source": [
    "#### p)  Diagonal Principal"
   ]
  },
  {
   "cell_type": "code",
   "execution_count": 37,
   "id": "5f0674fc",
   "metadata": {},
   "outputs": [
    {
     "data": {
      "text/html": [
       "<table>\n",
       "<tbody>\n",
       "\t<tr><td> 2</td><td>1 </td><td>4 </td></tr>\n",
       "\t<tr><td> 3</td><td>2 </td><td>2 </td></tr>\n",
       "\t<tr><td>-2</td><td>2 </td><td>3 </td></tr>\n",
       "</tbody>\n",
       "</table>\n"
      ],
      "text/latex": [
       "\\begin{tabular}{lll}\n",
       "\t  2 & 1  & 4 \\\\\n",
       "\t  3 & 2  & 2 \\\\\n",
       "\t -2 & 2  & 3 \\\\\n",
       "\\end{tabular}\n"
      ],
      "text/markdown": [
       "\n",
       "|  2 | 1  | 4  |\n",
       "|  3 | 2  | 2  |\n",
       "| -2 | 2  | 3  |\n",
       "\n"
      ],
      "text/plain": [
       "     [,1] [,2] [,3]\n",
       "[1,]  2   1    4   \n",
       "[2,]  3   2    2   \n",
       "[3,] -2   2    3   "
      ]
     },
     "metadata": {},
     "output_type": "display_data"
    }
   ],
   "source": [
    "m <- matrix(c(2,3,-2,1,2,2,4,2,3),3,3)\n",
    "m"
   ]
  },
  {
   "cell_type": "code",
   "execution_count": 38,
   "id": "5a49c0c5",
   "metadata": {},
   "outputs": [
    {
     "data": {
      "text/html": [
       "<ol class=list-inline>\n",
       "\t<li>2</li>\n",
       "\t<li>2</li>\n",
       "\t<li>3</li>\n",
       "</ol>\n"
      ],
      "text/latex": [
       "\\begin{enumerate*}\n",
       "\\item 2\n",
       "\\item 2\n",
       "\\item 3\n",
       "\\end{enumerate*}\n"
      ],
      "text/markdown": [
       "1. 2\n",
       "2. 2\n",
       "3. 3\n",
       "\n",
       "\n"
      ],
      "text/plain": [
       "[1] 2 2 3"
      ]
     },
     "metadata": {},
     "output_type": "display_data"
    }
   ],
   "source": [
    " diag(m)"
   ]
  },
  {
   "cell_type": "code",
   "execution_count": 39,
   "id": "8cc99080",
   "metadata": {},
   "outputs": [
    {
     "data": {
      "text/html": [
       "<table>\n",
       "<tbody>\n",
       "\t<tr><td>2</td><td>0</td><td>0</td></tr>\n",
       "\t<tr><td>0</td><td>2</td><td>0</td></tr>\n",
       "\t<tr><td>0</td><td>0</td><td>3</td></tr>\n",
       "</tbody>\n",
       "</table>\n"
      ],
      "text/latex": [
       "\\begin{tabular}{lll}\n",
       "\t 2 & 0 & 0\\\\\n",
       "\t 0 & 2 & 0\\\\\n",
       "\t 0 & 0 & 3\\\\\n",
       "\\end{tabular}\n"
      ],
      "text/markdown": [
       "\n",
       "| 2 | 0 | 0 |\n",
       "| 0 | 2 | 0 |\n",
       "| 0 | 0 | 3 |\n",
       "\n"
      ],
      "text/plain": [
       "     [,1] [,2] [,3]\n",
       "[1,] 2    0    0   \n",
       "[2,] 0    2    0   \n",
       "[3,] 0    0    3   "
      ]
     },
     "metadata": {},
     "output_type": "display_data"
    }
   ],
   "source": [
    " diag( diag(m))"
   ]
  },
  {
   "cell_type": "markdown",
   "id": "00494654",
   "metadata": {},
   "source": [
    "#### q) Matriz Identidade"
   ]
  },
  {
   "cell_type": "code",
   "execution_count": 40,
   "id": "177ef2be",
   "metadata": {},
   "outputs": [
    {
     "data": {
      "text/html": [
       "<table>\n",
       "<tbody>\n",
       "\t<tr><td>1</td><td>0</td><td>0</td></tr>\n",
       "\t<tr><td>0</td><td>1</td><td>0</td></tr>\n",
       "\t<tr><td>0</td><td>0</td><td>1</td></tr>\n",
       "</tbody>\n",
       "</table>\n"
      ],
      "text/latex": [
       "\\begin{tabular}{lll}\n",
       "\t 1 & 0 & 0\\\\\n",
       "\t 0 & 1 & 0\\\\\n",
       "\t 0 & 0 & 1\\\\\n",
       "\\end{tabular}\n"
      ],
      "text/markdown": [
       "\n",
       "| 1 | 0 | 0 |\n",
       "| 0 | 1 | 0 |\n",
       "| 0 | 0 | 1 |\n",
       "\n"
      ],
      "text/plain": [
       "     [,1] [,2] [,3]\n",
       "[1,] 1    0    0   \n",
       "[2,] 0    1    0   \n",
       "[3,] 0    0    1   "
      ]
     },
     "metadata": {},
     "output_type": "display_data"
    }
   ],
   "source": [
    "I <- diag(c(1,1,1))\n",
    "I"
   ]
  },
  {
   "cell_type": "markdown",
   "id": "e15d7e11",
   "metadata": {},
   "source": [
    "#### r)  Matriz Inversa"
   ]
  },
  {
   "cell_type": "code",
   "execution_count": 41,
   "id": "69d4696d",
   "metadata": {},
   "outputs": [
    {
     "data": {
      "text/html": [
       "<table>\n",
       "<tbody>\n",
       "\t<tr><td> 4</td><td>2 </td><td>2 </td></tr>\n",
       "\t<tr><td> 4</td><td>6 </td><td>8 </td></tr>\n",
       "\t<tr><td>-2</td><td>2 </td><td>4 </td></tr>\n",
       "</tbody>\n",
       "</table>\n"
      ],
      "text/latex": [
       "\\begin{tabular}{lll}\n",
       "\t  4 & 2  & 2 \\\\\n",
       "\t  4 & 6  & 8 \\\\\n",
       "\t -2 & 2  & 4 \\\\\n",
       "\\end{tabular}\n"
      ],
      "text/markdown": [
       "\n",
       "|  4 | 2  | 2  |\n",
       "|  4 | 6  | 8  |\n",
       "| -2 | 2  | 4  |\n",
       "\n"
      ],
      "text/plain": [
       "     [,1] [,2] [,3]\n",
       "[1,]  4   2    2   \n",
       "[2,]  4   6    8   \n",
       "[3,] -2   2    4   "
      ]
     },
     "metadata": {},
     "output_type": "display_data"
    }
   ],
   "source": [
    "m <- matrix(c(4, 4, -2, 2, 6, 2, 2, 8, 4), 3, 3) \n",
    "m"
   ]
  },
  {
   "cell_type": "code",
   "execution_count": 42,
   "id": "d18686b3",
   "metadata": {},
   "outputs": [
    {
     "data": {
      "text/html": [
       "<table>\n",
       "<tbody>\n",
       "\t<tr><td> 1.0</td><td>-0.5</td><td> 0.5</td></tr>\n",
       "\t<tr><td>-4.0</td><td> 2.5</td><td>-3.0</td></tr>\n",
       "\t<tr><td> 2.5</td><td>-1.5</td><td> 2.0</td></tr>\n",
       "</tbody>\n",
       "</table>\n"
      ],
      "text/latex": [
       "\\begin{tabular}{lll}\n",
       "\t  1.0 & -0.5 &  0.5\\\\\n",
       "\t -4.0 &  2.5 & -3.0\\\\\n",
       "\t  2.5 & -1.5 &  2.0\\\\\n",
       "\\end{tabular}\n"
      ],
      "text/markdown": [
       "\n",
       "|  1.0 | -0.5 |  0.5 |\n",
       "| -4.0 |  2.5 | -3.0 |\n",
       "|  2.5 | -1.5 |  2.0 |\n",
       "\n"
      ],
      "text/plain": [
       "     [,1] [,2] [,3]\n",
       "[1,]  1.0 -0.5  0.5\n",
       "[2,] -4.0  2.5 -3.0\n",
       "[3,]  2.5 -1.5  2.0"
      ]
     },
     "metadata": {},
     "output_type": "display_data"
    }
   ],
   "source": [
    "invm <- solve(m)\n",
    "invm"
   ]
  },
  {
   "cell_type": "markdown",
   "id": "23520e51",
   "metadata": {},
   "source": [
    "#### s) Matriz Original %*% Inversa = Identidade"
   ]
  },
  {
   "cell_type": "code",
   "execution_count": 43,
   "id": "6b61c4e2",
   "metadata": {},
   "outputs": [
    {
     "data": {
      "text/html": [
       "<table>\n",
       "<tbody>\n",
       "\t<tr><td>1</td><td>0</td><td>0</td></tr>\n",
       "\t<tr><td>0</td><td>1</td><td>0</td></tr>\n",
       "\t<tr><td>0</td><td>0</td><td>1</td></tr>\n",
       "</tbody>\n",
       "</table>\n"
      ],
      "text/latex": [
       "\\begin{tabular}{lll}\n",
       "\t 1 & 0 & 0\\\\\n",
       "\t 0 & 1 & 0\\\\\n",
       "\t 0 & 0 & 1\\\\\n",
       "\\end{tabular}\n"
      ],
      "text/markdown": [
       "\n",
       "| 1 | 0 | 0 |\n",
       "| 0 | 1 | 0 |\n",
       "| 0 | 0 | 1 |\n",
       "\n"
      ],
      "text/plain": [
       "     [,1] [,2] [,3]\n",
       "[1,] 1    0    0   \n",
       "[2,] 0    1    0   \n",
       "[3,] 0    0    1   "
      ]
     },
     "metadata": {},
     "output_type": "display_data"
    }
   ],
   "source": [
    "m %*% invm"
   ]
  },
  {
   "cell_type": "markdown",
   "id": "1c01a6ad",
   "metadata": {},
   "source": [
    "#### t)  Determinante"
   ]
  },
  {
   "cell_type": "code",
   "execution_count": 44,
   "id": "77f8f3b5",
   "metadata": {},
   "outputs": [
    {
     "data": {
      "text/html": [
       "<table>\n",
       "<tbody>\n",
       "\t<tr><td> 4</td><td>2 </td><td>2 </td></tr>\n",
       "\t<tr><td> 4</td><td>6 </td><td>8 </td></tr>\n",
       "\t<tr><td>-2</td><td>2 </td><td>4 </td></tr>\n",
       "</tbody>\n",
       "</table>\n"
      ],
      "text/latex": [
       "\\begin{tabular}{lll}\n",
       "\t  4 & 2  & 2 \\\\\n",
       "\t  4 & 6  & 8 \\\\\n",
       "\t -2 & 2  & 4 \\\\\n",
       "\\end{tabular}\n"
      ],
      "text/markdown": [
       "\n",
       "|  4 | 2  | 2  |\n",
       "|  4 | 6  | 8  |\n",
       "| -2 | 2  | 4  |\n",
       "\n"
      ],
      "text/plain": [
       "     [,1] [,2] [,3]\n",
       "[1,]  4   2    2   \n",
       "[2,]  4   6    8   \n",
       "[3,] -2   2    4   "
      ]
     },
     "metadata": {},
     "output_type": "display_data"
    }
   ],
   "source": [
    "m <- matrix(c(4, 4, -2, 2, 6, 2, 2, 8, 4), 3, 3)\n",
    "m"
   ]
  },
  {
   "cell_type": "code",
   "execution_count": 45,
   "id": "73b4ee51",
   "metadata": {},
   "outputs": [
    {
     "data": {
      "text/html": [
       "8"
      ],
      "text/latex": [
       "8"
      ],
      "text/markdown": [
       "8"
      ],
      "text/plain": [
       "[1] 8"
      ]
     },
     "metadata": {},
     "output_type": "display_data"
    }
   ],
   "source": [
    "det(m)"
   ]
  },
  {
   "cell_type": "markdown",
   "id": "f29ee1bf",
   "metadata": {},
   "source": [
    "#### u)  Soma de linhas, colunas e de todos os elementos"
   ]
  },
  {
   "cell_type": "code",
   "execution_count": 47,
   "id": "eb57fd1f",
   "metadata": {},
   "outputs": [
    {
     "data": {
      "text/html": [
       "<ol class=list-inline>\n",
       "\t<li>6</li>\n",
       "\t<li>10</li>\n",
       "\t<li>14</li>\n",
       "</ol>\n"
      ],
      "text/latex": [
       "\\begin{enumerate*}\n",
       "\\item 6\n",
       "\\item 10\n",
       "\\item 14\n",
       "\\end{enumerate*}\n"
      ],
      "text/markdown": [
       "1. 6\n",
       "2. 10\n",
       "3. 14\n",
       "\n",
       "\n"
      ],
      "text/plain": [
       "[1]  6 10 14"
      ]
     },
     "metadata": {},
     "output_type": "display_data"
    }
   ],
   "source": [
    "colSums(m)"
   ]
  },
  {
   "cell_type": "code",
   "execution_count": 48,
   "id": "a9b8a930",
   "metadata": {},
   "outputs": [
    {
     "data": {
      "text/html": [
       "<ol class=list-inline>\n",
       "\t<li>8</li>\n",
       "\t<li>18</li>\n",
       "\t<li>4</li>\n",
       "</ol>\n"
      ],
      "text/latex": [
       "\\begin{enumerate*}\n",
       "\\item 8\n",
       "\\item 18\n",
       "\\item 4\n",
       "\\end{enumerate*}\n"
      ],
      "text/markdown": [
       "1. 8\n",
       "2. 18\n",
       "3. 4\n",
       "\n",
       "\n"
      ],
      "text/plain": [
       "[1]  8 18  4"
      ]
     },
     "metadata": {},
     "output_type": "display_data"
    }
   ],
   "source": [
    "rowSums(m)"
   ]
  },
  {
   "cell_type": "code",
   "execution_count": 49,
   "id": "69a81324",
   "metadata": {},
   "outputs": [
    {
     "data": {
      "text/html": [
       "30"
      ],
      "text/latex": [
       "30"
      ],
      "text/markdown": [
       "30"
      ],
      "text/plain": [
       "[1] 30"
      ]
     },
     "metadata": {},
     "output_type": "display_data"
    }
   ],
   "source": [
    "sum(m)"
   ]
  },
  {
   "cell_type": "markdown",
   "id": "faedb765",
   "metadata": {},
   "source": [
    "#### v)  Média de linhas, colunas e de todos os elementos"
   ]
  },
  {
   "cell_type": "code",
   "execution_count": 51,
   "id": "ed2baec1",
   "metadata": {},
   "outputs": [
    {
     "data": {
      "text/html": [
       "<ol class=list-inline>\n",
       "\t<li>2</li>\n",
       "\t<li>3.33333333333333</li>\n",
       "\t<li>4.66666666666667</li>\n",
       "</ol>\n"
      ],
      "text/latex": [
       "\\begin{enumerate*}\n",
       "\\item 2\n",
       "\\item 3.33333333333333\n",
       "\\item 4.66666666666667\n",
       "\\end{enumerate*}\n"
      ],
      "text/markdown": [
       "1. 2\n",
       "2. 3.33333333333333\n",
       "3. 4.66666666666667\n",
       "\n",
       "\n"
      ],
      "text/plain": [
       "[1] 2.000000 3.333333 4.666667"
      ]
     },
     "metadata": {},
     "output_type": "display_data"
    }
   ],
   "source": [
    "colMeans(m)"
   ]
  },
  {
   "cell_type": "code",
   "execution_count": 52,
   "id": "77d58ec6",
   "metadata": {},
   "outputs": [
    {
     "data": {
      "text/html": [
       "<ol class=list-inline>\n",
       "\t<li>2.66666666666667</li>\n",
       "\t<li>6</li>\n",
       "\t<li>1.33333333333333</li>\n",
       "</ol>\n"
      ],
      "text/latex": [
       "\\begin{enumerate*}\n",
       "\\item 2.66666666666667\n",
       "\\item 6\n",
       "\\item 1.33333333333333\n",
       "\\end{enumerate*}\n"
      ],
      "text/markdown": [
       "1. 2.66666666666667\n",
       "2. 6\n",
       "3. 1.33333333333333\n",
       "\n",
       "\n"
      ],
      "text/plain": [
       "[1] 2.666667 6.000000 1.333333"
      ]
     },
     "metadata": {},
     "output_type": "display_data"
    }
   ],
   "source": [
    "rowMeans(m)"
   ]
  },
  {
   "cell_type": "code",
   "execution_count": 54,
   "id": "a39dd4f8",
   "metadata": {},
   "outputs": [
    {
     "data": {
      "text/html": [
       "3.33333333333333"
      ],
      "text/latex": [
       "3.33333333333333"
      ],
      "text/markdown": [
       "3.33333333333333"
      ],
      "text/plain": [
       "[1] 3.333333"
      ]
     },
     "metadata": {},
     "output_type": "display_data"
    }
   ],
   "source": [
    "mean(m)"
   ]
  },
  {
   "cell_type": "markdown",
   "id": "a31c1068",
   "metadata": {},
   "source": [
    "### 2) A seguir tem-se as distâncias entre quatro cidades da Europa, em Km:\n",
    "        • Atenas a Madri: 3949\n",
    "        • Atenas a Paris: 3000\n",
    "        • Atenas a Estocolmo: 3927\n",
    "        • Madri a Paris: 1273\n",
    "        • Madri a Estocolmo: 3188\n",
    "        • Paris a Estocolmo: 1827"
   ]
  },
  {
   "cell_type": "markdown",
   "id": "3ea82fc3",
   "metadata": {},
   "source": [
    "#### a) Crie uma matriz com os valores acima. Nesta matriz, a diagonal principal deve conter zeros e o \"triângulo\" acima da diagonal principal deve conter as mesmas informações do \"triângulo\" abaixo da diagonal principal."
   ]
  },
  {
   "cell_type": "code",
   "execution_count": 55,
   "id": "9d724d35",
   "metadata": {},
   "outputs": [
    {
     "data": {
      "text/html": [
       "<table>\n",
       "<tbody>\n",
       "\t<tr><td>   0</td><td>3949</td><td>3000</td><td>3927</td></tr>\n",
       "\t<tr><td>3949</td><td>   0</td><td>1273</td><td>3188</td></tr>\n",
       "\t<tr><td>3000</td><td>1273</td><td>   0</td><td>1827</td></tr>\n",
       "\t<tr><td>3927</td><td>3188</td><td>1827</td><td>   0</td></tr>\n",
       "</tbody>\n",
       "</table>\n"
      ],
      "text/latex": [
       "\\begin{tabular}{llll}\n",
       "\t    0 & 3949 & 3000 & 3927\\\\\n",
       "\t 3949 &    0 & 1273 & 3188\\\\\n",
       "\t 3000 & 1273 &    0 & 1827\\\\\n",
       "\t 3927 & 3188 & 1827 &    0\\\\\n",
       "\\end{tabular}\n"
      ],
      "text/markdown": [
       "\n",
       "|    0 | 3949 | 3000 | 3927 |\n",
       "| 3949 |    0 | 1273 | 3188 |\n",
       "| 3000 | 1273 |    0 | 1827 |\n",
       "| 3927 | 3188 | 1827 |    0 |\n",
       "\n"
      ],
      "text/plain": [
       "     [,1] [,2] [,3] [,4]\n",
       "[1,]    0 3949 3000 3927\n",
       "[2,] 3949    0 1273 3188\n",
       "[3,] 3000 1273    0 1827\n",
       "[4,] 3927 3188 1827    0"
      ]
     },
     "metadata": {},
     "output_type": "display_data"
    }
   ],
   "source": [
    "m <- matrix(c(0, 3949, 3000, 3927, 3949, 0, 1273, 3188, 3000, 1273, 0, 1827, 3927, 3188, 1827, 0), 4, 4)\n",
    "m"
   ]
  },
  {
   "cell_type": "markdown",
   "id": "c5568edd",
   "metadata": {},
   "source": [
    "#### b)  Use o nome das cidades como linhas e colunas desta matriz"
   ]
  },
  {
   "cell_type": "code",
   "execution_count": 59,
   "id": "4b181a74",
   "metadata": {},
   "outputs": [],
   "source": [
    "colnames(m)<-(c(\"Atenas\", \"Madri\", \"Paris\", \"Estocolmo\"))\n",
    "rownames(m)<-(c(\"Atenas\", \"Madri\", \"Paris\", \"Estocolmo\"))"
   ]
  },
  {
   "cell_type": "markdown",
   "id": "dba32a76",
   "metadata": {},
   "source": [
    "#### c)  Mostre a matriz"
   ]
  },
  {
   "cell_type": "code",
   "execution_count": 60,
   "id": "b8817b59",
   "metadata": {
    "scrolled": true
   },
   "outputs": [
    {
     "data": {
      "text/html": [
       "<table>\n",
       "<thead><tr><th></th><th scope=col>Atenas</th><th scope=col>Madri</th><th scope=col>Paris</th><th scope=col>Estocolmo</th></tr></thead>\n",
       "<tbody>\n",
       "\t<tr><th scope=row>Atenas</th><td>   0</td><td>3949</td><td>3000</td><td>3927</td></tr>\n",
       "\t<tr><th scope=row>Madri</th><td>3949</td><td>   0</td><td>1273</td><td>3188</td></tr>\n",
       "\t<tr><th scope=row>Paris</th><td>3000</td><td>1273</td><td>   0</td><td>1827</td></tr>\n",
       "\t<tr><th scope=row>Estocolmo</th><td>3927</td><td>3188</td><td>1827</td><td>   0</td></tr>\n",
       "</tbody>\n",
       "</table>\n"
      ],
      "text/latex": [
       "\\begin{tabular}{r|llll}\n",
       "  & Atenas & Madri & Paris & Estocolmo\\\\\n",
       "\\hline\n",
       "\tAtenas &    0 & 3949 & 3000 & 3927\\\\\n",
       "\tMadri & 3949 &    0 & 1273 & 3188\\\\\n",
       "\tParis & 3000 & 1273 &    0 & 1827\\\\\n",
       "\tEstocolmo & 3927 & 3188 & 1827 &    0\\\\\n",
       "\\end{tabular}\n"
      ],
      "text/markdown": [
       "\n",
       "| <!--/--> | Atenas | Madri | Paris | Estocolmo |\n",
       "|---|---|---|---|---|\n",
       "| Atenas |    0 | 3949 | 3000 | 3927 |\n",
       "| Madri | 3949 |    0 | 1273 | 3188 |\n",
       "| Paris | 3000 | 1273 |    0 | 1827 |\n",
       "| Estocolmo | 3927 | 3188 | 1827 |    0 |\n",
       "\n"
      ],
      "text/plain": [
       "          Atenas Madri Paris Estocolmo\n",
       "Atenas       0   3949  3000  3927     \n",
       "Madri     3949      0  1273  3188     \n",
       "Paris     3000   1273     0  1827     \n",
       "Estocolmo 3927   3188  1827     0     "
      ]
     },
     "metadata": {},
     "output_type": "display_data"
    }
   ],
   "source": [
    "m"
   ]
  }
 ],
 "metadata": {
  "kernelspec": {
   "display_name": "R",
   "language": "R",
   "name": "ir"
  },
  "language_info": {
   "codemirror_mode": "r",
   "file_extension": ".r",
   "mimetype": "text/x-r-source",
   "name": "R",
   "pygments_lexer": "r",
   "version": "3.6.1"
  }
 },
 "nbformat": 4,
 "nbformat_minor": 5
}
