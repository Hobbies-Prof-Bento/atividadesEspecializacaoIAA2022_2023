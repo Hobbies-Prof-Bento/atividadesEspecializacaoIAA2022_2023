{
 "cells": [
  {
   "cell_type": "code",
   "execution_count": 3,
   "id": "334dbba2",
   "metadata": {
    "collapsed": true
   },
   "outputs": [
    {
     "name": "stderr",
     "output_type": "stream",
     "text": [
      "'getOption(\"repos\")' replaces Bioconductor standard repositories, see\n",
      "'?repositories' for details\n",
      "\n",
      "replacement repositories:\n",
      "    CRAN: https://cran.r-project.org\n",
      "\n",
      "Bioconductor version 3.10 (BiocManager 1.30.15), R 3.6.1 (2019-07-05)\n",
      "Installing package(s) 'BiocVersion', 'SummarizedExperiment'\n",
      "also installing the dependencies 'lambda.r', 'futile.options', 'zlibbioc', 'futile.logger', 'snow', 'bitops', 'XVector', 'matrixStats', 'BiocParallel', 'RCurl', 'GenomeInfoDbData', 'GenomicRanges', 'Biobase', 'DelayedArray', 'BiocGenerics', 'S4Vectors', 'IRanges', 'GenomeInfoDb'\n",
      "\n"
     ]
    },
    {
     "name": "stdout",
     "output_type": "stream",
     "text": [
      "\n",
      "  There are binary versions available but the source versions are later:\n",
      "              binary    source needs_compilation\n",
      "snow           0.4-3     0.4-4             FALSE\n",
      "matrixStats   0.58.0    0.63.0              TRUE\n",
      "RCurl       1.98-1.3 1.98-1.12              TRUE\n",
      "\n",
      "  Binaries will be installed\n",
      "package 'lambda.r' successfully unpacked and MD5 sums checked\n",
      "package 'futile.options' successfully unpacked and MD5 sums checked\n",
      "package 'zlibbioc' successfully unpacked and MD5 sums checked\n",
      "package 'futile.logger' successfully unpacked and MD5 sums checked\n",
      "package 'bitops' successfully unpacked and MD5 sums checked\n",
      "package 'XVector' successfully unpacked and MD5 sums checked\n",
      "package 'matrixStats' successfully unpacked and MD5 sums checked\n",
      "package 'BiocParallel' successfully unpacked and MD5 sums checked\n",
      "package 'RCurl' successfully unpacked and MD5 sums checked\n",
      "package 'GenomicRanges' successfully unpacked and MD5 sums checked\n",
      "package 'Biobase' successfully unpacked and MD5 sums checked\n",
      "package 'DelayedArray' successfully unpacked and MD5 sums checked\n",
      "package 'BiocGenerics' successfully unpacked and MD5 sums checked\n",
      "package 'S4Vectors' successfully unpacked and MD5 sums checked\n",
      "package 'IRanges' successfully unpacked and MD5 sums checked\n",
      "package 'GenomeInfoDb' successfully unpacked and MD5 sums checked\n",
      "package 'BiocVersion' successfully unpacked and MD5 sums checked\n",
      "package 'SummarizedExperiment' successfully unpacked and MD5 sums checked\n",
      "\n",
      "The downloaded binary packages are in\n",
      "\tC:\\Users\\clist\\AppData\\Local\\Temp\\RtmpaIeujO\\downloaded_packages\n"
     ]
    },
    {
     "name": "stderr",
     "output_type": "stream",
     "text": [
      "installing the source packages 'snow', 'GenomeInfoDbData'\n",
      "\n",
      "Old packages: 'askpass', 'backports', 'BH', 'BiocManager', 'boot', 'broom',\n",
      "  'callr', 'caret', 'class', 'cli', 'clipr', 'cluster', 'codetools',\n",
      "  'colorspace', 'crayon', 'curl', 'data.table', 'DBI', 'dbplyr', 'dichromat',\n",
      "  'digest', 'dplyr', 'ellipsis', 'evaluate', 'fansi', 'forcats', 'foreach',\n",
      "  'formatR', 'fs', 'generics', 'ggplot2', 'glmnet', 'glue', 'gower', 'gtable',\n",
      "  'haven', 'hexbin', 'highr', 'hms', 'htmltools', 'htmlwidgets', 'httpuv',\n",
      "  'httr', 'ipred', 'IRdisplay', 'IRkernel', 'iterators', 'jsonlite',\n",
      "  'KernSmooth', 'knitr', 'labeling', 'later', 'lava', 'lubridate', 'magrittr',\n",
      "  'maps', 'markdown', 'Matrix', 'matrixStats', 'mgcv', 'mime', 'ModelMetrics',\n",
      "  'modelr', 'nlme', 'nnet', 'numDeriv', 'openssl', 'pbdZMQ', 'pillar',\n",
      "  'pkgconfig', 'plyr', 'prettyunits', 'processx', 'prodlim', 'progress',\n",
      "  'promises', 'ps', 'purrr', 'quantmod', 'R6', 'RColorBrewer', 'Rcpp', 'RCurl',\n",
      "  'readr', 'readxl', 'recipes', 'repr', 'reprex', 'reshape2', 'rlang',\n",
      "  'rmarkdown', 'rpart', 'rstudioapi', 'rvest', 'scales', 'selectr', 'shiny',\n",
      "  'sourcetools', 'spatial', 'SQUAREM', 'stringi', 'stringr', 'survival', 'sys',\n",
      "  'tibble', 'tidyr', 'tidyselect', 'tidyverse', 'timeDate', 'tinytex', 'TTR',\n",
      "  'utf8', 'uuid', 'viridisLite', 'whisker', 'withr', 'xfun', 'xml2', 'xts',\n",
      "  'yaml', 'zoo'\n",
      "Warning message:\n",
      "\"package 'SummarizedExperiment' was built under R version 3.6.2\"Loading required package: GenomicRanges\n",
      "Loading required package: stats4\n",
      "Loading required package: BiocGenerics\n",
      "Loading required package: parallel\n",
      "\n",
      "Attaching package: 'BiocGenerics'\n",
      "\n",
      "The following objects are masked from 'package:parallel':\n",
      "\n",
      "    clusterApply, clusterApplyLB, clusterCall, clusterEvalQ,\n",
      "    clusterExport, clusterMap, parApply, parCapply, parLapply,\n",
      "    parLapplyLB, parRapply, parSapply, parSapplyLB\n",
      "\n",
      "The following objects are masked from 'package:stats':\n",
      "\n",
      "    IQR, mad, sd, var, xtabs\n",
      "\n",
      "The following objects are masked from 'package:base':\n",
      "\n",
      "    anyDuplicated, append, as.data.frame, basename, cbind, colnames,\n",
      "    dirname, do.call, duplicated, eval, evalq, Filter, Find, get, grep,\n",
      "    grepl, intersect, is.unsorted, lapply, Map, mapply, match, mget,\n",
      "    order, paste, pmax, pmax.int, pmin, pmin.int, Position, rank,\n",
      "    rbind, Reduce, rownames, sapply, setdiff, sort, table, tapply,\n",
      "    union, unique, unsplit, which, which.max, which.min\n",
      "\n",
      "Loading required package: S4Vectors\n",
      "Warning message:\n",
      "\"package 'S4Vectors' was built under R version 3.6.3\"\n",
      "Attaching package: 'S4Vectors'\n",
      "\n",
      "The following object is masked from 'package:base':\n",
      "\n",
      "    expand.grid\n",
      "\n",
      "Loading required package: IRanges\n",
      "Warning message:\n",
      "\"package 'IRanges' was built under R version 3.6.2\"\n",
      "Attaching package: 'IRanges'\n",
      "\n",
      "The following object is masked from 'package:grDevices':\n",
      "\n",
      "    windows\n",
      "\n",
      "Loading required package: GenomeInfoDb\n",
      "Warning message:\n",
      "\"package 'GenomeInfoDb' was built under R version 3.6.3\"Loading required package: Biobase\n",
      "Welcome to Bioconductor\n",
      "\n",
      "    Vignettes contain introductory material; view with\n",
      "    'browseVignettes()'. To cite Bioconductor, see\n",
      "    'citation(\"Biobase\")', and for packages 'citation(\"pkgname\")'.\n",
      "\n",
      "Loading required package: DelayedArray\n",
      "Warning message:\n",
      "\"package 'DelayedArray' was built under R version 3.6.3\"Loading required package: matrixStats\n",
      "Warning message:\n",
      "\"package 'matrixStats' was built under R version 3.6.3\"\n",
      "Attaching package: 'matrixStats'\n",
      "\n",
      "The following objects are masked from 'package:Biobase':\n",
      "\n",
      "    anyMissing, rowMedians\n",
      "\n",
      "Loading required package: BiocParallel\n",
      "Warning message:\n",
      "\"package 'BiocParallel' was built under R version 3.6.2\"\n",
      "Attaching package: 'DelayedArray'\n",
      "\n",
      "The following objects are masked from 'package:matrixStats':\n",
      "\n",
      "    colMaxs, colMins, colRanges, rowMaxs, rowMins, rowRanges\n",
      "\n",
      "The following objects are masked from 'package:base':\n",
      "\n",
      "    aperm, apply, rowsum\n",
      "\n"
     ]
    }
   ],
   "source": [
    "BiocManager::install(\"SummarizedExperiment\")"
   ]
  },
  {
   "cell_type": "markdown",
   "id": "b4f3ba7d",
   "metadata": {},
   "source": [
    "### Packages required to access a SummarizedExperiment object"
   ]
  },
  {
   "cell_type": "code",
   "execution_count": 4,
   "id": "f509e9e2",
   "metadata": {},
   "outputs": [],
   "source": [
    "library(SummarizedExperiment)"
   ]
  },
  {
   "cell_type": "markdown",
   "id": "9a4a1079",
   "metadata": {},
   "source": [
    "### Loading data"
   ]
  },
  {
   "cell_type": "code",
   "execution_count": 5,
   "id": "cc8f0390",
   "metadata": {},
   "outputs": [
    {
     "data": {
      "text/html": [
       "'RangedSummarizedExperiment'"
      ],
      "text/latex": [
       "'RangedSummarizedExperiment'"
      ],
      "text/markdown": [
       "'RangedSummarizedExperiment'"
      ],
      "text/plain": [
       "[1] \"RangedSummarizedExperiment\"\n",
       "attr(,\"package\")\n",
       "[1] \"SummarizedExperiment\""
      ]
     },
     "metadata": {},
     "output_type": "display_data"
    }
   ],
   "source": [
    "load(file = \"./data/tcgaLIHCdata_preprocessed.RData\")\n",
    "class(tcgaLIHCdata)"
   ]
  },
  {
   "cell_type": "markdown",
   "id": "5d216a5f",
   "metadata": {},
   "source": [
    "#### Check data dimention"
   ]
  },
  {
   "cell_type": "code",
   "execution_count": 6,
   "id": "a6fb787a",
   "metadata": {},
   "outputs": [
    {
     "data": {
      "text/html": [
       "<ol class=list-inline>\n",
       "\t<li>29885</li>\n",
       "\t<li>371</li>\n",
       "</ol>\n"
      ],
      "text/latex": [
       "\\begin{enumerate*}\n",
       "\\item 29885\n",
       "\\item 371\n",
       "\\end{enumerate*}\n"
      ],
      "text/markdown": [
       "1. 29885\n",
       "2. 371\n",
       "\n",
       "\n"
      ],
      "text/plain": [
       "[1] 29885   371"
      ]
     },
     "metadata": {},
     "output_type": "display_data"
    }
   ],
   "source": [
    "dim(tcgaLIHCdata)"
   ]
  },
  {
   "cell_type": "markdown",
   "id": "5508a227",
   "metadata": {},
   "source": [
    "#### Extract data matrix and metadata"
   ]
  },
  {
   "cell_type": "code",
   "execution_count": 7,
   "id": "256befe2",
   "metadata": {},
   "outputs": [],
   "source": [
    "gexp <- assay(tcgaLIHCdata)\n",
    "rowAnnotation <- rowData(tcgaLIHCdata)\n",
    "colAnnotation <- colData(tcgaLIHCdata)"
   ]
  },
  {
   "cell_type": "markdown",
   "id": "1d659c2d",
   "metadata": {},
   "source": [
    "#### Check data objects"
   ]
  },
  {
   "cell_type": "code",
   "execution_count": 8,
   "id": "a41cec41",
   "metadata": {},
   "outputs": [
    {
     "data": {
      "text/html": [
       "'matrix'"
      ],
      "text/latex": [
       "'matrix'"
      ],
      "text/markdown": [
       "'matrix'"
      ],
      "text/plain": [
       "[1] \"matrix\""
      ]
     },
     "metadata": {},
     "output_type": "display_data"
    }
   ],
   "source": [
    "class(gexp)"
   ]
  },
  {
   "cell_type": "code",
   "execution_count": 9,
   "id": "5618828e",
   "metadata": {},
   "outputs": [
    {
     "data": {
      "text/html": [
       "'DFrame'"
      ],
      "text/latex": [
       "'DFrame'"
      ],
      "text/markdown": [
       "'DFrame'"
      ],
      "text/plain": [
       "[1] \"DFrame\"\n",
       "attr(,\"package\")\n",
       "[1] \"S4Vectors\""
      ]
     },
     "metadata": {},
     "output_type": "display_data"
    }
   ],
   "source": [
    "class(rowAnnotation)"
   ]
  },
  {
   "cell_type": "code",
   "execution_count": 10,
   "id": "2eac9b07",
   "metadata": {},
   "outputs": [
    {
     "data": {
      "text/html": [
       "'DataFrame'"
      ],
      "text/latex": [
       "'DataFrame'"
      ],
      "text/markdown": [
       "'DataFrame'"
      ],
      "text/plain": [
       "[1] \"DataFrame\"\n",
       "attr(,\"package\")\n",
       "[1] \"S4Vectors\""
      ]
     },
     "metadata": {},
     "output_type": "display_data"
    }
   ],
   "source": [
    "class(colAnnotation)"
   ]
  },
  {
   "cell_type": "markdown",
   "id": "8f08c29a",
   "metadata": {},
   "source": [
    "#### Other checks"
   ]
  },
  {
   "cell_type": "code",
   "execution_count": 11,
   "id": "a9b46481",
   "metadata": {},
   "outputs": [
    {
     "data": {
      "text/html": [
       "<table>\n",
       "<thead><tr><th></th><th scope=col>TCGA-DD-A3A3-01A-11R-A22L-07</th><th scope=col>TCGA-DD-A1EF-01A-11R-A131-07</th><th scope=col>TCGA-ED-A627-01A-12R-A311-07</th><th scope=col>TCGA-DD-AACB-01A-11R-A41C-07</th></tr></thead>\n",
       "<tbody>\n",
       "\t<tr><th scope=row>ENSG00000000003</th><td>22.37358577</td><td>27.57565722</td><td>18.8409124 </td><td>20.16986881</td></tr>\n",
       "\t<tr><th scope=row>ENSG00000000005</th><td> 0.04209836</td><td> 0.01943315</td><td> 0.0246897 </td><td> 0.02132653</td></tr>\n",
       "\t<tr><th scope=row>ENSG00000000419</th><td>13.36474791</td><td>32.92042747</td><td>20.6326769 </td><td>29.75572654</td></tr>\n",
       "</tbody>\n",
       "</table>\n"
      ],
      "text/latex": [
       "\\begin{tabular}{r|llll}\n",
       "  & TCGA-DD-A3A3-01A-11R-A22L-07 & TCGA-DD-A1EF-01A-11R-A131-07 & TCGA-ED-A627-01A-12R-A311-07 & TCGA-DD-AACB-01A-11R-A41C-07\\\\\n",
       "\\hline\n",
       "\tENSG00000000003 & 22.37358577 & 27.57565722 & 18.8409124  & 20.16986881\\\\\n",
       "\tENSG00000000005 &  0.04209836 &  0.01943315 &  0.0246897  &  0.02132653\\\\\n",
       "\tENSG00000000419 & 13.36474791 & 32.92042747 & 20.6326769  & 29.75572654\\\\\n",
       "\\end{tabular}\n"
      ],
      "text/markdown": [
       "\n",
       "| <!--/--> | TCGA-DD-A3A3-01A-11R-A22L-07 | TCGA-DD-A1EF-01A-11R-A131-07 | TCGA-ED-A627-01A-12R-A311-07 | TCGA-DD-AACB-01A-11R-A41C-07 |\n",
       "|---|---|---|---|---|\n",
       "| ENSG00000000003 | 22.37358577 | 27.57565722 | 18.8409124  | 20.16986881 |\n",
       "| ENSG00000000005 |  0.04209836 |  0.01943315 |  0.0246897  |  0.02132653 |\n",
       "| ENSG00000000419 | 13.36474791 | 32.92042747 | 20.6326769  | 29.75572654 |\n",
       "\n"
      ],
      "text/plain": [
       "                TCGA-DD-A3A3-01A-11R-A22L-07 TCGA-DD-A1EF-01A-11R-A131-07\n",
       "ENSG00000000003 22.37358577                  27.57565722                 \n",
       "ENSG00000000005  0.04209836                   0.01943315                 \n",
       "ENSG00000000419 13.36474791                  32.92042747                 \n",
       "                TCGA-ED-A627-01A-12R-A311-07 TCGA-DD-AACB-01A-11R-A41C-07\n",
       "ENSG00000000003 18.8409124                   20.16986881                 \n",
       "ENSG00000000005  0.0246897                    0.02132653                 \n",
       "ENSG00000000419 20.6326769                   29.75572654                 "
      ]
     },
     "metadata": {},
     "output_type": "display_data"
    }
   ],
   "source": [
    "gexp[1:3,1:4]"
   ]
  },
  {
   "cell_type": "code",
   "execution_count": 12,
   "id": "a7d4ffa7",
   "metadata": {},
   "outputs": [
    {
     "data": {
      "text/plain": [
       "DataFrame with 29885 rows and 3 columns\n",
       "                        ENSEMBL        SYMBOL         OG_ENSEMBL\n",
       "                    <character>   <character>        <character>\n",
       "ENSG00000000003 ENSG00000000003        TSPAN6 ENSG00000000003.13\n",
       "ENSG00000000005 ENSG00000000005          TNMD  ENSG00000000005.5\n",
       "ENSG00000000419 ENSG00000000419          DPM1 ENSG00000000419.11\n",
       "ENSG00000000457 ENSG00000000457         SCYL3 ENSG00000000457.12\n",
       "ENSG00000000460 ENSG00000000460      C1orf112 ENSG00000000460.15\n",
       "...                         ...           ...                ...\n",
       "ENSG00000281883 ENSG00000281883    AL512506.3  ENSG00000281883.1\n",
       "ENSG00000281887 ENSG00000281887 GIMAP1-GIMAP5  ENSG00000281887.1\n",
       "ENSG00000281903 ENSG00000281903     LINC02246  ENSG00000281903.1\n",
       "ENSG00000281910 ENSG00000281910      SNORA50A  ENSG00000281910.1\n",
       "ENSG00000281912 ENSG00000281912     LINC01144  ENSG00000281912.1"
      ]
     },
     "metadata": {},
     "output_type": "display_data"
    }
   ],
   "source": [
    "rowAnnotation"
   ]
  }
 ],
 "metadata": {
  "kernelspec": {
   "display_name": "R",
   "language": "R",
   "name": "ir"
  },
  "language_info": {
   "codemirror_mode": "r",
   "file_extension": ".r",
   "mimetype": "text/x-r-source",
   "name": "R",
   "pygments_lexer": "r",
   "version": "3.6.1"
  }
 },
 "nbformat": 4,
 "nbformat_minor": 5
}
