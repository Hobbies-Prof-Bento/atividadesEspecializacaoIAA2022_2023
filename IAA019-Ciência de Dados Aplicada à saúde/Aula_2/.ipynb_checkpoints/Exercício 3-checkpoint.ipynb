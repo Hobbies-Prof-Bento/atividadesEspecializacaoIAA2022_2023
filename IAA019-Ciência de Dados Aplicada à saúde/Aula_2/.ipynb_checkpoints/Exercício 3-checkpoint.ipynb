{
 "cells": [
  {
   "cell_type": "markdown",
   "id": "fb03cd9d",
   "metadata": {},
   "source": [
    "# Exercício 3: Visualizando dados da coorte TCGA-LIHC\n"
   ]
  },
  {
   "cell_type": "markdown",
   "id": "f1eee31b",
   "metadata": {},
   "source": [
    "#### Professor: Mauro Castro\n",
    "#### Estudante: Clístenes Grizafis Bento"
   ]
  },
  {
   "cell_type": "markdown",
   "id": "69690446",
   "metadata": {},
   "source": [
    "Para responder a questão abaixo, considere o conjunto de dados disponível no seguinte endereço da internet:\n",
    "\n",
    "https://github.com/csgroen/RTN_example_TCGA_LIHC\n",
    "\n",
    "Este conjunto de dados foi pré-processado a partir do estudo TCGA et al. (2017), que descreve uma coorte de câncer de fígado. Neste conjunto de dados está incluindo uma matriz de valores numéricos e metadados correspondentes, disponibilizado em formato .RData no arquivo:\n",
    "\n",
    "“tcgaLIHCdata_preprocessed.RData”\n",
    "\n",
    "Faça o download do arquivo .RData, e observe o tipo de objeto carregado no RStudio. Trata-se de um objeto da classe SummarizedExperiment, que representa um “container”, contendo uma matriz numérica juntamente com os metadados. Extraia a matriz de dados numéricos do objeto SummarizedExperiment e observe sua estrutura no RStudio: as colunas representam casos (n=371) e linhas representam variáveis moleculares (n=29885). Em seguida, selecione as 100 variáveis moleculares que mais contribuem para a distinção de casos (alternativamete, você pode selecionar features usando Coeficiente de Variação ou Abundância) e gere uma matriz filtrada contendo apenas as variáreis selecionadas. Por fim, execute uma análise de clusterização não-supervisionada, e visualize o resultado usando o pacote ComplexHeatmap.\n",
    "\n",
    "FORMA DE ENVIO: Arquivo PDF\n",
    "\n",
    "REFERÊNCIAS\n",
    "\n",
    "The Cancer Genome Atlas Research Network (2017) Comprehensive and integrative genomic characterization of hepatocellular carcinoma. Cell, 169, 1327–1341.e23.\n",
    "\n",
    "Example of data preprocessing for RTN and RTNsurvival using the TCGA-LIHC cohort.\n",
    "\n",
    "< https://github.com/csgroen/RTN_example_TCGA_LIHC >\n",
    "\n",
    "Morgan M, Obenchain V, Hester J, Pagès H (2022). SummarizedExperiment: SummarizedExperiment container. R package version 1.26.1.\n",
    "\n",
    "https://bioconductor.org/packages/SummarizedExperiment"
   ]
  },
  {
   "cell_type": "markdown",
   "id": "f5a3c741",
   "metadata": {},
   "source": [
    "### Instalando e importando bibliotecas"
   ]
  },
  {
   "cell_type": "code",
   "execution_count": 2,
   "id": "4a389a52",
   "metadata": {},
   "outputs": [
    {
     "ename": "ERROR",
     "evalue": "Error in library(SummarizedExperiment): there is no package called 'SummarizedExperiment'\n",
     "output_type": "error",
     "traceback": [
      "Error in library(SummarizedExperiment): there is no package called 'SummarizedExperiment'\nTraceback:\n",
      "1. library(SummarizedExperiment)"
     ]
    }
   ],
   "source": [
    "#bibliotecas do github dos dados\n",
    "library(SummarizedExperiment)\n",
    "library(TCGAbiolinks)\n",
    "library(TxDb.Hsapiens.UCSC.hg38.knownGene)\n",
    "library(plyr)\n",
    "library(tidyverse)\n",
    "library(readxl)\n",
    "library(caret)\n",
    "library(knitr)"
   ]
  },
  {
   "cell_type": "markdown",
   "id": "9686be94",
   "metadata": {},
   "source": [
    "### Importando dados"
   ]
  },
  {
   "cell_type": "code",
   "execution_count": 1,
   "id": "97f2701d",
   "metadata": {},
   "outputs": [
    {
     "name": "stderr",
     "output_type": "stream",
     "text": [
      "Warning message:\n",
      "\"namespace 'SummarizedExperiment' is not available and has been replaced\n",
      "by .GlobalEnv when processing object 'tcgaLIHCdata'\""
     ]
    }
   ],
   "source": [
    "load(\"./data/tcgaLIHCdata_preprocessed.RData\")"
   ]
  },
  {
   "cell_type": "code",
   "execution_count": null,
   "id": "c1660f20",
   "metadata": {},
   "outputs": [],
   "source": []
  }
 ],
 "metadata": {
  "kernelspec": {
   "display_name": "R",
   "language": "R",
   "name": "ir"
  },
  "language_info": {
   "codemirror_mode": "r",
   "file_extension": ".r",
   "mimetype": "text/x-r-source",
   "name": "R",
   "pygments_lexer": "r",
   "version": "3.6.1"
  }
 },
 "nbformat": 4,
 "nbformat_minor": 5
}
