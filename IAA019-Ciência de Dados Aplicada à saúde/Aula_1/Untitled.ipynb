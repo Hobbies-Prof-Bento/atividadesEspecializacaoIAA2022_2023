{
 "cells": [
  {
   "cell_type": "code",
   "execution_count": 1,
   "id": "0cffdda3",
   "metadata": {},
   "outputs": [],
   "source": [
    "load(file = \"./data/cancer_de_mama.RData\")"
   ]
  },
  {
   "cell_type": "code",
   "execution_count": 2,
   "id": "5353982e",
   "metadata": {},
   "outputs": [
    {
     "data": {
      "text/html": [
       "<table>\n",
       "<thead><tr><th scope=col>população</th><th scope=col>casos_2020</th><th scope=col>casos_2040</th><th scope=col>Diferença_em_Porc</th></tr></thead>\n",
       "<tbody>\n",
       "\t<tr><td>Africa                     </td><td> 186598                    </td><td> 346587                    </td><td>85.739933                  </td></tr>\n",
       "\t<tr><td>Latin America and Caribbean</td><td> 210100                    </td><td> 314356                    </td><td>49.622085                  </td></tr>\n",
       "\t<tr><td>Northern America           </td><td> 281591                    </td><td> 343676                    </td><td>22.047935                  </td></tr>\n",
       "\t<tr><td>Europe                     </td><td> 531086                    </td><td> 568439                    </td><td> 7.033324                  </td></tr>\n",
       "\t<tr><td>Oceania                    </td><td>  25873                    </td><td>  35935                    </td><td>38.889963                  </td></tr>\n",
       "\t<tr><td>Asia                       </td><td>1026171                    </td><td>1416478                    </td><td>38.035279                  </td></tr>\n",
       "</tbody>\n",
       "</table>\n"
      ],
      "text/latex": [
       "\\begin{tabular}{r|llll}\n",
       " população & casos\\_2020 & casos\\_2040 & Diferença\\_em\\_Porc\\\\\n",
       "\\hline\n",
       "\t Africa                      &  186598                     &  346587                     & 85.739933                  \\\\\n",
       "\t Latin America and Caribbean &  210100                     &  314356                     & 49.622085                  \\\\\n",
       "\t Northern America            &  281591                     &  343676                     & 22.047935                  \\\\\n",
       "\t Europe                      &  531086                     &  568439                     &  7.033324                  \\\\\n",
       "\t Oceania                     &   25873                     &   35935                     & 38.889963                  \\\\\n",
       "\t Asia                        & 1026171                     & 1416478                     & 38.035279                  \\\\\n",
       "\\end{tabular}\n"
      ],
      "text/markdown": [
       "\n",
       "| população | casos_2020 | casos_2040 | Diferença_em_Porc |\n",
       "|---|---|---|---|\n",
       "| Africa                      |  186598                     |  346587                     | 85.739933                   |\n",
       "| Latin America and Caribbean |  210100                     |  314356                     | 49.622085                   |\n",
       "| Northern America            |  281591                     |  343676                     | 22.047935                   |\n",
       "| Europe                      |  531086                     |  568439                     |  7.033324                   |\n",
       "| Oceania                     |   25873                     |   35935                     | 38.889963                   |\n",
       "| Asia                        | 1026171                     | 1416478                     | 38.035279                   |\n",
       "\n"
      ],
      "text/plain": [
       "  população                   casos_2020 casos_2040 Diferença_em_Porc\n",
       "1 Africa                       186598     346587    85.739933        \n",
       "2 Latin America and Caribbean  210100     314356    49.622085        \n",
       "3 Northern America             281591     343676    22.047935        \n",
       "4 Europe                       531086     568439     7.033324        \n",
       "5 Oceania                       25873      35935    38.889963        \n",
       "6 Asia                        1026171    1416478    38.035279        "
      ]
     },
     "metadata": {},
     "output_type": "display_data"
    }
   ],
   "source": [
    "cancer_de_mama.df"
   ]
  },
  {
   "cell_type": "code",
   "execution_count": null,
   "id": "53a6a70d",
   "metadata": {},
   "outputs": [],
   "source": []
  }
 ],
 "metadata": {
  "kernelspec": {
   "display_name": "R",
   "language": "R",
   "name": "ir"
  },
  "language_info": {
   "codemirror_mode": "r",
   "file_extension": ".r",
   "mimetype": "text/x-r-source",
   "name": "R",
   "pygments_lexer": "r",
   "version": "3.6.1"
  }
 },
 "nbformat": 4,
 "nbformat_minor": 5
}
