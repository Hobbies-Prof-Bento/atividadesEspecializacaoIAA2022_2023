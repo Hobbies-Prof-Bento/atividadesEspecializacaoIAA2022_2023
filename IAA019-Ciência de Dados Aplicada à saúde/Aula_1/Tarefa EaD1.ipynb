{
 "cells": [
  {
   "cell_type": "markdown",
   "id": "bdf7ac83",
   "metadata": {},
   "source": [
    "# Tarefa EaD1"
   ]
  },
  {
   "cell_type": "markdown",
   "id": "8d3495dd",
   "metadata": {},
   "source": [
    "#### Professor: Mauro Castro\n",
    "#### Estudante: Clístenes Grizafis Bento"
   ]
  },
  {
   "cell_type": "markdown",
   "id": "c466e75e",
   "metadata": {},
   "source": [
    "xercício 1: Visualizando dados do Global Cancer Observatory (GCO)\n",
    "\n",
    "Para responder a questão abaixo, considere o conjunto de dados disponível no seguinte endereço da internet:\n",
    "\n",
    "http://gco.iarc.fr/\n",
    "\n",
    "O Global Cancer Observatory (GCO) é uma plataforma web focada na apresentação de dados estatísticos sobre controle e pesquisa do câncer. Entre na seção Cancer Tomorrow sobre previsão de incidência de câncer de mama para o ano de 2040, dividido por regiões (i.e. dados não agrupados). Faça o download dos dados no formato .csv, importe para o RStudio, e organize os dados em um data.frame. Observe que os dados de entrada podem necessitar ajustes, por exemplo, remoção de espaços ou caracteres não compatíveis com o tipo de dado a ser importado.\n",
    "\n",
    "PROPOSTA: Utilizando as ferramentas gráficas disponíveis na base do R, proponha um conjunto de gráficos e estratégias de visualização para explorarmos os dados de incidência de câncer no mundo.\n",
    "\n",
    "FORMA DE ENVIO: Arquivo PDF\n",
    "\n",
    "REFERÊNCIAS\n",
    "\n",
    "Global Cancer Observatory (GCO). A tool that predicts the future cancer incidence and mortality burden worldwide from the current estimates in 2020 up until 2040. <http://gco.iarc.fr/>"
   ]
  },
  {
   "cell_type": "markdown",
   "id": "309aeb23",
   "metadata": {},
   "source": [
    "### Instalando e importando bibliotecas"
   ]
  },
  {
   "cell_type": "code",
   "execution_count": 98,
   "id": "47adc0a1",
   "metadata": {},
   "outputs": [
    {
     "ename": "ERROR",
     "evalue": "Error in library(RedeR): there is no package called 'RedeR'\n",
     "output_type": "error",
     "traceback": [
      "Error in library(RedeR): there is no package called 'RedeR'\nTraceback:\n",
      "1. library(RedeR)"
     ]
    }
   ],
   "source": [
    "# Bibliotecas fornecidas pelo professor\n",
    "\n",
    "#library(TreeAndLeaf) # Pacote Bioconductor\n",
    "library(RedeR) # Pacote Bioconductor\n",
    "library(RColorBrewer)  # Pacote CRAN\n",
    "library(igraph)  # Pacote CRAN\n",
    "library(SummarizedExperiment) # Pacote Bioconductor\n",
    "library(ComplexHeatmap) # Pacote Bioconductor\n",
    "library(circlize) # Pacote CRAN\n",
    "library(RColorBrewer)  # Pacote CRAN\n",
    "library(survival)  # Pacote CRAN\n",
    "library(survminer)  # Pacote CRAN\n",
    "library(shiny)  # Pacote CRAN\n",
    "\n"
   ]
  },
  {
   "cell_type": "code",
   "execution_count": 99,
   "id": "9071c10a",
   "metadata": {},
   "outputs": [],
   "source": [
    "# Outras bibliotecas\n",
    "library(ggplot2)"
   ]
  },
  {
   "cell_type": "markdown",
   "id": "d94bdef7",
   "metadata": {},
   "source": [
    "### Importando dados"
   ]
  },
  {
   "cell_type": "code",
   "execution_count": 100,
   "id": "a1a3643d",
   "metadata": {},
   "outputs": [
    {
     "data": {
      "text/html": [
       "<table>\n",
       "<thead><tr><th scope=col>Cancer.id</th><th scope=col>Cancer.label</th><th scope=col>Population.id</th><th scope=col>Population</th><th scope=col>Sex</th><th scope=col>Type</th><th scope=col>Cases.base.in.2020</th><th scope=col>Year</th><th scope=col>Prediction</th><th scope=col>Change.in.number.of.cases</th><th scope=col>Change.in.number.of.cases.due.to.population</th><th scope=col>Change.in.number.of.cases.due.to.risk</th></tr></thead>\n",
       "<tbody>\n",
       "\t<tr><td>20                         </td><td>Breast                     </td><td>903                        </td><td>Africa                     </td><td>0                          </td><td>0                          </td><td>186598                     </td><td>2020                       </td><td>186598                     </td><td>     0                     </td><td> 0.0000                    </td><td>0                          </td></tr>\n",
       "\t<tr><td>20                         </td><td>Breast                     </td><td>903                        </td><td>Africa                     </td><td>0                          </td><td>0                          </td><td>186598                     </td><td>2025                       </td><td>218523                     </td><td> 31925                     </td><td>17.1090                    </td><td>0                          </td></tr>\n",
       "\t<tr><td>20                         </td><td>Breast                     </td><td>903                        </td><td>Africa                     </td><td>0                          </td><td>0                          </td><td>186598                     </td><td>2030                       </td><td>255607                     </td><td> 69009                     </td><td>36.9827                    </td><td>0                          </td></tr>\n",
       "\t<tr><td>20                         </td><td>Breast                     </td><td>903                        </td><td>Africa                     </td><td>0                          </td><td>0                          </td><td>186598                     </td><td>2035                       </td><td>298224                     </td><td>111626                     </td><td>59.8216                    </td><td>0                          </td></tr>\n",
       "\t<tr><td>20                         </td><td>Breast                     </td><td>903                        </td><td>Africa                     </td><td>0                          </td><td>0                          </td><td>186598                     </td><td>2040                       </td><td>346587                     </td><td>159989                     </td><td>85.7399                    </td><td>0                          </td></tr>\n",
       "\t<tr><td>20                         </td><td>Breast                     </td><td>904                        </td><td>Latin America and Caribbean</td><td>0                          </td><td>0                          </td><td>210100                     </td><td>2020                       </td><td>210100                     </td><td>     0                     </td><td> 0.0000                    </td><td>0                          </td></tr>\n",
       "</tbody>\n",
       "</table>\n"
      ],
      "text/latex": [
       "\\begin{tabular}{r|llllllllllll}\n",
       " Cancer.id & Cancer.label & Population.id & Population & Sex & Type & Cases.base.in.2020 & Year & Prediction & Change.in.number.of.cases & Change.in.number.of.cases.due.to.population & Change.in.number.of.cases.due.to.risk\\\\\n",
       "\\hline\n",
       "\t 20                          & Breast                      & 903                         & Africa                      & 0                           & 0                           & 186598                      & 2020                        & 186598                      &      0                      &  0.0000                     & 0                          \\\\\n",
       "\t 20                          & Breast                      & 903                         & Africa                      & 0                           & 0                           & 186598                      & 2025                        & 218523                      &  31925                      & 17.1090                     & 0                          \\\\\n",
       "\t 20                          & Breast                      & 903                         & Africa                      & 0                           & 0                           & 186598                      & 2030                        & 255607                      &  69009                      & 36.9827                     & 0                          \\\\\n",
       "\t 20                          & Breast                      & 903                         & Africa                      & 0                           & 0                           & 186598                      & 2035                        & 298224                      & 111626                      & 59.8216                     & 0                          \\\\\n",
       "\t 20                          & Breast                      & 903                         & Africa                      & 0                           & 0                           & 186598                      & 2040                        & 346587                      & 159989                      & 85.7399                     & 0                          \\\\\n",
       "\t 20                          & Breast                      & 904                         & Latin America and Caribbean & 0                           & 0                           & 210100                      & 2020                        & 210100                      &      0                      &  0.0000                     & 0                          \\\\\n",
       "\\end{tabular}\n"
      ],
      "text/markdown": [
       "\n",
       "| Cancer.id | Cancer.label | Population.id | Population | Sex | Type | Cases.base.in.2020 | Year | Prediction | Change.in.number.of.cases | Change.in.number.of.cases.due.to.population | Change.in.number.of.cases.due.to.risk |\n",
       "|---|---|---|---|---|---|---|---|---|---|---|---|\n",
       "| 20                          | Breast                      | 903                         | Africa                      | 0                           | 0                           | 186598                      | 2020                        | 186598                      |      0                      |  0.0000                     | 0                           |\n",
       "| 20                          | Breast                      | 903                         | Africa                      | 0                           | 0                           | 186598                      | 2025                        | 218523                      |  31925                      | 17.1090                     | 0                           |\n",
       "| 20                          | Breast                      | 903                         | Africa                      | 0                           | 0                           | 186598                      | 2030                        | 255607                      |  69009                      | 36.9827                     | 0                           |\n",
       "| 20                          | Breast                      | 903                         | Africa                      | 0                           | 0                           | 186598                      | 2035                        | 298224                      | 111626                      | 59.8216                     | 0                           |\n",
       "| 20                          | Breast                      | 903                         | Africa                      | 0                           | 0                           | 186598                      | 2040                        | 346587                      | 159989                      | 85.7399                     | 0                           |\n",
       "| 20                          | Breast                      | 904                         | Latin America and Caribbean | 0                           | 0                           | 210100                      | 2020                        | 210100                      |      0                      |  0.0000                     | 0                           |\n",
       "\n"
      ],
      "text/plain": [
       "  Cancer.id Cancer.label Population.id Population                  Sex Type\n",
       "1 20        Breast       903           Africa                      0   0   \n",
       "2 20        Breast       903           Africa                      0   0   \n",
       "3 20        Breast       903           Africa                      0   0   \n",
       "4 20        Breast       903           Africa                      0   0   \n",
       "5 20        Breast       903           Africa                      0   0   \n",
       "6 20        Breast       904           Latin America and Caribbean 0   0   \n",
       "  Cases.base.in.2020 Year Prediction Change.in.number.of.cases\n",
       "1 186598             2020 186598          0                   \n",
       "2 186598             2025 218523      31925                   \n",
       "3 186598             2030 255607      69009                   \n",
       "4 186598             2035 298224     111626                   \n",
       "5 186598             2040 346587     159989                   \n",
       "6 210100             2020 210100          0                   \n",
       "  Change.in.number.of.cases.due.to.population\n",
       "1  0.0000                                    \n",
       "2 17.1090                                    \n",
       "3 36.9827                                    \n",
       "4 59.8216                                    \n",
       "5 85.7399                                    \n",
       "6  0.0000                                    \n",
       "  Change.in.number.of.cases.due.to.risk\n",
       "1 0                                    \n",
       "2 0                                    \n",
       "3 0                                    \n",
       "4 0                                    \n",
       "5 0                                    \n",
       "6 0                                    "
      ]
     },
     "metadata": {},
     "output_type": "display_data"
    }
   ],
   "source": [
    "data.df <- read.csv(file = \"./data/cancer_de_mama.csv\")\n",
    "head(data.df)"
   ]
  },
  {
   "cell_type": "markdown",
   "id": "d5a44636",
   "metadata": {},
   "source": [
    "### Montando dataframe com dados selecionados para o gráfico"
   ]
  },
  {
   "cell_type": "code",
   "execution_count": 101,
   "id": "d6276527",
   "metadata": {},
   "outputs": [
    {
     "data": {
      "text/html": [
       "<table>\n",
       "<thead><tr><th scope=col>população</th><th scope=col>ano</th><th scope=col>numero_de_casos</th></tr></thead>\n",
       "<tbody>\n",
       "\t<tr><td>Africa                     </td><td>ano 2020                   </td><td> 186598                    </td></tr>\n",
       "\t<tr><td>Africa                     </td><td>ano 2040                   </td><td> 346587                    </td></tr>\n",
       "\t<tr><td>Latin America and Caribbean</td><td>ano 2020                   </td><td> 210100                    </td></tr>\n",
       "\t<tr><td>Latin America and Caribbean</td><td>ano 2040                   </td><td> 314356                    </td></tr>\n",
       "\t<tr><td>Northern America           </td><td>ano 2020                   </td><td> 281591                    </td></tr>\n",
       "\t<tr><td>Northern America           </td><td>ano 2040                   </td><td> 343676                    </td></tr>\n",
       "\t<tr><td>Europe                     </td><td>ano 2020                   </td><td> 531086                    </td></tr>\n",
       "\t<tr><td>Europe                     </td><td>ano 2040                   </td><td> 568439                    </td></tr>\n",
       "\t<tr><td>Oceania                    </td><td>ano 2020                   </td><td>  25873                    </td></tr>\n",
       "\t<tr><td>Oceania                    </td><td>ano 2040                   </td><td>  35935                    </td></tr>\n",
       "\t<tr><td>Asia                       </td><td>ano 2020                   </td><td>1026171                    </td></tr>\n",
       "\t<tr><td>Asia                       </td><td>ano 2040                   </td><td>1416478                    </td></tr>\n",
       "</tbody>\n",
       "</table>\n"
      ],
      "text/latex": [
       "\\begin{tabular}{r|lll}\n",
       " população & ano & numero\\_de\\_casos\\\\\n",
       "\\hline\n",
       "\t Africa                      & ano 2020                    &  186598                    \\\\\n",
       "\t Africa                      & ano 2040                    &  346587                    \\\\\n",
       "\t Latin America and Caribbean & ano 2020                    &  210100                    \\\\\n",
       "\t Latin America and Caribbean & ano 2040                    &  314356                    \\\\\n",
       "\t Northern America            & ano 2020                    &  281591                    \\\\\n",
       "\t Northern America            & ano 2040                    &  343676                    \\\\\n",
       "\t Europe                      & ano 2020                    &  531086                    \\\\\n",
       "\t Europe                      & ano 2040                    &  568439                    \\\\\n",
       "\t Oceania                     & ano 2020                    &   25873                    \\\\\n",
       "\t Oceania                     & ano 2040                    &   35935                    \\\\\n",
       "\t Asia                        & ano 2020                    & 1026171                    \\\\\n",
       "\t Asia                        & ano 2040                    & 1416478                    \\\\\n",
       "\\end{tabular}\n"
      ],
      "text/markdown": [
       "\n",
       "| população | ano | numero_de_casos |\n",
       "|---|---|---|\n",
       "| Africa                      | ano 2020                    |  186598                     |\n",
       "| Africa                      | ano 2040                    |  346587                     |\n",
       "| Latin America and Caribbean | ano 2020                    |  210100                     |\n",
       "| Latin America and Caribbean | ano 2040                    |  314356                     |\n",
       "| Northern America            | ano 2020                    |  281591                     |\n",
       "| Northern America            | ano 2040                    |  343676                     |\n",
       "| Europe                      | ano 2020                    |  531086                     |\n",
       "| Europe                      | ano 2040                    |  568439                     |\n",
       "| Oceania                     | ano 2020                    |   25873                     |\n",
       "| Oceania                     | ano 2040                    |   35935                     |\n",
       "| Asia                        | ano 2020                    | 1026171                     |\n",
       "| Asia                        | ano 2040                    | 1416478                     |\n",
       "\n"
      ],
      "text/plain": [
       "   população                   ano      numero_de_casos\n",
       "1  Africa                      ano 2020  186598        \n",
       "2  Africa                      ano 2040  346587        \n",
       "3  Latin America and Caribbean ano 2020  210100        \n",
       "4  Latin America and Caribbean ano 2040  314356        \n",
       "5  Northern America            ano 2020  281591        \n",
       "6  Northern America            ano 2040  343676        \n",
       "7  Europe                      ano 2020  531086        \n",
       "8  Europe                      ano 2040  568439        \n",
       "9  Oceania                     ano 2020   25873        \n",
       "10 Oceania                     ano 2040   35935        \n",
       "11 Asia                        ano 2020 1026171        \n",
       "12 Asia                        ano 2040 1416478        "
      ]
     },
     "metadata": {},
     "output_type": "display_data"
    }
   ],
   "source": [
    "#cancer_de_mama.df <- data.frame(\"população\"= data.df$Population[data.df$Year == 2020 || data.df$Year == 2040], \"casos_2020\" = data.df$Prediction[data.df$Year == 2020], \"casos_2040\" = data.df$Prediction[data.df$Year == 2040], \"Diferença_em_Porc\" = (data.df$Prediction[data.df$Year == 2040]-data.df$Prediction[data.df$Year == 2020])*100/data.df$Prediction[data.df$Year == 2020])\n",
    "\n",
    "verifica_ano <- (data.df$Year == 2020 | data.df$Year == 2040)\n",
    "ano <- data.df$Year[verifica_ano]\n",
    "cancer_de_mama.df <- data.frame(\"população\"= data.df$Population[verifica_ano], \"ano\"=data.df$Year[verifica_ano],\"numero_de_casos\"=data.df$Prediction[verifica_ano])\n",
    "\n",
    "cancer_de_mama.df$ano[cancer_de_mama.df$ano == 2020] = \"ano 2020\"\n",
    "cancer_de_mama.df$ano[cancer_de_mama.df$ano == 2040] = \"ano 2040\"\n",
    "\n",
    "cancer_de_mama.df"
   ]
  },
  {
   "cell_type": "markdown",
   "id": "67168229",
   "metadata": {},
   "source": [
    "### Salvando nova base de dados"
   ]
  },
  {
   "cell_type": "code",
   "execution_count": 102,
   "id": "1c708b4e",
   "metadata": {},
   "outputs": [],
   "source": [
    "save(cancer_de_mama.df,file = \"./data/cancer_de_mama.RData\")"
   ]
  },
  {
   "cell_type": "markdown",
   "id": "5e57f986",
   "metadata": {},
   "source": [
    "### Plotando Gráfico"
   ]
  },
  {
   "cell_type": "code",
   "execution_count": 103,
   "id": "d9a1e23d",
   "metadata": {},
   "outputs": [
    {
     "data": {
      "image/png": "[encoded data removed]",
      "text/plain": [
       "plot without title"
      ]
     },
     "metadata": {},
     "output_type": "display_data"
    }
   ],
   "source": [
    "ano <- cancer_de_mama.df$ano\n",
    "casos <- cancer_de_mama.df$numero_de_casos\n",
    "populacao <- cancer_de_mama.df$população\n",
    "\n",
    "ggplot(cancer_de_mama.df, aes(fill=ano, y=casos, x=populacao)) + \n",
    "    geom_bar(position=\"dodge\", stat=\"identity\")"
   ]
  }
 ],
 "metadata": {
  "kernelspec": {
   "display_name": "R",
   "language": "R",
   "name": "ir"
  },
  "language_info": {
   "codemirror_mode": "r",
   "file_extension": ".r",
   "mimetype": "text/x-r-source",
   "name": "R",
   "pygments_lexer": "r",
   "version": "3.6.1"
  }
 },
 "nbformat": 4,
 "nbformat_minor": 5
}
