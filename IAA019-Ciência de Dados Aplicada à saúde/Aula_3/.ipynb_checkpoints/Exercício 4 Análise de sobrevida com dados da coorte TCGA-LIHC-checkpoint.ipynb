{
 "cells": [
  {
   "cell_type": "markdown",
   "id": "21a35807",
   "metadata": {},
   "source": [
    "# Exercício 4: Análise de sobrevida com dados da coorte TCGA-LIHC"
   ]
  },
  {
   "cell_type": "markdown",
   "id": "5ef49ebb",
   "metadata": {},
   "source": [
    "#### Professor: Mauro Castro\n",
    "#### Estudante: Clístenes Grizafis Bento"
   ]
  },
  {
   "cell_type": "markdown",
   "id": "c9c0fff7",
   "metadata": {},
   "source": [
    "Para responder a questão abaixo, considere o conjunto de dados disponível no seguinte endereço da internet:\n",
    "\n",
    "https://github.com/csgroen/RTN_example_TCGA_LIHC\n",
    "\n",
    "Este conjunto de dados foi pré-processado a partir do estudo TCGA et al. (2017), que descreve uma coorte de câncer de fígado. Neste conjunto de dados está incluindo uma matriz de valores numéricos e metadados correspondentes, disponibilizado em formato .RData no arquivo:\n",
    "\n",
    "**“tcgaLIHCdata_preprocessed.RData”**\n",
    "\n",
    "Faça o download do arquivo .RData, e observe o tipo de objeto carregado no RStudio. Trata-se de um objeto da classe SummarizedExperiment, que representa um “container”, contendo uma matriz numérica juntamente com os metadados, os quais incluem dados de sobrevida para n=371 casos. Em seguida, escolha uma variável de interesse para agrupar os casos, e execute uma análise de sobrevida usando o pacote survival.\n",
    "\n",
    "**FORMA DE ENVIO:** Arquivo PDF\n",
    "\n",
    "**REFERÊNCIAS**\n",
    "\n",
    "The Cancer Genome Atlas Research Network (2017) Comprehensive and integrative genomic characterization of hepatocellular carcinoma. Cell, **169**, 1327–1341.e23.\n",
    "\n",
    "Example of data preprocessing for RTN and RTNsurvival using the TCGA-LIHC cohort\n",
    "\n",
    "< https://github.com/csgroen/RTN_example_TCGA_LIHC >"
   ]
  },
  {
   "cell_type": "markdown",
   "id": "d89d6d0e",
   "metadata": {},
   "source": [
    "### Exemplo de análise de sobrevida com os pacotes \"survfit\" e \"survminer\""
   ]
  },
  {
   "cell_type": "markdown",
   "id": "b1acd8c4",
   "metadata": {},
   "source": [
    "### Importando bibliotecas"
   ]
  },
  {
   "cell_type": "code",
   "execution_count": 11,
   "id": "a7b95d50",
   "metadata": {
    "collapsed": true
   },
   "outputs": [
    {
     "name": "stderr",
     "output_type": "stream",
     "text": [
      "Warning message:\n",
      "\"package 'SummarizedExperiment' was built under R version 3.6.2\"Loading required package: GenomicRanges\n",
      "Loading required package: stats4\n",
      "Loading required package: BiocGenerics\n",
      "Loading required package: parallel\n",
      "\n",
      "Attaching package: 'BiocGenerics'\n",
      "\n",
      "The following objects are masked from 'package:parallel':\n",
      "\n",
      "    clusterApply, clusterApplyLB, clusterCall, clusterEvalQ,\n",
      "    clusterExport, clusterMap, parApply, parCapply, parLapply,\n",
      "    parLapplyLB, parRapply, parSapply, parSapplyLB\n",
      "\n",
      "The following objects are masked from 'package:stats':\n",
      "\n",
      "    IQR, mad, sd, var, xtabs\n",
      "\n",
      "The following objects are masked from 'package:base':\n",
      "\n",
      "    anyDuplicated, append, as.data.frame, basename, cbind, colnames,\n",
      "    dirname, do.call, duplicated, eval, evalq, Filter, Find, get, grep,\n",
      "    grepl, intersect, is.unsorted, lapply, Map, mapply, match, mget,\n",
      "    order, paste, pmax, pmax.int, pmin, pmin.int, Position, rank,\n",
      "    rbind, Reduce, rownames, sapply, setdiff, sort, table, tapply,\n",
      "    union, unique, unsplit, which, which.max, which.min\n",
      "\n",
      "Loading required package: S4Vectors\n",
      "Warning message:\n",
      "\"package 'S4Vectors' was built under R version 3.6.3\"\n",
      "Attaching package: 'S4Vectors'\n",
      "\n",
      "The following object is masked from 'package:base':\n",
      "\n",
      "    expand.grid\n",
      "\n",
      "Loading required package: IRanges\n",
      "Warning message:\n",
      "\"package 'IRanges' was built under R version 3.6.2\"\n",
      "Attaching package: 'IRanges'\n",
      "\n",
      "The following object is masked from 'package:grDevices':\n",
      "\n",
      "    windows\n",
      "\n",
      "Loading required package: GenomeInfoDb\n",
      "Warning message:\n",
      "\"package 'GenomeInfoDb' was built under R version 3.6.3\"Loading required package: Biobase\n",
      "Welcome to Bioconductor\n",
      "\n",
      "    Vignettes contain introductory material; view with\n",
      "    'browseVignettes()'. To cite Bioconductor, see\n",
      "    'citation(\"Biobase\")', and for packages 'citation(\"pkgname\")'.\n",
      "\n",
      "Loading required package: DelayedArray\n",
      "Warning message:\n",
      "\"package 'DelayedArray' was built under R version 3.6.3\"Loading required package: matrixStats\n",
      "Warning message:\n",
      "\"package 'matrixStats' was built under R version 3.6.3\"\n",
      "Attaching package: 'matrixStats'\n",
      "\n",
      "The following objects are masked from 'package:Biobase':\n",
      "\n",
      "    anyMissing, rowMedians\n",
      "\n",
      "Loading required package: BiocParallel\n",
      "Warning message:\n",
      "\"package 'BiocParallel' was built under R version 3.6.2\"\n",
      "Attaching package: 'DelayedArray'\n",
      "\n",
      "The following objects are masked from 'package:matrixStats':\n",
      "\n",
      "    colMaxs, colMins, colRanges, rowMaxs, rowMins, rowRanges\n",
      "\n",
      "The following objects are masked from 'package:base':\n",
      "\n",
      "    aperm, apply, rowsum\n",
      "\n"
     ]
    }
   ],
   "source": [
    "library(survival)\n",
    "library(survminer)\n",
    "library(SummarizedExperiment)"
   ]
  },
  {
   "cell_type": "markdown",
   "id": "d26612c3",
   "metadata": {},
   "source": [
    "### Carregando pacote"
   ]
  },
  {
   "cell_type": "code",
   "execution_count": 8,
   "id": "4177bd97",
   "metadata": {},
   "outputs": [
    {
     "data": {
      "text/plain": [
       "class: RangedSummarizedExperiment \n",
       "dim: 29885 371 \n",
       "metadata(1): data_release\n",
       "assays(1): HTSeq - FPKM\n",
       "rownames(29885): ENSG00000000003 ENSG00000000005 ... ENSG00000281910\n",
       "  ENSG00000281912\n",
       "rowData names(3): ENSEMBL SYMBOL OG_ENSEMBL\n",
       "colnames(371): TCGA-DD-A3A3-01A-11R-A22L-07\n",
       "  TCGA-DD-A1EF-01A-11R-A131-07 ... TCGA-DD-AACL-01A-11R-A41C-07\n",
       "  TCGA-DD-AADW-01A-11R-A39D-07\n",
       "colData names(22): bcr_patient_barcode gender ... mRNA4 mRNA5"
      ]
     },
     "metadata": {},
     "output_type": "display_data"
    }
   ],
   "source": [
    "load(\"./data/tcgaLIHCdata_preprocessed.RData\")\n",
    "tcgaLIHCdata"
   ]
  },
  {
   "cell_type": "markdown",
   "id": "e359c216",
   "metadata": {},
   "source": [
    "#### Extração de dados da matrix e metadados"
   ]
  },
  {
   "cell_type": "code",
   "execution_count": 12,
   "id": "fe98ca62",
   "metadata": {},
   "outputs": [],
   "source": [
    "gexp <- assay(tcgaLIHCdata)\n",
    "rowAnnotation <- rowData(tcgaLIHCdata)\n",
    "colAnnotation <- colData(tcgaLIHCdata)"
   ]
  },
  {
   "cell_type": "markdown",
   "id": "c6bc3c42",
   "metadata": {},
   "source": [
    "### Separando curvas de sobrevivência"
   ]
  },
  {
   "cell_type": "code",
   "execution_count": 42,
   "id": "f8e29748",
   "metadata": {},
   "outputs": [],
   "source": [
    "fit <- survfit(Surv(OS.time.months, OS) ~  Tumor_Stage, data = colAnnotation)"
   ]
  },
  {
   "cell_type": "markdown",
   "id": "ac7abb54",
   "metadata": {},
   "source": [
    "### Plotagem básica de curvas"
   ]
  },
  {
   "cell_type": "code",
   "execution_count": 43,
   "id": "84a49c5a",
   "metadata": {},
   "outputs": [
    {
     "data": {
      "image/png": "[encoded data removed]",
      "text/plain": [
       "plot without title"
      ]
     },
     "metadata": {},
     "output_type": "display_data"
    }
   ],
   "source": [
    "ggsurvplot(fit, data = colAnnotation)"
   ]
  },
  {
   "cell_type": "markdown",
   "id": "4581f960",
   "metadata": {},
   "source": [
    "### Plotagem customizada de curvas"
   ]
  },
  {
   "cell_type": "code",
   "execution_count": 44,
   "id": "08c24125",
   "metadata": {},
   "outputs": [
    {
     "data": {
      "image/png": "[encoded data removed]",
      "text/plain": [
       "plot without title"
      ]
     },
     "metadata": {},
     "output_type": "display_data"
    }
   ],
   "source": [
    "# Customized survival curves\n",
    "ggsurvplot(fit, data = colAnnotation,\n",
    "           surv.median.line = \"hv\", # Add medians survival\n",
    "           \n",
    "           # Change legends: title & labels\n",
    "           legend.title = \"Tumor Stage\",\n",
    "           legend.labs = c(\"I\", \"II\",\"III\",\"IV\"),\n",
    "           # Add p-value and tervals\n",
    "           pval = TRUE,\n",
    "           \n",
    "           conf.int = TRUE,\n",
    "           # Add risk table\n",
    "           risk.table = TRUE,\n",
    "           tables.height = 0.2,\n",
    "           tables.theme = theme_cleantable(),\n",
    "           \n",
    "           # Color palettes. Use custom color: c(\"#E7B800\", \"#2E9FDF\"),\n",
    "           # or brewer color (e.g.: \"Dark2\"), or ggsci color (e.g.: \"jco\")\n",
    "           palette = c(\"#E7B800\", \"#2E9FDF\",\"#FF0000\", \"#00FF00\"),\n",
    "           ggtheme = theme_bw() # Change ggplot2 theme\n",
    ")"
   ]
  }
 ],
 "metadata": {
  "kernelspec": {
   "display_name": "R",
   "language": "R",
   "name": "ir"
  },
  "language_info": {
   "codemirror_mode": "r",
   "file_extension": ".r",
   "mimetype": "text/x-r-source",
   "name": "R",
   "pygments_lexer": "r",
   "version": "3.6.1"
  }
 },
 "nbformat": 4,
 "nbformat_minor": 5
}
