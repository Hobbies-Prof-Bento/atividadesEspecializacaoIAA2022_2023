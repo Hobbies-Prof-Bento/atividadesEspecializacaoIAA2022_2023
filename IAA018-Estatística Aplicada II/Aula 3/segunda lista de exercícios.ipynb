{
 "cells": [
  {
   "cell_type": "markdown",
   "id": "0dbbbb68",
   "metadata": {},
   "source": [
    "# Estatística Aplicada II\n",
    "## Segunda Lista de Exercícios\n",
    "### Estudante: Clístenes Grizafis Bento\n",
    "\n",
    "<p>Com a base de dados “prodbebidas” (dados mensais do índice de produção de bebidas no Brasil) obter os seguintes resultados com o auxílio do “R”</p>\n",
    "<p>Fazer a todos os testes estatísticos e gráficos necessários e a predição para os próximos 6 meses do índice de produção de bebidas para os seguintes modelos:</p>\n",
    "\n",
    "     i.\tETS;\n",
    "    ii.\tARIMA OU SARIMA (verificar se existe sazonalidade ou não e decidir qual modelo é mais adequado);\n",
    "    \n",
    "    Obs: separe os últimos 12 meses da série para testar o modelo."
   ]
  },
  {
   "cell_type": "markdown",
   "id": "421682d2",
   "metadata": {},
   "source": [
    "## ETS"
   ]
  },
  {
   "cell_type": "markdown",
   "id": "08f483e0",
   "metadata": {},
   "source": [
    "### Importando pacotes necessários"
   ]
  },
  {
   "cell_type": "code",
   "execution_count": null,
   "id": "5aa06d0d",
   "metadata": {},
   "outputs": [],
   "source": [
    "library(\"ggplot2\")\n",
    "library(\"forecast\")\n",
    "library(\"seasonal\")\n",
    "library(\"dplyr\")\n",
    "library(\"readxl\")\n",
    "library(\"plotly\")\n",
    "library(\"tidyverse\")\n",
    "library(\"gridExtra\")\n",
    "library(\"forecast\")\n",
    "library(\"TTR\")\n",
    "library(\"smooth\")\n",
    "library(\"tsibble\")\n",
    "library(\"fable\")\n",
    "library(\"tsibbledata\")\n",
    "library(\"fpp3\")\n",
    "library(\"urca\")"
   ]
  },
  {
   "cell_type": "markdown",
   "id": "fd94f6c9",
   "metadata": {},
   "source": [
    "### Importando dados e declarando a série como objeto da classe ts"
   ]
  },
  {
   "cell_type": "code",
   "execution_count": 189,
   "id": "cf17f12c",
   "metadata": {},
   "outputs": [],
   "source": [
    "prodbebidas <- read_excel(\"prodbebidas.xls\")"
   ]
  },
  {
   "cell_type": "code",
   "execution_count": 188,
   "id": "fff9db9e",
   "metadata": {},
   "outputs": [],
   "source": [
    "#prodbebidas[[2]]"
   ]
  },
  {
   "cell_type": "code",
   "execution_count": 190,
   "id": "3e322199",
   "metadata": {},
   "outputs": [
    {
     "data": {
      "text/html": [
       "<table>\n",
       "<thead><tr><th scope=col>Prodbebidas</th></tr></thead>\n",
       "<tbody>\n",
       "\t<tr><td>62.55626</td></tr>\n",
       "\t<tr><td>57.84550</td></tr>\n",
       "\t<tr><td>60.69372</td></tr>\n",
       "\t<tr><td>62.65435</td></tr>\n",
       "\t<tr><td>62.31734</td></tr>\n",
       "\t<tr><td>60.49615</td></tr>\n",
       "\t<tr><td>60.16045</td></tr>\n",
       "\t<tr><td>67.33102</td></tr>\n",
       "\t<tr><td>66.58131</td></tr>\n",
       "\t<tr><td>83.37684</td></tr>\n",
       "\t<tr><td>82.94314</td></tr>\n",
       "\t<tr><td>88.43612</td></tr>\n",
       "\t<tr><td>62.56067</td></tr>\n",
       "\t<tr><td>60.76872</td></tr>\n",
       "\t<tr><td>63.89176</td></tr>\n",
       "\t<tr><td>56.67937</td></tr>\n",
       "\t<tr><td>58.01843</td></tr>\n",
       "\t<tr><td>56.00493</td></tr>\n",
       "\t<tr><td>62.18952</td></tr>\n",
       "\t<tr><td>59.96014</td></tr>\n",
       "\t<tr><td>64.55340</td></tr>\n",
       "\t<tr><td>74.25945</td></tr>\n",
       "\t<tr><td>73.53011</td></tr>\n",
       "\t<tr><td>89.46737</td></tr>\n",
       "\t<tr><td>64.98702</td></tr>\n",
       "\t<tr><td>61.60299</td></tr>\n",
       "\t<tr><td>63.94879</td></tr>\n",
       "\t<tr><td>64.76350</td></tr>\n",
       "\t<tr><td>60.49053</td></tr>\n",
       "\t<tr><td>55.94533</td></tr>\n",
       "\t<tr><td>...</td></tr>\n",
       "\t<tr><td>107.33023</td></tr>\n",
       "\t<tr><td>113.37001</td></tr>\n",
       "\t<tr><td>105.18485</td></tr>\n",
       "\t<tr><td> 97.68750</td></tr>\n",
       "\t<tr><td> 77.95396</td></tr>\n",
       "\t<tr><td> 44.20794</td></tr>\n",
       "\t<tr><td> 75.98773</td></tr>\n",
       "\t<tr><td> 96.44583</td></tr>\n",
       "\t<tr><td>102.01063</td></tr>\n",
       "\t<tr><td>100.41817</td></tr>\n",
       "\t<tr><td>109.47033</td></tr>\n",
       "\t<tr><td>118.00079</td></tr>\n",
       "\t<tr><td>118.37337</td></tr>\n",
       "\t<tr><td>116.13132</td></tr>\n",
       "\t<tr><td>104.11460</td></tr>\n",
       "\t<tr><td> 91.99985</td></tr>\n",
       "\t<tr><td> 89.60123</td></tr>\n",
       "\t<tr><td> 84.58705</td></tr>\n",
       "\t<tr><td> 94.50620</td></tr>\n",
       "\t<tr><td> 94.81354</td></tr>\n",
       "\t<tr><td> 86.37121</td></tr>\n",
       "\t<tr><td> 93.96004</td></tr>\n",
       "\t<tr><td>102.17477</td></tr>\n",
       "\t<tr><td>107.55287</td></tr>\n",
       "\t<tr><td>104.06301</td></tr>\n",
       "\t<tr><td>111.40675</td></tr>\n",
       "\t<tr><td> 94.16480</td></tr>\n",
       "\t<tr><td> 89.46395</td></tr>\n",
       "\t<tr><td>101.07021</td></tr>\n",
       "\t<tr><td> 95.75946</td></tr>\n",
       "</tbody>\n",
       "</table>\n"
      ],
      "text/latex": [
       "\\begin{tabular}{r|l}\n",
       " Prodbebidas\\\\\n",
       "\\hline\n",
       "\t 62.55626\\\\\n",
       "\t 57.84550\\\\\n",
       "\t 60.69372\\\\\n",
       "\t 62.65435\\\\\n",
       "\t 62.31734\\\\\n",
       "\t 60.49615\\\\\n",
       "\t 60.16045\\\\\n",
       "\t 67.33102\\\\\n",
       "\t 66.58131\\\\\n",
       "\t 83.37684\\\\\n",
       "\t 82.94314\\\\\n",
       "\t 88.43612\\\\\n",
       "\t 62.56067\\\\\n",
       "\t 60.76872\\\\\n",
       "\t 63.89176\\\\\n",
       "\t 56.67937\\\\\n",
       "\t 58.01843\\\\\n",
       "\t 56.00493\\\\\n",
       "\t 62.18952\\\\\n",
       "\t 59.96014\\\\\n",
       "\t 64.55340\\\\\n",
       "\t 74.25945\\\\\n",
       "\t 73.53011\\\\\n",
       "\t 89.46737\\\\\n",
       "\t 64.98702\\\\\n",
       "\t 61.60299\\\\\n",
       "\t 63.94879\\\\\n",
       "\t 64.76350\\\\\n",
       "\t 60.49053\\\\\n",
       "\t 55.94533\\\\\n",
       "\t ...\\\\\n",
       "\t 107.33023\\\\\n",
       "\t 113.37001\\\\\n",
       "\t 105.18485\\\\\n",
       "\t  97.68750\\\\\n",
       "\t  77.95396\\\\\n",
       "\t  44.20794\\\\\n",
       "\t  75.98773\\\\\n",
       "\t  96.44583\\\\\n",
       "\t 102.01063\\\\\n",
       "\t 100.41817\\\\\n",
       "\t 109.47033\\\\\n",
       "\t 118.00079\\\\\n",
       "\t 118.37337\\\\\n",
       "\t 116.13132\\\\\n",
       "\t 104.11460\\\\\n",
       "\t  91.99985\\\\\n",
       "\t  89.60123\\\\\n",
       "\t  84.58705\\\\\n",
       "\t  94.50620\\\\\n",
       "\t  94.81354\\\\\n",
       "\t  86.37121\\\\\n",
       "\t  93.96004\\\\\n",
       "\t 102.17477\\\\\n",
       "\t 107.55287\\\\\n",
       "\t 104.06301\\\\\n",
       "\t 111.40675\\\\\n",
       "\t  94.16480\\\\\n",
       "\t  89.46395\\\\\n",
       "\t 101.07021\\\\\n",
       "\t  95.75946\\\\\n",
       "\\end{tabular}\n"
      ],
      "text/markdown": [
       "\n",
       "| Prodbebidas |\n",
       "|---|\n",
       "| 62.55626 |\n",
       "| 57.84550 |\n",
       "| 60.69372 |\n",
       "| 62.65435 |\n",
       "| 62.31734 |\n",
       "| 60.49615 |\n",
       "| 60.16045 |\n",
       "| 67.33102 |\n",
       "| 66.58131 |\n",
       "| 83.37684 |\n",
       "| 82.94314 |\n",
       "| 88.43612 |\n",
       "| 62.56067 |\n",
       "| 60.76872 |\n",
       "| 63.89176 |\n",
       "| 56.67937 |\n",
       "| 58.01843 |\n",
       "| 56.00493 |\n",
       "| 62.18952 |\n",
       "| 59.96014 |\n",
       "| 64.55340 |\n",
       "| 74.25945 |\n",
       "| 73.53011 |\n",
       "| 89.46737 |\n",
       "| 64.98702 |\n",
       "| 61.60299 |\n",
       "| 63.94879 |\n",
       "| 64.76350 |\n",
       "| 60.49053 |\n",
       "| 55.94533 |\n",
       "| ... |\n",
       "| 107.33023 |\n",
       "| 113.37001 |\n",
       "| 105.18485 |\n",
       "|  97.68750 |\n",
       "|  77.95396 |\n",
       "|  44.20794 |\n",
       "|  75.98773 |\n",
       "|  96.44583 |\n",
       "| 102.01063 |\n",
       "| 100.41817 |\n",
       "| 109.47033 |\n",
       "| 118.00079 |\n",
       "| 118.37337 |\n",
       "| 116.13132 |\n",
       "| 104.11460 |\n",
       "|  91.99985 |\n",
       "|  89.60123 |\n",
       "|  84.58705 |\n",
       "|  94.50620 |\n",
       "|  94.81354 |\n",
       "|  86.37121 |\n",
       "|  93.96004 |\n",
       "| 102.17477 |\n",
       "| 107.55287 |\n",
       "| 104.06301 |\n",
       "| 111.40675 |\n",
       "|  94.16480 |\n",
       "|  89.46395 |\n",
       "| 101.07021 |\n",
       "|  95.75946 |\n",
       "\n"
      ],
      "text/plain": [
       "    Prodbebidas\n",
       "1   62.55626   \n",
       "2   57.84550   \n",
       "3   60.69372   \n",
       "4   62.65435   \n",
       "5   62.31734   \n",
       "6   60.49615   \n",
       "7   60.16045   \n",
       "8   67.33102   \n",
       "9   66.58131   \n",
       "10  83.37684   \n",
       "11  82.94314   \n",
       "12  88.43612   \n",
       "13  62.56067   \n",
       "14  60.76872   \n",
       "15  63.89176   \n",
       "16  56.67937   \n",
       "17  58.01843   \n",
       "18  56.00493   \n",
       "19  62.18952   \n",
       "20  59.96014   \n",
       "21  64.55340   \n",
       "22  74.25945   \n",
       "23  73.53011   \n",
       "24  89.46737   \n",
       "25  64.98702   \n",
       "26  61.60299   \n",
       "27  63.94879   \n",
       "28  64.76350   \n",
       "29  60.49053   \n",
       "30  55.94533   \n",
       "... ...        \n",
       "215 107.33023  \n",
       "216 113.37001  \n",
       "217 105.18485  \n",
       "218  97.68750  \n",
       "219  77.95396  \n",
       "220  44.20794  \n",
       "221  75.98773  \n",
       "222  96.44583  \n",
       "223 102.01063  \n",
       "224 100.41817  \n",
       "225 109.47033  \n",
       "226 118.00079  \n",
       "227 118.37337  \n",
       "228 116.13132  \n",
       "229 104.11460  \n",
       "230  91.99985  \n",
       "231  89.60123  \n",
       "232  84.58705  \n",
       "233  94.50620  \n",
       "234  94.81354  \n",
       "235  86.37121  \n",
       "236  93.96004  \n",
       "237 102.17477  \n",
       "238 107.55287  \n",
       "239 104.06301  \n",
       "240 111.40675  \n",
       "241  94.16480  \n",
       "242  89.46395  \n",
       "243 101.07021  \n",
       "244  95.75946  "
      ]
     },
     "metadata": {},
     "output_type": "display_data"
    }
   ],
   "source": [
    "prodbebidas <- prodbebidas[2]\n",
    "prodbebidas"
   ]
  },
  {
   "cell_type": "code",
   "execution_count": null,
   "id": "ca245dbe",
   "metadata": {},
   "outputs": [],
   "source": [
    "prodbebidas_ts <- ts(data = prodbebidas,\n",
    "             start = c(2002, 1),\n",
    "             end = c(2022, 4),\n",
    "             frequency = 12)"
   ]
  },
  {
   "cell_type": "code",
   "execution_count": null,
   "id": "cfb37fd9",
   "metadata": {},
   "outputs": [],
   "source": [
    "prodbebidas_ts"
   ]
  },
  {
   "cell_type": "code",
   "execution_count": 172,
   "id": "a9083ba0",
   "metadata": {},
   "outputs": [
    {
     "data": {
      "text/html": [
       "244"
      ],
      "text/latex": [
       "244"
      ],
      "text/markdown": [
       "244"
      ],
      "text/plain": [
       "[1] 244"
      ]
     },
     "metadata": {},
     "output_type": "display_data"
    }
   ],
   "source": [
    "length(prodbebidas_ts)"
   ]
  },
  {
   "cell_type": "markdown",
   "id": "d895fa4f",
   "metadata": {},
   "source": [
    "### Separação do dataset para treinar e testar o modelo"
   ]
  },
  {
   "cell_type": "markdown",
   "id": "c556b965",
   "metadata": {},
   "source": [
    "#### Dados de treino"
   ]
  },
  {
   "cell_type": "code",
   "execution_count": 204,
   "id": "d08cbbcc",
   "metadata": {},
   "outputs": [],
   "source": [
    "prodbebidastreino <- window(prodbebidas_ts,start=c(2002,1), \n",
    "                     end=c(2021,4))\n"
   ]
  },
  {
   "cell_type": "code",
   "execution_count": 205,
   "id": "ebe3333b",
   "metadata": {},
   "outputs": [
    {
     "data": {
      "image/png": "[encoded data removed]",
      "text/plain": [
       "plot without title"
      ]
     },
     "metadata": {},
     "output_type": "display_data"
    }
   ],
   "source": [
    "plot(prodbebidastreino)"
   ]
  },
  {
   "cell_type": "code",
   "execution_count": 206,
   "id": "73f9b001",
   "metadata": {},
   "outputs": [
    {
     "data": {
      "text/html": [
       "232"
      ],
      "text/latex": [
       "232"
      ],
      "text/markdown": [
       "232"
      ],
      "text/plain": [
       "[1] 232"
      ]
     },
     "metadata": {},
     "output_type": "display_data"
    }
   ],
   "source": [
    "length(prodbebidastreino)"
   ]
  },
  {
   "cell_type": "markdown",
   "id": "164228da",
   "metadata": {},
   "source": [
    "#### Dados de teste"
   ]
  },
  {
   "cell_type": "code",
   "execution_count": 207,
   "id": "60a157f3",
   "metadata": {},
   "outputs": [],
   "source": [
    "prodbebidasteste <- window(prodbebidas_ts,start=c(2021,5), \n",
    "                     end=c(2022,4))"
   ]
  },
  {
   "cell_type": "code",
   "execution_count": 208,
   "id": "312baebb",
   "metadata": {},
   "outputs": [
    {
     "data": {
      "image/png": "[encoded data removed]",
      "text/plain": [
       "plot without title"
      ]
     },
     "metadata": {},
     "output_type": "display_data"
    }
   ],
   "source": [
    "plot(prodbebidasteste)"
   ]
  },
  {
   "cell_type": "code",
   "execution_count": 210,
   "id": "98c5be4a",
   "metadata": {},
   "outputs": [
    {
     "data": {
      "text/html": [
       "12"
      ],
      "text/latex": [
       "12"
      ],
      "text/markdown": [
       "12"
      ],
      "text/plain": [
       "[1] 12"
      ]
     },
     "metadata": {},
     "output_type": "display_data"
    }
   ],
   "source": [
    "length(prodbebidasteste)"
   ]
  },
  {
   "cell_type": "markdown",
   "id": "e08d545d",
   "metadata": {},
   "source": [
    "### Estimando o modelo ETS"
   ]
  },
  {
   "cell_type": "code",
   "execution_count": 211,
   "id": "3fd1e333",
   "metadata": {},
   "outputs": [
    {
     "name": "stdout",
     "output_type": "stream",
     "text": [
      "ETS(A,N,A) \n",
      "\n",
      "Call:\n",
      " ets(y = prodbebidastreino) \n",
      "\n",
      "  Smoothing parameters:\n",
      "    alpha = 0.5324 \n",
      "    gamma = 0.1855 \n",
      "\n",
      "  Initial states:\n",
      "    l = 68.3188 \n",
      "    s = 22.2949 11.6767 10.4517 0.0984 -2.9925 -7.4788\n",
      "           -10.2453 -6.8968 -6.2432 -3.005 -6.982 -0.678\n",
      "\n",
      "  sigma:  5.6518\n",
      "\n",
      "     AIC     AICc      BIC \n",
      "2082.839 2085.061 2134.540 \n",
      "\n",
      "Training set error measures:\n",
      "                    ME     RMSE      MAE         MPE     MAPE      MASE\n",
      "Training set 0.2423636 5.478619 3.752648 -0.02880651 4.494228 0.6607421\n",
      "                  ACF1\n",
      "Training set 0.1047277\n"
     ]
    }
   ],
   "source": [
    "prodbebidastreino.ets <- ets(prodbebidastreino)\n",
    "summary(prodbebidastreino.ets)"
   ]
  },
  {
   "cell_type": "markdown",
   "id": "aa03ba04",
   "metadata": {},
   "source": [
    "###### pelo modelo é possível perceber que tem sasionalidade aditiva"
   ]
  },
  {
   "cell_type": "markdown",
   "id": "2f5c3709",
   "metadata": {},
   "source": [
    "### Fazendo previsão para os 12 períodos da base de teste"
   ]
  },
  {
   "cell_type": "code",
   "execution_count": 221,
   "id": "0f43e3a7",
   "metadata": {},
   "outputs": [
    {
     "name": "stdout",
     "output_type": "stream",
     "text": [
      "\n",
      "Forecast method: ETS(A,N,A)\n",
      "\n",
      "Model Information:\n",
      "ETS(A,N,A) \n",
      "\n",
      "Call:\n",
      " ets(y = prodbebidastreino) \n",
      "\n",
      "  Smoothing parameters:\n",
      "    alpha = 0.5324 \n",
      "    gamma = 0.1855 \n",
      "\n",
      "  Initial states:\n",
      "    l = 68.3188 \n",
      "    s = 22.2949 11.6767 10.4517 0.0984 -2.9925 -7.4788\n",
      "           -10.2453 -6.8968 -6.2432 -3.005 -6.982 -0.678\n",
      "\n",
      "  sigma:  5.6518\n",
      "\n",
      "     AIC     AICc      BIC \n",
      "2082.839 2085.061 2134.540 \n",
      "\n",
      "Error measures:\n",
      "                    ME     RMSE      MAE         MPE     MAPE      MASE\n",
      "Training set 0.2423636 5.478619 3.752648 -0.02880651 4.494228 0.6607421\n",
      "                  ACF1\n",
      "Training set 0.1047277\n",
      "\n",
      "Forecasts:\n",
      "         Point Forecast     Lo 80     Hi 80    Lo 95    Hi 95\n",
      "May 2021       91.68192  84.43884  98.92499 80.60459 102.7592\n",
      "Jun 2021       95.22489  87.01919 103.43060 82.67535 107.7744\n",
      "Jul 2021       94.00474  84.93804 103.07144 80.13842 107.8711\n",
      "Aug 2021       95.38278  85.53005 105.23552 80.31432 110.4512\n",
      "Sep 2021      100.58180  90.00126 111.16235 84.40026 116.7633\n",
      "Oct 2021      109.23093  97.96952 120.49234 92.00809 126.4538\n",
      "Nov 2021      110.04264  98.13924 121.94603 91.83797 128.2473\n",
      "Dec 2021      116.56363 104.05114 129.07611 97.42744 135.6998\n",
      "Jan 2022      106.04728  92.95401 119.14055 86.02286 126.0717\n",
      "Feb 2022       94.99386  81.34450 108.64322 74.11896 115.8688\n",
      "Mar 2022       92.56915  78.38548 106.75283 70.87710 114.2612\n",
      "Apr 2022       83.17693  68.07010  98.28376 60.07303 106.2808\n"
     ]
    }
   ],
   "source": [
    "prodbebidas.ets.forescasts <- forecast.ets(prodbebidastreino.ets, h=12)\n",
    "summary(prodbebidas.ets.forescasts)"
   ]
  },
  {
   "cell_type": "markdown",
   "id": "05b0c14d",
   "metadata": {},
   "source": [
    "### Plotando gráfico com as previsões"
   ]
  },
  {
   "cell_type": "code",
   "execution_count": 231,
   "id": "2c1c31c1",
   "metadata": {},
   "outputs": [
    {
     "data": {
      "image/png": "[encoded data removed]",
      "text/plain": [
       "plot without title"
      ]
     },
     "metadata": {},
     "output_type": "display_data"
    },
    {
     "data": {
      "image/png": "[encoded data removed]",
      "text/plain": [
       "plot without title"
      ]
     },
     "metadata": {},
     "output_type": "display_data"
    }
   ],
   "source": [
    "autoplot(prodbebidas.ets.forescasts)\n",
    "\n",
    "plot(\n",
    "  autoplot(prodbebidastreino)+\n",
    "    autolayer(prodbebidasteste,serie=\"Valores Reais\")+\n",
    "    autolayer(prodbebidas.ets.forescasts$mean, serie=\"Forecast\")+\n",
    "    scale_colour_viridis_d()+\n",
    "    scale_y_continuous(labels=scales::comma)+\n",
    "    theme_bw()\n",
    ")"
   ]
  },
  {
   "cell_type": "markdown",
   "id": "386134be",
   "metadata": {},
   "source": [
    "##### Graficamente a previsão ficou um relativamente aproximada ao valor real, iremos ver se estatísticamente também."
   ]
  },
  {
   "cell_type": "markdown",
   "id": "126b88ec",
   "metadata": {},
   "source": [
    "### Gerando objetos para plotagem conjunta"
   ]
  },
  {
   "cell_type": "markdown",
   "id": "4b215199",
   "metadata": {},
   "source": [
    "#### Acurácia na base de teste"
   ]
  },
  {
   "cell_type": "code",
   "execution_count": 232,
   "id": "7d1cfbdb",
   "metadata": {},
   "outputs": [
    {
     "data": {
      "text/html": [
       "<table>\n",
       "<thead><tr><th></th><th scope=col>ME</th><th scope=col>RMSE</th><th scope=col>MAE</th><th scope=col>MPE</th><th scope=col>MAPE</th><th scope=col>ACF1</th><th scope=col>Theil's U</th></tr></thead>\n",
       "<tbody>\n",
       "\t<tr><th scope=row>Test set</th><td>-1.182813</td><td>6.69891  </td><td>5.432951 </td><td>-1.285254</td><td>5.634968 </td><td>0.3820066</td><td>0.8175471</td></tr>\n",
       "</tbody>\n",
       "</table>\n"
      ],
      "text/latex": [
       "\\begin{tabular}{r|lllllll}\n",
       "  & ME & RMSE & MAE & MPE & MAPE & ACF1 & Theil's U\\\\\n",
       "\\hline\n",
       "\tTest set & -1.182813 & 6.69891   & 5.432951  & -1.285254 & 5.634968  & 0.3820066 & 0.8175471\\\\\n",
       "\\end{tabular}\n"
      ],
      "text/markdown": [
       "\n",
       "| <!--/--> | ME | RMSE | MAE | MPE | MAPE | ACF1 | Theil's U |\n",
       "|---|---|---|---|---|---|---|---|\n",
       "| Test set | -1.182813 | 6.69891   | 5.432951  | -1.285254 | 5.634968  | 0.3820066 | 0.8175471 |\n",
       "\n"
      ],
      "text/plain": [
       "         ME        RMSE    MAE      MPE       MAPE     ACF1      Theil's U\n",
       "Test set -1.182813 6.69891 5.432951 -1.285254 5.634968 0.3820066 0.8175471"
      ]
     },
     "metadata": {},
     "output_type": "display_data"
    }
   ],
   "source": [
    "accuracy(prodbebidas.ets.forescasts$mean,prodbebidasteste)"
   ]
  },
  {
   "cell_type": "markdown",
   "id": "d1509d56",
   "metadata": {},
   "source": [
    "Ao avaliar os resíduos percebemos uma porcentagem de erro alta."
   ]
  },
  {
   "cell_type": "markdown",
   "id": "27b445be",
   "metadata": {},
   "source": [
    "#### Plotagem dos resíduos da estimativa"
   ]
  },
  {
   "cell_type": "code",
   "execution_count": 234,
   "id": "38934182",
   "metadata": {},
   "outputs": [
    {
     "data": {
      "image/png": "[encoded data removed]",
      "text/plain": [
       "plot without title"
      ]
     },
     "metadata": {},
     "output_type": "display_data"
    }
   ],
   "source": [
    "autoplot(prodbebidastreino.ets$residuals)"
   ]
  },
  {
   "cell_type": "markdown",
   "id": "6bab2f29",
   "metadata": {},
   "source": [
    "##### A maior variação ocorre no período de 2020, que talvez possa ser justificada pelo período de pandemia"
   ]
  },
  {
   "cell_type": "markdown",
   "id": "38127226",
   "metadata": {},
   "source": [
    "#### Plotando a função de autocorrelação da estimativa"
   ]
  },
  {
   "cell_type": "code",
   "execution_count": 248,
   "id": "d80a3774",
   "metadata": {},
   "outputs": [
    {
     "data": {
      "image/png": "[encoded data removed]",
      "text/plain": [
       "Plot with title \"Series  prodbebidastreino.ets$residuals\""
      ]
     },
     "metadata": {},
     "output_type": "display_data"
    }
   ],
   "source": [
    "acf(prodbebidastreino.ets$residuals)"
   ]
  },
  {
   "cell_type": "markdown",
   "id": "5995d32d",
   "metadata": {},
   "source": [
    "##### Pelo gráfico pode-se deduzir que a variação dos resíduos é de lag 1."
   ]
  },
  {
   "cell_type": "markdown",
   "id": "a41fd2a3",
   "metadata": {},
   "source": [
    "####  Teste de Ljung-box"
   ]
  },
  {
   "cell_type": "code",
   "execution_count": 236,
   "id": "6056549a",
   "metadata": {},
   "outputs": [
    {
     "data": {
      "text/plain": [
       "\n",
       "\tBox-Ljung test\n",
       "\n",
       "data:  prodbebidastreino.ets$residuals\n",
       "X-squared = 2.5776, df = 1, p-value = 0.1084\n"
      ]
     },
     "metadata": {},
     "output_type": "display_data"
    }
   ],
   "source": [
    "Box.test(prodbebidastreino.ets$residuals, lag=1,\n",
    "         type=c(\"Ljung-Box\"))"
   ]
  },
  {
   "cell_type": "markdown",
   "id": "2ffbe983",
   "metadata": {},
   "source": [
    "#### como p-value > 0.05, podemos concluir que os resíduos são iid, ou seja o modelo não exibe falhas de ajuste."
   ]
  },
  {
   "cell_type": "markdown",
   "id": "8f6807d1",
   "metadata": {},
   "source": [
    "## ARIMA OU SARIMA (verificar se existe sazonalidade ou não e decidir qual modelo é mais adequado);"
   ]
  },
  {
   "cell_type": "markdown",
   "id": "90e3da87",
   "metadata": {},
   "source": [
    "### Usando ETS para verificar sazonalidade"
   ]
  },
  {
   "cell_type": "code",
   "execution_count": 241,
   "id": "fe7d2c29",
   "metadata": {},
   "outputs": [
    {
     "name": "stdout",
     "output_type": "stream",
     "text": [
      "ETS(A,N,A) \n",
      "\n",
      "Call:\n",
      " ets(y = prodbebidas_ts) \n",
      "\n",
      "  Smoothing parameters:\n",
      "    alpha = 0.3763 \n",
      "    gamma = 2e-04 \n",
      "\n",
      "  Initial states:\n",
      "    l = 71.3083 \n",
      "    s = 20.561 11.3803 10.1487 2.104 -2.6227 -7.781\n",
      "           -9.5055 -8.0437 -10.4038 -2.7043 -5.6323 2.4994\n",
      "\n",
      "  sigma:  5.6966\n",
      "\n",
      "     AIC     AICc      BIC \n",
      "2205.945 2208.051 2258.403 \n",
      "\n",
      "Training set error measures:\n",
      "                    ME     RMSE      MAE         MPE     MAPE      MASE\n",
      "Training set 0.3215948 5.530732 3.736095 -0.01695785 4.456926 0.6356366\n",
      "                  ACF1\n",
      "Training set 0.2331474\n"
     ]
    }
   ],
   "source": [
    "prodbebidas_ts.ets <- ets(prodbebidas_ts)\n",
    "summary(prodbebidas_ts.ets)"
   ]
  },
  {
   "cell_type": "markdown",
   "id": "6ed6db8b",
   "metadata": {},
   "source": [
    "##### O ETS indica sazonalidade, vamos plotar gráfico com dados de treino e teste para comparar"
   ]
  },
  {
   "cell_type": "markdown",
   "id": "078abcea",
   "metadata": {},
   "source": [
    "### Plotando séries de treino e teste juntas para checagem"
   ]
  },
  {
   "cell_type": "code",
   "execution_count": 242,
   "id": "b52a4b4f",
   "metadata": {},
   "outputs": [
    {
     "data": {
      "image/png": "[encoded data removed]",
      "text/plain": [
       "plot without title"
      ]
     },
     "metadata": {},
     "output_type": "display_data"
    }
   ],
   "source": [
    "autoplot(prodbebidas_ts) +\n",
    "  autolayer(prodbebidastreino, series=\"Treino\") +\n",
    "  autolayer(prodbebidasteste, series=\"Teste\") +\n",
    "  scale_color_viridis_d() +\n",
    "  theme_bw()"
   ]
  },
  {
   "cell_type": "markdown",
   "id": "5dbe93a8",
   "metadata": {},
   "source": [
    "### Análise da Série"
   ]
  },
  {
   "cell_type": "code",
   "execution_count": 244,
   "id": "72ebba15",
   "metadata": {},
   "outputs": [
    {
     "data": {
      "image/png": "[encoded data removed]",
      "text/plain": [
       "plot without title"
      ]
     },
     "metadata": {},
     "output_type": "display_data"
    }
   ],
   "source": [
    "ggtsdisplay(prodbebidastreino)"
   ]
  },
  {
   "cell_type": "markdown",
   "id": "ee0d88c6",
   "metadata": {},
   "source": [
    "##### O gráfico de análise indica uma possível sazonalidade."
   ]
  },
  {
   "cell_type": "markdown",
   "id": "be6fad07",
   "metadata": {},
   "source": [
    "### O modelo SARiMA é o mais adequado."
   ]
  },
  {
   "cell_type": "markdown",
   "id": "baffb1a1",
   "metadata": {},
   "source": [
    "### Verificar se a série é estacionária usando Teste de Dickey-Fuller"
   ]
  },
  {
   "cell_type": "markdown",
   "id": "1afe330b",
   "metadata": {},
   "source": [
    "#### ==> none"
   ]
  },
  {
   "cell_type": "code",
   "execution_count": 251,
   "id": "1edc28d3",
   "metadata": {},
   "outputs": [
    {
     "data": {
      "text/plain": [
       "\n",
       "############################################### \n",
       "# Augmented Dickey-Fuller Test Unit Root Test # \n",
       "############################################### \n",
       "\n",
       "Test regression none \n",
       "\n",
       "\n",
       "Call:\n",
       "lm(formula = z.diff ~ z.lag.1 - 1 + z.diff.lag)\n",
       "\n",
       "Residuals:\n",
       "    Min      1Q  Median      3Q     Max \n",
       "-33.811  -3.887   1.481   6.293  31.299 \n",
       "\n",
       "Coefficients:\n",
       "            Estimate Std. Error t value Pr(>|t|)\n",
       "z.lag.1    -0.004159   0.006839  -0.608    0.544\n",
       "z.diff.lag -0.019705   0.066291  -0.297    0.767\n",
       "\n",
       "Residual standard error: 9.254 on 228 degrees of freedom\n",
       "Multiple R-squared:  0.002112,\tAdjusted R-squared:  -0.006641 \n",
       "F-statistic: 0.2413 on 2 and 228 DF,  p-value: 0.7858\n",
       "\n",
       "\n",
       "Value of test-statistic is: -0.6081 \n",
       "\n",
       "Critical values for test statistics: \n",
       "      1pct  5pct 10pct\n",
       "tau1 -2.58 -1.95 -1.62\n"
      ]
     },
     "metadata": {},
     "output_type": "display_data"
    }
   ],
   "source": [
    "prodbebidastreinoadf=ur.df(prodbebidastreino, selectlags = 'BIC',\n",
    "                      type = 'none')\n",
    "summary(prodbebidastreinoadf)"
   ]
  },
  {
   "cell_type": "markdown",
   "id": "f5bc233f",
   "metadata": {},
   "source": [
    "##### z.lag.1 > 0.05 indica ser estacionária."
   ]
  },
  {
   "cell_type": "markdown",
   "id": "c7f79af2",
   "metadata": {},
   "source": [
    "#### ==> drift"
   ]
  },
  {
   "cell_type": "code",
   "execution_count": 252,
   "id": "39040d38",
   "metadata": {},
   "outputs": [
    {
     "data": {
      "text/plain": [
       "\n",
       "############################################### \n",
       "# Augmented Dickey-Fuller Test Unit Root Test # \n",
       "############################################### \n",
       "\n",
       "Test regression drift \n",
       "\n",
       "\n",
       "Call:\n",
       "lm(formula = z.diff ~ z.lag.1 + 1 + z.diff.lag)\n",
       "\n",
       "Residuals:\n",
       "    Min      1Q  Median      3Q     Max \n",
       "-34.393  -5.189   0.232   5.808  25.665 \n",
       "\n",
       "Coefficients:\n",
       "            Estimate Std. Error t value Pr(>|t|)    \n",
       "(Intercept) 16.92751    3.43523   4.928 1.60e-06 ***\n",
       "z.lag.1     -0.19112    0.03850  -4.965 1.35e-06 ***\n",
       "z.diff.lag   0.07004    0.06572   1.066    0.288    \n",
       "---\n",
       "Signif. codes:  0 '***' 0.001 '**' 0.01 '*' 0.05 '.' 0.1 ' ' 1\n",
       "\n",
       "Residual standard error: 8.815 on 227 degrees of freedom\n",
       "Multiple R-squared:  0.0984,\tAdjusted R-squared:  0.09045 \n",
       "F-statistic: 12.39 on 2 and 227 DF,  p-value: 7.84e-06\n",
       "\n",
       "\n",
       "Value of test-statistic is: -4.9646 12.3445 \n",
       "\n",
       "Critical values for test statistics: \n",
       "      1pct  5pct 10pct\n",
       "tau2 -3.46 -2.88 -2.57\n",
       "phi1  6.52  4.63  3.81\n"
      ]
     },
     "metadata": {},
     "output_type": "display_data"
    }
   ],
   "source": [
    "prodbebidastreinoadf=ur.df(prodbebidastreino, selectlags = 'BIC',\n",
    "                      type = 'drift')\n",
    "summary(prodbebidastreinoadf)"
   ]
  },
  {
   "cell_type": "markdown",
   "id": "d46b8bbd",
   "metadata": {},
   "source": [
    "##### z.lag.1 < 0.05 indica não ser estacionária"
   ]
  },
  {
   "cell_type": "markdown",
   "id": "f1090c0c",
   "metadata": {},
   "source": [
    "#### ==> trend"
   ]
  },
  {
   "cell_type": "code",
   "execution_count": 253,
   "id": "3779a3be",
   "metadata": {},
   "outputs": [
    {
     "data": {
      "text/plain": [
       "\n",
       "############################################### \n",
       "# Augmented Dickey-Fuller Test Unit Root Test # \n",
       "############################################### \n",
       "\n",
       "Test regression trend \n",
       "\n",
       "\n",
       "Call:\n",
       "lm(formula = z.diff ~ z.lag.1 + 1 + tt + z.diff.lag)\n",
       "\n",
       "Residuals:\n",
       "    Min      1Q  Median      3Q     Max \n",
       "-38.441  -5.304   0.145   5.314  21.379 \n",
       "\n",
       "Coefficients:\n",
       "            Estimate Std. Error t value Pr(>|t|)    \n",
       "(Intercept) 22.13487    3.64273   6.076 5.17e-09 ***\n",
       "z.lag.1     -0.30345    0.04867  -6.235 2.19e-09 ***\n",
       "tt           0.04009    0.01107   3.622 0.000361 ***\n",
       "z.diff.lag   0.12996    0.06613   1.965 0.050635 .  \n",
       "---\n",
       "Signif. codes:  0 '***' 0.001 '**' 0.01 '*' 0.05 '.' 0.1 ' ' 1\n",
       "\n",
       "Residual standard error: 8.588 on 226 degrees of freedom\n",
       "Multiple R-squared:  0.1479,\tAdjusted R-squared:  0.1366 \n",
       "F-statistic: 13.07 on 3 and 226 DF,  p-value: 6.659e-08\n",
       "\n",
       "\n",
       "Value of test-statistic is: -6.2351 13.0424 19.5416 \n",
       "\n",
       "Critical values for test statistics: \n",
       "      1pct  5pct 10pct\n",
       "tau3 -3.99 -3.43 -3.13\n",
       "phi2  6.22  4.75  4.07\n",
       "phi3  8.43  6.49  5.47\n"
      ]
     },
     "metadata": {},
     "output_type": "display_data"
    }
   ],
   "source": [
    "prodbebidastreinoadf=ur.df(prodbebidastreino, selectlags = 'BIC',\n",
    "                      type = 'trend')\n",
    "summary(prodbebidastreinoadf)"
   ]
  },
  {
   "cell_type": "markdown",
   "id": "fba14234",
   "metadata": {},
   "source": [
    "##### z.lag.1 < 0.05 indica não ser estacionária"
   ]
  },
  {
   "cell_type": "markdown",
   "id": "b2a99870",
   "metadata": {},
   "source": [
    "#### Não temos certeza se a série é estacionária ou não, os ADF tiveram resultados diferentes.\n",
    "\n",
    "#### Vamos ver o que a rotina de detecção de diferenciações nos diz."
   ]
  },
  {
   "cell_type": "markdown",
   "id": "c16777f5",
   "metadata": {},
   "source": [
    "### Detecção de diferenciações"
   ]
  },
  {
   "cell_type": "code",
   "execution_count": 254,
   "id": "1c8f75da",
   "metadata": {},
   "outputs": [
    {
     "data": {
      "text/html": [
       "1"
      ],
      "text/latex": [
       "1"
      ],
      "text/markdown": [
       "1"
      ],
      "text/plain": [
       "[1] 1"
      ]
     },
     "metadata": {},
     "output_type": "display_data"
    }
   ],
   "source": [
    "ndiffs(prodbebidastreino)"
   ]
  },
  {
   "cell_type": "markdown",
   "id": "f261e0bf",
   "metadata": {},
   "source": [
    "##### A série é não estácionária"
   ]
  },
  {
   "cell_type": "code",
   "execution_count": 257,
   "id": "3bf9c49d",
   "metadata": {},
   "outputs": [],
   "source": [
    "### Confirmando a detecção de diferenciações"
   ]
  },
  {
   "cell_type": "code",
   "execution_count": 255,
   "id": "78e3dff3",
   "metadata": {},
   "outputs": [
    {
     "data": {
      "image/png": "[encoded data removed]",
      "text/plain": [
       "plot without title"
      ]
     },
     "metadata": {},
     "output_type": "display_data"
    }
   ],
   "source": [
    "difprodbebidastreino = diff(prodbebidastreino)\n",
    "ggtsdisplay(difprodbebidastreino)"
   ]
  },
  {
   "cell_type": "code",
   "execution_count": 256,
   "id": "78437a0f",
   "metadata": {},
   "outputs": [
    {
     "data": {
      "text/plain": [
       "\n",
       "############################################### \n",
       "# Augmented Dickey-Fuller Test Unit Root Test # \n",
       "############################################### \n",
       "\n",
       "Test regression none \n",
       "\n",
       "\n",
       "Call:\n",
       "lm(formula = z.diff ~ z.lag.1 - 1 + z.diff.lag)\n",
       "\n",
       "Residuals:\n",
       "    Min      1Q  Median      3Q     Max \n",
       "-34.409  -4.185   1.160   6.003  30.439 \n",
       "\n",
       "Coefficients:\n",
       "           Estimate Std. Error t value Pr(>|t|)    \n",
       "z.lag.1    -1.05217    0.09491 -11.086   <2e-16 ***\n",
       "z.diff.lag  0.02993    0.06635   0.451    0.652    \n",
       "---\n",
       "Signif. codes:  0 '***' 0.001 '**' 0.01 '*' 0.05 '.' 0.1 ' ' 1\n",
       "\n",
       "Residual standard error: 9.276 on 227 degrees of freedom\n",
       "Multiple R-squared:  0.511,\tAdjusted R-squared:  0.5067 \n",
       "F-statistic: 118.6 on 2 and 227 DF,  p-value: < 2.2e-16\n",
       "\n",
       "\n",
       "Value of test-statistic is: -11.0857 \n",
       "\n",
       "Critical values for test statistics: \n",
       "      1pct  5pct 10pct\n",
       "tau1 -2.58 -1.95 -1.62\n"
      ]
     },
     "metadata": {},
     "output_type": "display_data"
    }
   ],
   "source": [
    "prodbebidastreinoadfdif = ur.df(difprodbebidastreino, type = 'none',\n",
    "                         selectlags = 'BIC')\n",
    "summary(prodbebidastreinoadfdif)"
   ]
  },
  {
   "cell_type": "code",
   "execution_count": 258,
   "id": "02e51171",
   "metadata": {},
   "outputs": [
    {
     "data": {
      "text/plain": [
       "\n",
       "############################################### \n",
       "# Augmented Dickey-Fuller Test Unit Root Test # \n",
       "############################################### \n",
       "\n",
       "Test regression drift \n",
       "\n",
       "\n",
       "Call:\n",
       "lm(formula = z.diff ~ z.lag.1 + 1 + z.diff.lag)\n",
       "\n",
       "Residuals:\n",
       "    Min      1Q  Median      3Q     Max \n",
       "-34.526  -4.295   1.050   5.894  30.318 \n",
       "\n",
       "Coefficients:\n",
       "            Estimate Std. Error t value Pr(>|t|)    \n",
       "(Intercept)  0.11132    0.61439   0.181    0.856    \n",
       "z.lag.1     -1.05253    0.09514 -11.063   <2e-16 ***\n",
       "z.diff.lag   0.03010    0.06649   0.453    0.651    \n",
       "---\n",
       "Signif. codes:  0 '***' 0.001 '**' 0.01 '*' 0.05 '.' 0.1 ' ' 1\n",
       "\n",
       "Residual standard error: 9.295 on 226 degrees of freedom\n",
       "Multiple R-squared:  0.5111,\tAdjusted R-squared:  0.5067 \n",
       "F-statistic: 118.1 on 2 and 226 DF,  p-value: < 2.2e-16\n",
       "\n",
       "\n",
       "Value of test-statistic is: -11.0634 61.201 \n",
       "\n",
       "Critical values for test statistics: \n",
       "      1pct  5pct 10pct\n",
       "tau2 -3.46 -2.88 -2.57\n",
       "phi1  6.52  4.63  3.81\n"
      ]
     },
     "metadata": {},
     "output_type": "display_data"
    }
   ],
   "source": [
    "prodbebidastreinoadfdif = ur.df(difprodbebidastreino, type = 'drift',\n",
    "                         selectlags = 'BIC')\n",
    "summary(prodbebidastreinoadfdif)"
   ]
  },
  {
   "cell_type": "markdown",
   "id": "f27faedd",
   "metadata": {},
   "source": [
    "### Detectando sazonalidade e tratando modelo usando auto.arima"
   ]
  },
  {
   "cell_type": "code",
   "execution_count": 259,
   "id": "3ecaa5d2",
   "metadata": {},
   "outputs": [
    {
     "name": "stdout",
     "output_type": "stream",
     "text": [
      "\n",
      " Fitting models using approximations to speed things up...\n",
      "\n",
      " ARIMA(2,0,2)(1,1,1)[12] with drift         : 1333.728\n",
      " ARIMA(0,0,0)(0,1,0)[12] with drift         : 1469.595\n",
      " ARIMA(1,0,0)(1,1,0)[12] with drift         : 1361.981\n",
      " ARIMA(0,0,1)(0,1,1)[12] with drift         : 1378.039\n",
      " ARIMA(0,0,0)(0,1,0)[12]                    : 1479.418\n",
      " ARIMA(2,0,2)(0,1,1)[12] with drift         : 1332.551\n",
      " ARIMA(2,0,2)(0,1,0)[12] with drift         : 1418.309\n",
      " ARIMA(2,0,2)(0,1,2)[12] with drift         : 1332.972\n",
      " ARIMA(2,0,2)(1,1,0)[12] with drift         : 1359.787\n",
      " ARIMA(2,0,2)(1,1,2)[12] with drift         : 1335.388\n",
      " ARIMA(1,0,2)(0,1,1)[12] with drift         : 1332.054\n",
      " ARIMA(1,0,2)(0,1,0)[12] with drift         : 1415.699\n",
      " ARIMA(1,0,2)(1,1,1)[12] with drift         : 1331.24\n",
      " ARIMA(1,0,2)(1,1,0)[12] with drift         : 1359.318\n",
      " ARIMA(1,0,2)(2,1,1)[12] with drift         : 1331.14\n",
      " ARIMA(1,0,2)(2,1,0)[12] with drift         : 1333.754\n",
      " ARIMA(1,0,2)(2,1,2)[12] with drift         : 1329.806\n",
      " ARIMA(1,0,2)(1,1,2)[12] with drift         : 1333.162\n",
      " ARIMA(0,0,2)(2,1,2)[12] with drift         : 1367.643\n",
      " ARIMA(1,0,1)(2,1,2)[12] with drift         : 1348.304\n",
      " ARIMA(2,0,2)(2,1,2)[12] with drift         : 1332.38\n",
      " ARIMA(1,0,3)(2,1,2)[12] with drift         : 1330.356\n",
      " ARIMA(0,0,1)(2,1,2)[12] with drift         : 1378.058\n",
      " ARIMA(0,0,3)(2,1,2)[12] with drift         : 1362.994\n",
      " ARIMA(2,0,1)(2,1,2)[12] with drift         : 1336.933\n",
      " ARIMA(2,0,3)(2,1,2)[12] with drift         : 1332.79\n",
      " ARIMA(1,0,2)(2,1,2)[12]                    : 1327.801\n",
      " ARIMA(1,0,2)(1,1,2)[12]                    : Inf\n",
      " ARIMA(1,0,2)(2,1,1)[12]                    : 1329.164\n",
      " ARIMA(1,0,2)(1,1,1)[12]                    : 1329.363\n",
      " ARIMA(0,0,2)(2,1,2)[12]                    : 1378.698\n",
      " ARIMA(1,0,1)(2,1,2)[12]                    : 1353.626\n",
      " ARIMA(2,0,2)(2,1,2)[12]                    : 1330.579\n",
      " ARIMA(1,0,3)(2,1,2)[12]                    : 1328.304\n",
      " ARIMA(0,0,1)(2,1,2)[12]                    : 1391.541\n",
      " ARIMA(0,0,3)(2,1,2)[12]                    : 1372.243\n",
      " ARIMA(2,0,1)(2,1,2)[12]                    : 1335.41\n",
      " ARIMA(2,0,3)(2,1,2)[12]                    : 1330.864\n",
      "\n",
      " Now re-fitting the best model(s) without approximations...\n",
      "\n",
      " ARIMA(1,0,2)(2,1,2)[12]                    : 1375.786\n",
      "\n",
      " Best model: ARIMA(1,0,2)(2,1,2)[12]                    \n",
      "\n"
     ]
    }
   ],
   "source": [
    "arimaprodbebidas = auto.arima(prodbebidastreino, trace=T)"
   ]
  },
  {
   "cell_type": "markdown",
   "id": "204513fe",
   "metadata": {},
   "source": [
    "### Checando resíduos com teste de Ljung-box"
   ]
  },
  {
   "cell_type": "code",
   "execution_count": 260,
   "id": "b948d2c0",
   "metadata": {},
   "outputs": [
    {
     "name": "stdout",
     "output_type": "stream",
     "text": [
      "\n",
      "\tLjung-Box test\n",
      "\n",
      "data:  Residuals from ARIMA(1,0,2)(2,1,2)[12]\n",
      "Q* = 34.597, df = 17, p-value = 0.007024\n",
      "\n",
      "Model df: 7.   Total lags used: 24\n",
      "\n"
     ]
    },
    {
     "data": {
      "image/png": "[encoded data removed]",
      "text/plain": [
       "plot without title"
      ]
     },
     "metadata": {},
     "output_type": "display_data"
    }
   ],
   "source": [
    "checkresiduals(arimaprodbebidas)"
   ]
  },
  {
   "cell_type": "markdown",
   "id": "1ee2cdca",
   "metadata": {},
   "source": [
    "##### p-value = 0.007024<0.05, rejeitamos H0, resíduos são correlacionados. Ou seja o modelo possui falhas de ajustamento"
   ]
  },
  {
   "cell_type": "markdown",
   "id": "510372ea",
   "metadata": {},
   "source": [
    "### Checando normalidade dos resíduos"
   ]
  },
  {
   "cell_type": "code",
   "execution_count": 262,
   "id": "8e5c4e34",
   "metadata": {},
   "outputs": [
    {
     "data": {
      "text/plain": [
       "\n",
       "\tOne-sample Kolmogorov-Smirnov test\n",
       "\n",
       "data:  arimaprodbebidas$residuals\n",
       "D = 0.067978, p-value = 0.234\n",
       "alternative hypothesis: two-sided\n"
      ]
     },
     "metadata": {},
     "output_type": "display_data"
    }
   ],
   "source": [
    "ks.test(arimaprodbebidas$residuals, \"pnorm\", mean(arimaprodbebidas$residuals),\n",
    "        sd(arimaprodbebidas$residuals))"
   ]
  },
  {
   "cell_type": "markdown",
   "id": "ea97a230",
   "metadata": {},
   "source": [
    "##### p-valor = 0.234 > 0.05 - Aceita H0, ou seja, resíduos normais"
   ]
  },
  {
   "cell_type": "markdown",
   "id": "ab0867dc",
   "metadata": {},
   "source": [
    "#### Os resultados indicam auto-correlação e não normalidade dos resíduos, o ideal é que não tenha auto-correlação, todavia a fim de avaliar os resultados que obteremos vamos continuar assim."
   ]
  },
  {
   "cell_type": "markdown",
   "id": "228b9163",
   "metadata": {},
   "source": [
    "### Verificando se existe efeitos ARCH"
   ]
  },
  {
   "cell_type": "code",
   "execution_count": 270,
   "id": "0d25bbed",
   "metadata": {},
   "outputs": [
    {
     "data": {
      "text/plain": [
       "\n",
       "\tARCH LM-test; Null hypothesis: no ARCH effects\n",
       "\n",
       "data:  arimaprodbebidas$residuals\n",
       "Chi-squared = 31.514, df = 12, p-value = 0.001644\n"
      ]
     },
     "metadata": {},
     "output_type": "display_data"
    }
   ],
   "source": [
    "library(\"FinTS\")\n",
    "ArchTest(arimaprodbebidas$residuals)"
   ]
  },
  {
   "cell_type": "markdown",
   "id": "b48b395c",
   "metadata": {},
   "source": [
    "##### p-valor 0.001644 < 0.05, rejeita-se H0 supõe a existência de efeitos ARCH (heterocedasticidade)"
   ]
  },
  {
   "cell_type": "markdown",
   "id": "6ee64e12",
   "metadata": {},
   "source": [
    "### Previsão para a série de produção de bebidas"
   ]
  },
  {
   "cell_type": "code",
   "execution_count": 271,
   "id": "3ae5eac6",
   "metadata": {},
   "outputs": [],
   "source": [
    "prevprodbebidas=forecast::forecast(arimaprodbebidas, h=12)"
   ]
  },
  {
   "cell_type": "markdown",
   "id": "04bfa43e",
   "metadata": {},
   "source": [
    "### Observando valores da previsão"
   ]
  },
  {
   "cell_type": "code",
   "execution_count": 272,
   "id": "02a7ada6",
   "metadata": {},
   "outputs": [
    {
     "data": {
      "text/plain": [
       "         Point Forecast     Lo 80     Hi 80     Lo 95     Hi 95\n",
       "May 2021       85.79982  79.06923  92.53040  75.50627  96.09336\n",
       "Jun 2021       97.11409  89.48287 104.74532  85.44314 108.78505\n",
       "Jul 2021       98.38603  90.63347 106.13859  86.52952 110.24255\n",
       "Aug 2021       97.83107  89.96183 105.70031  85.79611 109.86603\n",
       "Sep 2021       99.41268  91.43116 107.39421  87.20600 111.61937\n",
       "Oct 2021      109.70548 101.61581 117.79515  97.33340 122.07756\n",
       "Nov 2021      110.27721 102.08332 118.47110  97.74573 122.80869\n",
       "Dec 2021      115.19485 106.90045 123.48924 102.50967 127.88003\n",
       "Jan 2022      107.03256  98.64122 115.42391  94.19911 119.86602\n",
       "Feb 2022       96.43855  87.95356 104.92353  83.46188 109.41521\n",
       "Mar 2022       94.29273  85.71730 102.86816  81.17774 107.40772\n",
       "Apr 2022       81.20666  72.54382  89.86951  67.95799  94.45534"
      ]
     },
     "metadata": {},
     "output_type": "display_data"
    }
   ],
   "source": [
    "prevprodbebidas"
   ]
  },
  {
   "cell_type": "code",
   "execution_count": 273,
   "id": "9d240e00",
   "metadata": {},
   "outputs": [
    {
     "data": {
      "image/png": "[encoded data removed]",
      "text/plain": [
       "plot without title"
      ]
     },
     "metadata": {},
     "output_type": "display_data"
    }
   ],
   "source": [
    "autoplot(prevprodbebidas) +\n",
    "  theme_bw()"
   ]
  },
  {
   "cell_type": "markdown",
   "id": "6a95301c",
   "metadata": {},
   "source": [
    "### Estatísticas de acurácia do modelo"
   ]
  },
  {
   "cell_type": "code",
   "execution_count": 274,
   "id": "4588a868",
   "metadata": {},
   "outputs": [
    {
     "data": {
      "text/html": [
       "<table>\n",
       "<thead><tr><th></th><th scope=col>ME</th><th scope=col>RMSE</th><th scope=col>MAE</th><th scope=col>MPE</th><th scope=col>MAPE</th><th scope=col>MASE</th><th scope=col>ACF1</th><th scope=col>Theil's U</th></tr></thead>\n",
       "<tbody>\n",
       "\t<tr><th scope=row>Training set</th><td> 0.2754421 </td><td>5.032150   </td><td>3.576535   </td><td> 0.04480483</td><td>4.228811   </td><td>0.6297333  </td><td>0.0302036  </td><td>       NA  </td></tr>\n",
       "\t<tr><th scope=row>Test set</th><td>-1.4487435 </td><td>8.049874   </td><td>6.915202   </td><td>-1.62271540</td><td>7.259174   </td><td>1.2175843  </td><td>0.2701566  </td><td>0.9459907  </td></tr>\n",
       "</tbody>\n",
       "</table>\n"
      ],
      "text/latex": [
       "\\begin{tabular}{r|llllllll}\n",
       "  & ME & RMSE & MAE & MPE & MAPE & MASE & ACF1 & Theil's U\\\\\n",
       "\\hline\n",
       "\tTraining set &  0.2754421  & 5.032150    & 3.576535    &  0.04480483 & 4.228811    & 0.6297333   & 0.0302036   &        NA  \\\\\n",
       "\tTest set & -1.4487435  & 8.049874    & 6.915202    & -1.62271540 & 7.259174    & 1.2175843   & 0.2701566   & 0.9459907  \\\\\n",
       "\\end{tabular}\n"
      ],
      "text/markdown": [
       "\n",
       "| <!--/--> | ME | RMSE | MAE | MPE | MAPE | MASE | ACF1 | Theil's U |\n",
       "|---|---|---|---|---|---|---|---|---|\n",
       "| Training set |  0.2754421  | 5.032150    | 3.576535    |  0.04480483 | 4.228811    | 0.6297333   | 0.0302036   |        NA   |\n",
       "| Test set | -1.4487435  | 8.049874    | 6.915202    | -1.62271540 | 7.259174    | 1.2175843   | 0.2701566   | 0.9459907   |\n",
       "\n"
      ],
      "text/plain": [
       "             ME         RMSE     MAE      MPE         MAPE     MASE     \n",
       "Training set  0.2754421 5.032150 3.576535  0.04480483 4.228811 0.6297333\n",
       "Test set     -1.4487435 8.049874 6.915202 -1.62271540 7.259174 1.2175843\n",
       "             ACF1      Theil's U\n",
       "Training set 0.0302036        NA\n",
       "Test set     0.2701566 0.9459907"
      ]
     },
     "metadata": {},
     "output_type": "display_data"
    }
   ],
   "source": [
    "accuracy(prevprodbebidas, prodbebidasteste)"
   ]
  },
  {
   "cell_type": "code",
   "execution_count": 278,
   "id": "a8653e0d",
   "metadata": {},
   "outputs": [
    {
     "data": {
      "image/png": "[encoded data removed]",
      "text/plain": [
       "plot without title"
      ]
     },
     "metadata": {},
     "output_type": "display_data"
    }
   ],
   "source": [
    "plot(\n",
    "  autoplot(prodbebidastreino)+\n",
    "    autolayer(prodbebidasteste,serie=\"Valores Reais\")+\n",
    "    autolayer(prevprodbebidas$mean, serie=\"Forecast\")+\n",
    "    scale_colour_viridis_d()+\n",
    "    scale_y_continuous(labels=scales::comma)+\n",
    "    theme_bw()\n",
    ")"
   ]
  },
  {
   "cell_type": "markdown",
   "id": "435fd596",
   "metadata": {},
   "source": [
    "#### Avaliando o resultado obtido com a previsão e os valores reais é possível concluir que embora haja diferença entre os resultados o valor previsto ficou relativamente próximo aos reais. Os gráficos indicam que houve grande variação nos valores próximos a 2020, o que gerou divergência no padrão e possívelmente ocasionou o efeito de eterocidade nos dados."
   ]
  }
 ],
 "metadata": {
  "kernelspec": {
   "display_name": "R",
   "language": "R",
   "name": "ir"
  },
  "language_info": {
   "codemirror_mode": "r",
   "file_extension": ".r",
   "mimetype": "text/x-r-source",
   "name": "R",
   "pygments_lexer": "r",
   "version": "3.6.1"
  }
 },
 "nbformat": 4,
 "nbformat_minor": 5
}
